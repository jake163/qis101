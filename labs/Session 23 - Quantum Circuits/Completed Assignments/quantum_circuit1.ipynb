{
 "cells": [
  {
   "cell_type": "code",
   "execution_count": 3,
   "id": "635e333e-805a-4eb0-a85a-bd5745deaabb",
   "metadata": {},
   "outputs": [
    {
     "data": {
      "image/png": "[encoded data removed]",
      "text/plain": [
       "<Figure size 942.596x397.32 with 1 Axes>"
      ]
     },
     "metadata": {},
     "output_type": "display_data"
    },
    {
     "data": {
      "text/latex": [
       "$$\n",
       "\\text{Statevector 1} = \n",
       "\\begin{bmatrix}\n",
       "0 & 0 & 1 & 0 & 0 & 0 & 0 & 0  \\\\\n",
       " \\end{bmatrix}\n",
       "$$"
      ],
      "text/plain": [
       "<IPython.core.display.Latex object>"
      ]
     },
     "metadata": {},
     "output_type": "display_data"
    },
    {
     "data": {
      "text/latex": [
       "$$\n",
       "\\text{Statevector 2} = \n",
       "\\begin{bmatrix}\n",
       "0 & 0 & \\tfrac{1}{\\sqrt{2}} & \\tfrac{1}{\\sqrt{2}} & 0 & 0 & 0 & 0  \\\\\n",
       " \\end{bmatrix}\n",
       "$$"
      ],
      "text/plain": [
       "<IPython.core.display.Latex object>"
      ]
     },
     "metadata": {},
     "output_type": "display_data"
    },
    {
     "data": {
      "text/latex": [
       "$$\n",
       "\\text{Statevector 3} = \n",
       "\\begin{bmatrix}\n",
       "0 & \\tfrac{1}{\\sqrt{2}} & \\tfrac{1}{\\sqrt{2}} & 0 & 0 & 0 & 0 & 0  \\\\\n",
       " \\end{bmatrix}\n",
       "$$"
      ],
      "text/plain": [
       "<IPython.core.display.Latex object>"
      ]
     },
     "metadata": {},
     "output_type": "display_data"
    },
    {
     "data": {
      "text/latex": [
       "$$\n",
       "\\text{Statevector 4} = \n",
       "\\begin{bmatrix}\n",
       "0 & \\tfrac{1}{\\sqrt{2}} & 0 & 0 & \\tfrac{1}{\\sqrt{2}} & 0 & 0 & 0  \\\\\n",
       " \\end{bmatrix}\n",
       "$$"
      ],
      "text/plain": [
       "<IPython.core.display.Latex object>"
      ]
     },
     "metadata": {},
     "output_type": "display_data"
    },
    {
     "data": {
      "image/png": "[encoded data removed]",
      "text/plain": [
       "<Figure size 504x360 with 1 Axes>"
      ]
     },
     "execution_count": 3,
     "metadata": {},
     "output_type": "execute_result"
    }
   ],
   "source": [
    "# quantum_circuit1.ipynb\n",
    "\n",
    "# Cell 1\n",
    "\n",
    "import matplotlib.pyplot as plt\n",
    "import numpy as np\n",
    "import qiskit\n",
    "from IPython.display import Math\n",
    "from qiskit import (\n",
    "    Aer,\n",
    "    ClassicalRegister,\n",
    "    QuantumCircuit,\n",
    "    QuantumRegister,\n",
    "    assemble,\n",
    "    execute,\n",
    ")\n",
    "from qiskit.quantum_info import Statevector\n",
    "from qiskit.visualization import (\n",
    "    array_to_latex,\n",
    "    plot_bloch_multivector,\n",
    "    plot_histogram,\n",
    "    plot_state_qsphere,\n",
    ")\n",
    "\n",
    "backend = Aer.get_backend(\"aer_simulator\")\n",
    "qc = QuantumCircuit(3, 1)\n",
    "\n",
    "# TODO: Implement the circuit here\n",
    "qc.x(1)\n",
    "qc.save_statevector(\"sv1\")\n",
    "qc.h(0)\n",
    "qc.save_statevector(\"sv2\")\n",
    "qc.cx(0, 1)\n",
    "qc.save_statevector(\"sv3\")\n",
    "qc.swap(1, 2)\n",
    "\n",
    "qc.save_statevector()\n",
    "qc.measure(1, 0)\n",
    "\n",
    "result = execute(qc, backend, shots=10_000).result()\n",
    "counts = result.get_counts()\n",
    "\n",
    "sv1 = result.data(0)[\"sv1\"]\n",
    "sv2 = result.data(0)[\"sv2\"]\n",
    "sv3 = result.data(0)[\"sv3\"]\n",
    "sv4 = result.get_statevector()\n",
    "\n",
    "display(qc.draw(output=\"mpl\", scale=1.5))\n",
    "\n",
    "display(array_to_latex(sv1, prefix=\"\\\\text{Statevector 1} = \"))\n",
    "display(array_to_latex(sv2, prefix=\"\\\\text{Statevector 2} = \"))\n",
    "display(array_to_latex(sv3, prefix=\"\\\\text{Statevector 3} = \"))\n",
    "display(array_to_latex(sv4, prefix=\"\\\\text{Statevector 4} = \"))\n",
    "\n",
    "plot_histogram(counts)\n",
    "\n",
    "#We can see from statevector 4 display that the final output state is an equal amplitude\n",
    "#superposition of the form \n",
    "# (1 / sqrt(2)) * (|001> + |100>). We are measuring q1, and it is forbidden for q1 to be\n",
    "# a 1 since the state is not the statevector."
   ]
  },
  {
   "cell_type": "code",
   "execution_count": null,
   "id": "1d1d6f6a-1391-4205-beb4-1a975de5067a",
   "metadata": {},
   "outputs": [],
   "source": []
  }
 ],
 "metadata": {
  "kernelspec": {
   "display_name": "Python 3 (ipykernel)",
   "language": "python",
   "name": "python3"
  },
  "language_info": {
   "codemirror_mode": {
    "name": "ipython",
    "version": 3
   },
   "file_extension": ".py",
   "mimetype": "text/x-python",
   "name": "python",
   "nbconvert_exporter": "python",
   "pygments_lexer": "ipython3",
   "version": "3.9.13"
  }
 },
 "nbformat": 4,
 "nbformat_minor": 5
}
