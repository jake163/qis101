{
 "cells": [
  {
   "cell_type": "code",
   "execution_count": 3,
   "id": "5f004bd5-5089-4a01-ab3e-ef4134c7b9bc",
   "metadata": {},
   "outputs": [
    {
     "data": {
      "image/png": "[encoded data removed]",
      "text/plain": [
       "<Figure size 581.396x397.32 with 1 Axes>"
      ]
     },
     "metadata": {},
     "output_type": "display_data"
    },
    {
     "data": {
      "image/png": "[encoded data removed]",
      "text/plain": [
       "<Figure size 504x360 with 1 Axes>"
      ]
     },
     "execution_count": 3,
     "metadata": {},
     "output_type": "execute_result"
    }
   ],
   "source": [
    "# boolean_gates.ipynb\n",
    "\n",
    "# Cell 1 - Boolean AND Gate\n",
    "\n",
    "import matplotlib.pyplot as plt\n",
    "import numpy as np\n",
    "import qiskit\n",
    "from IPython.display import Math\n",
    "from qiskit import Aer, QuantumCircuit, assemble, execute\n",
    "from qiskit.quantum_info import Statevector\n",
    "from qiskit.visualization import (\n",
    "    array_to_latex,\n",
    "    plot_bloch_multivector,\n",
    "    plot_histogram,\n",
    "    plot_state_qsphere,\n",
    ")\n",
    "\n",
    "backend = Aer.get_backend(\"aer_simulator\")\n",
    "qc = QuantumCircuit(3, 1) #3 qubits. One of them, the ancilla bit, is for reversibility. \n",
    "#1 classical bit\n",
    "\n",
    "qc.x(0) #apply x gate to qubit zero\n",
    "qc.x(1) \n",
    "qc.barrier() #allows quantum computer to pause and stabilize\n",
    "\n",
    "qc.ccx(0, 1, 2) #NOT on qubit 2, controlled by qubits 1 and 2\n",
    "qc.barrier()\n",
    "\n",
    "qc.measure(2, 0) #measure qubit 2\n",
    "\n",
    "result = execute(qc, backend, shots=1).result()\n",
    "counts = result.get_counts()\n",
    "\n",
    "display(qc.draw(output=\"mpl\", scale=1.5))\n",
    "plot_histogram(counts)"
   ]
  },
  {
   "cell_type": "code",
   "execution_count": null,
   "id": "6dc14b08-eda0-49a8-96a9-5249c2d4aaa6",
   "metadata": {},
   "outputs": [],
   "source": [
    "# Cell 2 - Boolean OR Gate\n",
    "\n",
    "backend = Aer.get_backend(\"aer_simulator\")\n",
    "qc = QuantumCircuit(3, 1)\n",
    "\n",
    "# qc.x(0)\n",
    "# qc.x(1)\n",
    "\n",
    "qc.barrier()\n",
    "\n",
    "qc.x(0)\n",
    "qc.x(1)\n",
    "qc.x(2)\n",
    "\n",
    "qc.ccx(0, 1, 2)\n",
    "\n",
    "qc.x(0)\n",
    "qc.x(1)\n",
    "\n",
    "qc.barrier()\n",
    "\n",
    "qc.measure(2, 0)\n",
    "\n",
    "result = execute(qc, backend, shots=1).result()\n",
    "counts = result.get_counts()\n",
    "\n",
    "display(qc.draw(output=\"mpl\", scale=1.5))\n",
    "plot_histogram(counts)"
   ]
  },
  {
   "cell_type": "code",
   "execution_count": null,
   "id": "f567c3f0-2a13-43e8-8ff1-201e2e8987e1",
   "metadata": {},
   "outputs": [],
   "source": [
    "# Cell 3 - Feynman's Full Adder (1985)\n",
    "\n",
    "backend = Aer.get_backend(\"aer_simulator\")\n",
    "qc = QuantumCircuit(4) #initialize four qubits in the zero state\n",
    "\n",
    "qc.ccx(0, 1, 3)\n",
    "qc.cx(0, 1)\n",
    "qc.ccx(1, 2, 3)\n",
    "qc.cx(1, 2)\n",
    "qc.measure_all() #measure all qubits at the end\n",
    "\n",
    "display(qc.draw(output=\"mpl\", scale=1.5))"
   ]
  },
  {
   "cell_type": "code",
   "execution_count": null,
   "id": "2f772227-99c8-4506-a05d-7271053d95a5",
   "metadata": {},
   "outputs": [],
   "source": [
    "# Cell 4 - Generate truth table for Feynman's Full Adder\n",
    "\n",
    "\n",
    "def full_carry(a, b, c_in):\n",
    "    backend = Aer.get_backend(\"aer_simulator\")\n",
    "    qc = QuantumCircuit(4)\n",
    "\n",
    "    # Initialize input bit to one if necessary\n",
    "    if a == 1: #NOT on qubit zero if intialized to zero\n",
    "        qc.x(0)\n",
    "    if b == 1:\n",
    "        qc.x(1)\n",
    "    if c_in == 1:\n",
    "        qc.x(2)\n",
    "\n",
    "    qc.ccx(0, 1, 3) #implements CNOTs and CCNOTs according to circuit order\n",
    "    qc.cx(0, 1) \n",
    "    qc.ccx(1, 2, 3)\n",
    "    qc.cx(1, 2)\n",
    "    qc.measure_all()\n",
    "\n",
    "    qc.save_statevector()\n",
    "    result = execute(qc, backend, shots=1).result()\n",
    "    final_state = result.get_statevector()\n",
    "    counts = result.get_counts()\n",
    "    return counts #function returns the measurement counts\n",
    "\n",
    "\n",
    "print(\"|c_in| b | a |  |c_out| s |\") #print out the truth table of the circuit\n",
    "print(\"|----|---|---|  |-----|---|\")\n",
    "\n",
    "for c_in in [0, 1]: #prints all outputs for input permutations of full_carry\n",
    "    for b in [0, 1]:\n",
    "        for a in [0, 1]:\n",
    "            c_out, s = list(full_carry(a, b, c_in))[0][:2]\n",
    "            print(f\"|  {c_in} | {b} | {a} |  |  {c_out}  | {s} |\")"
   ]
  }
 ],
 "metadata": {
  "kernelspec": {
   "display_name": "Python 3 (ipykernel)",
   "language": "python",
   "name": "python3"
  },
  "language_info": {
   "codemirror_mode": {
    "name": "ipython",
    "version": 3
   },
   "file_extension": ".py",
   "mimetype": "text/x-python",
   "name": "python",
   "nbconvert_exporter": "python",
   "pygments_lexer": "ipython3",
   "version": "3.9.13"
  }
 },
 "nbformat": 4,
 "nbformat_minor": 5
}
