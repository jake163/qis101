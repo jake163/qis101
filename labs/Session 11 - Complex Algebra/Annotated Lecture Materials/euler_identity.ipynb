{
 "cells": [
  {
   "cell_type": "code",
   "execution_count": 1,
   "id": "f22660c7",
   "metadata": {},
   "outputs": [
    {
     "data": {
      "text/latex": [
       "$\\displaystyle \\Large e^{0.000000+3.141593j} = -1.000000-0.000000j$"
      ],
      "text/plain": [
       "<IPython.core.display.Math object>"
      ]
     },
     "metadata": {},
     "output_type": "display_data"
    }
   ],
   "source": [
    "# euler_identity.ipynb\n",
    "# Cell 1\n",
    "\n",
    "import numpy as np\n",
    "from IPython.display import Math\n",
    "\n",
    "z = complex(0, np.pi) #i.e. z = pi(i)\n",
    "ez = 0 #starting at 0\n",
    "\n",
    "for p in range(0, 20): #list going from 0 to 19\n",
    "    ez += np.power(z, p) / np.math.factorial(p) #defining the power series of ez\n",
    "\n",
    "display(Math(rf\"\\Large e^{{{z:.6f}}} = {ez:.6f}\"))"
   ]
  },
  {
   "cell_type": "code",
   "execution_count": null,
   "id": "12f3143c-65fa-4f0b-b273-466b9378a693",
   "metadata": {},
   "outputs": [],
   "source": []
  }
 ],
 "metadata": {
  "kernelspec": {
   "display_name": "Python 3 (ipykernel)",
   "language": "python",
   "name": "python3"
  },
  "language_info": {
   "codemirror_mode": {
    "name": "ipython",
    "version": 3
   },
   "file_extension": ".py",
   "mimetype": "text/x-python",
   "name": "python",
   "nbconvert_exporter": "python",
   "pygments_lexer": "ipython3",
   "version": "3.10.4"
  }
 },
 "nbformat": 4,
 "nbformat_minor": 5
}
