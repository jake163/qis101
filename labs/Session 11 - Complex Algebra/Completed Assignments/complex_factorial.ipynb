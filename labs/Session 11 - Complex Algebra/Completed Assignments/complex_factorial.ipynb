{
 "cells": [
  {
   "cell_type": "code",
   "execution_count": 1,
   "id": "6389e3f8-4b74-47ba-b86e-39cc030cc0d7",
   "metadata": {},
   "outputs": [
    {
     "data": {
      "text/latex": [
       "$\\displaystyle i! = 0.4980 -0.1549i$"
      ],
      "text/plain": [
       "<IPython.core.display.Math object>"
      ]
     },
     "metadata": {},
     "output_type": "display_data"
    },
    {
     "data": {
      "text/latex": [
       "$\\displaystyle e^{i!} = 1.6257- 0.2539i$"
      ],
      "text/plain": [
       "<IPython.core.display.Math object>"
      ]
     },
     "metadata": {},
     "output_type": "display_data"
    },
    {
     "data": {
      "text/latex": [
       "$\\displaystyle e^{{\\pi}(i!)} \\ \\ + 1 = 5.2253 - 0.2875i$"
      ],
      "text/plain": [
       "<IPython.core.display.Math object>"
      ]
     },
     "metadata": {},
     "output_type": "display_data"
    }
   ],
   "source": [
    "# complex_factorial.ipynb\n",
    "# Cell 1\n",
    "\n",
    "import numpy as np\n",
    "import scipy.integrate as itg\n",
    "from IPython.display import Math\n",
    "\n",
    "def gamma_integrands():\n",
    "    f1 = lambda x: np.cos(np.log(x)) * np.exp(-x) #define the two integrands:\n",
    "    #lamba specifies a function that has an (undefined) input x\n",
    "    f2 = lambda x: np.sin(np.log(x)) * np.exp(-x)\n",
    "    return f1, f2\n",
    "\n",
    "def gamma_integrate(f1, f2):\n",
    "    integral1 = itg.quad(f1, 0, np.inf)[0] #define the two integrals using scipy integrate\n",
    "    #functions. np.inf is the \"number\" for infinity\n",
    "    integral2 = itg.quad(f2, 0, np.inf)[0]\n",
    "    return integral1, integral2 #I use these for i!\n",
    "\n",
    "def not_euler_identity(integral1, integral2):\n",
    "    term1 = (np.exp(np.pi * integral1) * np.cos(np.pi * abs(integral2))) + 1 #real term\n",
    "    term2 = np.exp(np.pi * integral2) * np.sin(np.pi * abs(integral2)) #imag term\n",
    "    return term1, term2 \n",
    "#if i! = a - ib, then e^(i!) = e^a * e^-ib. Use euler's formula on e^-ib to get\n",
    "# e^a(cos(b) - isin(b)), then you're in business. To implement e^((pi)i!) + 1, we find\n",
    "# e^((pi)a)[cos((pi)b) - isin((pi)b)] and add the integer 1 to the real term. \n",
    "    \n",
    "def main():\n",
    "    f1, f2 = gamma_integrands()    \n",
    "    integral1, integral2 = gamma_integrate(f1, f2)\n",
    "    if integral2 < 0: #display equations correctly, depending on the sign of integral2\n",
    "        display(Math(rf\"i! = {integral1:.4f} {integral2:.4f}i\")) #terms will have 4 decimal\n",
    "        # points, equation is in LaTeX font\n",
    "    if integral2 > 0:\n",
    "        display(Math(rf\"i! = {integral1:.4f} + {integral2:.4f}i\"))\n",
    "    display(Math(rf\"e^{{i!}} = {np.exp(integral1) * np.cos(abs(integral2)):.4f}\"\n",
    "            rf\"- {np.exp(integral1) * np.sin(abs(integral2)):.4f}i\"))\n",
    "    #above prints the e^i! number\n",
    "    term1, term2 = not_euler_identity(integral1, integral2)\n",
    "    display(Math(rf\"e^{{{{\\pi}}(i!)}} \\ \\ + 1 = {term1:.4f} - {term2:.4f}i\"))\n",
    "    #print results from not_euler_identitiy\n",
    "\n",
    "main()"
   ]
  },
  {
   "cell_type": "code",
   "execution_count": null,
   "id": "382679d9-aaa1-4c5e-8a62-8d7c65cabb77",
   "metadata": {},
   "outputs": [],
   "source": []
  },
  {
   "cell_type": "code",
   "execution_count": null,
   "id": "e84f39e7-297b-412d-b58b-9dd9cfa29bd6",
   "metadata": {},
   "outputs": [],
   "source": []
  }
 ],
 "metadata": {
  "kernelspec": {
   "display_name": "Python 3 (ipykernel)",
   "language": "python",
   "name": "python3"
  },
  "language_info": {
   "codemirror_mode": {
    "name": "ipython",
    "version": 3
   },
   "file_extension": ".py",
   "mimetype": "text/x-python",
   "name": "python",
   "nbconvert_exporter": "python",
   "pygments_lexer": "ipython3",
   "version": "3.10.4"
  }
 },
 "nbformat": 4,
 "nbformat_minor": 5
}
