{
 "cells": [
  {
   "cell_type": "code",
   "execution_count": null,
   "id": "711caeff-3aef-4455-9d5c-2ee557477e6d",
   "metadata": {},
   "outputs": [],
   "source": [
    "# complex_factorization.ipynb\n",
    "# Cell 1\n",
    "\n",
    "import numpy as np\n",
    "from IPython.display import Math\n",
    "from sympy import prime\n",
    "\n",
    "num_odd_primes = 25\n",
    "\n",
    "# Use a list comprehension to generate the first 'n' odd primes\n",
    "# Note: in sympy, prime(1) = 2, prime(2) = 3, etc.\n",
    "primes = [prime(n) for n in range(2, num_odd_primes + 2)]\n",
    "\n",
    "for p in primes:\n",
    "    for a in range(1, int(np.sqrt(p))):\n",
    "        b = np.sqrt(p - a**2)\n",
    "        if b == np.floor(b):\n",
    "            z1 = complex(a, b)\n",
    "            z2 = complex(a, -b)\n",
    "            display(Math(rf\"{p:>3} = {z1}{z2}\"))\n",
    "            break"
   ]
  }
 ],
 "metadata": {
  "interpreter": {
   "hash": "4431dc44d4f2686070e0fc53d953ad3cc7928e817d4e69983712ddc54c23870a"
  },
  "kernelspec": {
   "display_name": "Python 3 (ipykernel)",
   "language": "python",
   "name": "python3"
  },
  "language_info": {
   "codemirror_mode": {
    "name": "ipython",
    "version": 3
   },
   "file_extension": ".py",
   "mimetype": "text/x-python",
   "name": "python",
   "nbconvert_exporter": "python",
   "pygments_lexer": "ipython3",
   "version": "3.9.13"
  }
 },
 "nbformat": 4,
 "nbformat_minor": 5
}
