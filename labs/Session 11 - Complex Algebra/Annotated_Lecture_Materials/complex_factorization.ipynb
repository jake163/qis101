{
 "cells": [
  {
   "cell_type": "code",
<<<<<<< HEAD
   "execution_count": 1,
   "id": "711caeff-3aef-4455-9d5c-2ee557477e6d",
   "metadata": {},
   "outputs": [
    {
     "data": {
      "text/latex": [
       "$\\displaystyle   5 = (1+2j)(1-2j)$"
      ],
      "text/plain": [
       "<IPython.core.display.Math object>"
      ]
     },
     "metadata": {},
     "output_type": "display_data"
    },
    {
     "data": {
      "text/latex": [
       "$\\displaystyle  13 = (2+3j)(2-3j)$"
      ],
      "text/plain": [
       "<IPython.core.display.Math object>"
      ]
     },
     "metadata": {},
     "output_type": "display_data"
    },
    {
     "data": {
      "text/latex": [
       "$\\displaystyle  17 = (1+4j)(1-4j)$"
      ],
      "text/plain": [
       "<IPython.core.display.Math object>"
      ]
     },
     "metadata": {},
     "output_type": "display_data"
    },
    {
     "data": {
      "text/latex": [
       "$\\displaystyle  29 = (2+5j)(2-5j)$"
      ],
      "text/plain": [
       "<IPython.core.display.Math object>"
      ]
     },
     "metadata": {},
     "output_type": "display_data"
    },
    {
     "data": {
      "text/latex": [
       "$\\displaystyle  37 = (1+6j)(1-6j)$"
      ],
      "text/plain": [
       "<IPython.core.display.Math object>"
      ]
     },
     "metadata": {},
     "output_type": "display_data"
    },
    {
     "data": {
      "text/latex": [
       "$\\displaystyle  41 = (4+5j)(4-5j)$"
      ],
      "text/plain": [
       "<IPython.core.display.Math object>"
      ]
     },
     "metadata": {},
     "output_type": "display_data"
    },
    {
     "data": {
      "text/latex": [
       "$\\displaystyle  53 = (2+7j)(2-7j)$"
      ],
      "text/plain": [
       "<IPython.core.display.Math object>"
      ]
     },
     "metadata": {},
     "output_type": "display_data"
    },
    {
     "data": {
      "text/latex": [
       "$\\displaystyle  61 = (5+6j)(5-6j)$"
      ],
      "text/plain": [
       "<IPython.core.display.Math object>"
      ]
     },
     "metadata": {},
     "output_type": "display_data"
    },
    {
     "data": {
      "text/latex": [
       "$\\displaystyle  73 = (3+8j)(3-8j)$"
      ],
      "text/plain": [
       "<IPython.core.display.Math object>"
      ]
     },
     "metadata": {},
     "output_type": "display_data"
    },
    {
     "data": {
      "text/latex": [
       "$\\displaystyle  89 = (5+8j)(5-8j)$"
      ],
      "text/plain": [
       "<IPython.core.display.Math object>"
      ]
     },
     "metadata": {},
     "output_type": "display_data"
    },
    {
     "data": {
      "text/latex": [
       "$\\displaystyle  97 = (4+9j)(4-9j)$"
      ],
      "text/plain": [
       "<IPython.core.display.Math object>"
      ]
     },
     "metadata": {},
     "output_type": "display_data"
    },
    {
     "data": {
      "text/latex": [
       "$\\displaystyle 101 = (1+10j)(1-10j)$"
      ],
      "text/plain": [
       "<IPython.core.display.Math object>"
      ]
     },
     "metadata": {},
     "output_type": "display_data"
    }
   ],
=======
   "execution_count": null,
   "id": "711caeff-3aef-4455-9d5c-2ee557477e6d",
   "metadata": {},
   "outputs": [],
>>>>>>> 3d4203cf81df90710a19eeb8d975afb63596b367
   "source": [
    "# complex_factorization.ipynb\n",
    "# Cell 1\n",
    "\n",
    "import numpy as np\n",
    "from IPython.display import Math\n",
<<<<<<< HEAD
    "from sympy import prime #from sympy library import prime module\n",
    "\n",
    "num_odd_primes = 25 #want to check the first 25 odd primes\n",
    "\n",
    "# Use a list comprehension to generate the first 'n' odd primes\n",
    "# Note: in sympy, prime(1) = 2, prime(2) = 3, etc.\n",
    "primes = [prime(n) for n in range(2, num_odd_primes + 2)] #this generates our list of \n",
    "#the first 25 prime numbers\n",
    "\n",
    "for p in primes:\n",
    "    for a in range(1, int(np.sqrt(p))): #check all a from 1 to root(p)\n",
    "        b = np.sqrt(p - a**2)\n",
    "        if b == np.floor(b): #if b is an integer, for the given a\n",
    "            z1 = complex(a, b)\n",
    "            z2 = complex(a, -b)\n",
    "            display(Math(rf\"{p:>3} = {z1}{z2}\")) #show the complex factorization for the\n",
    "            #primes that are factorable\n",
    "            break"
   ]
  },
  {
   "cell_type": "code",
   "execution_count": null,
   "id": "db7bdbb2-30c8-4d0c-9774-0d5fd5b35cc8",
   "metadata": {},
   "outputs": [],
   "source": []
=======
    "from sympy import prime\n",
    "\n",
    "num_odd_primes = 25\n",
    "\n",
    "# Use a list comprehension to generate the first 'n' odd primes\n",
    "# Note: in sympy, prime(1) = 2, prime(2) = 3, etc.\n",
    "primes = [prime(n) for n in range(2, num_odd_primes + 2)]\n",
    "\n",
    "for p in primes:\n",
    "    for a in range(1, int(np.sqrt(p))):\n",
    "        b = np.sqrt(p - a**2)\n",
    "        if b == np.floor(b):\n",
    "            z1 = complex(a, b)\n",
    "            z2 = complex(a, -b)\n",
    "            display(Math(rf\"{p:>3} = {z1}{z2}\"))\n",
    "            break"
   ]
>>>>>>> 3d4203cf81df90710a19eeb8d975afb63596b367
  }
 ],
 "metadata": {
  "interpreter": {
   "hash": "4431dc44d4f2686070e0fc53d953ad3cc7928e817d4e69983712ddc54c23870a"
  },
  "kernelspec": {
   "display_name": "Python 3 (ipykernel)",
   "language": "python",
   "name": "python3"
  },
  "language_info": {
   "codemirror_mode": {
    "name": "ipython",
    "version": 3
   },
   "file_extension": ".py",
   "mimetype": "text/x-python",
   "name": "python",
   "nbconvert_exporter": "python",
   "pygments_lexer": "ipython3",
<<<<<<< HEAD
   "version": "3.10.4"
=======
   "version": "3.9.13"
>>>>>>> 3d4203cf81df90710a19eeb8d975afb63596b367
  }
 },
 "nbformat": 4,
 "nbformat_minor": 5
}
