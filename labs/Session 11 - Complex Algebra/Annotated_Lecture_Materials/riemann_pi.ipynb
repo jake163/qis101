{
 "cells": [
  {
   "cell_type": "code",
   "execution_count": null,
   "id": "e3e11c5b-b005-4278-bd90-df370b9110eb",
   "metadata": {},
   "outputs": [],
   "source": [
    "# riemann_pi.ipynb\n",
    "# Cell 1\n",
    "\n",
    "import numpy as np\n",
    "import sympy\n",
    "from IPython.display import Math\n",
    "\n",
    "for n in range(1, 10):\n",
    "\n",
    "    # Use sympy to calculate the Riemann Pi for 10^n\n",
    "    riemann_pi = int(sympy.primepi(10**n))\n",
    "\n",
    "    display(Math(rf\"\\pi(10^{n}) = {riemann_pi:,}\"))\n",
    "    #displays number of primes less than 10 ^ n"
   ]
  }
 ],
 "metadata": {
  "kernelspec": {
   "display_name": "Python 3 (ipykernel)",
   "language": "python",
   "name": "python3"
  },
  "language_info": {
   "codemirror_mode": {
    "name": "ipython",
    "version": 3
   },
   "file_extension": ".py",
   "mimetype": "text/x-python",
   "name": "python",
   "nbconvert_exporter": "python",
   "pygments_lexer": "ipython3",
   "version": "3.10.4"
  }
 },
 "nbformat": 4,
 "nbformat_minor": 5
}
