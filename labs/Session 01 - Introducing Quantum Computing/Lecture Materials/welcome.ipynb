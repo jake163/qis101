{
 "cells": [
  {
   "cell_type": "code",
   "execution_count": null,
   "id": "fba52bdc-3f8d-4440-9d5a-ee8c4b261964",
   "metadata": {},
   "outputs": [],
   "source": [
    "# welcome.ipynb\n",
    "\n",
    "# Foundations of Quantum Information Science (QIS101)\n",
    "# Courseware developed by Dave Biersach (dbiersach@bnl.gov)\n",
    "\n",
    "%matplotlib widget\n",
    "\n",
    "import matplotlib.pyplot as plt\n",
    "import numpy as np\n",
    "\n",
    "x = np.linspace(-2, 2, 500)\n",
    "f_top = np.sqrt(1 - (np.abs(x) - 1) ** 2)\n",
    "f_bot = np.arccos(1 - np.abs(x)) - np.pi\n",
    "\n",
    "fig = plt.figure(\" \")\n",
    "ax = fig.gca()\n",
    "ax.plot(x, f_top, color=\"red\")\n",
    "ax.plot(x, f_bot, color=\"red\")\n",
    "\n",
    "ax.set_xlim(-3.5, 3.5)\n",
    "ax.set_ylim(-3.5, 1.5)\n",
    "\n",
    "ax.set_title(\"Welcome to the Foundations of Quantum Information Science!\")\n",
    "ax.set_aspect(\"equal\")\n",
    "\n",
    "\n",
    "plt.show()"
   ]
  }
 ],
 "metadata": {
  "kernelspec": {
   "display_name": "Python 3 (ipykernel)",
   "language": "python",
   "name": "python3"
  },
  "language_info": {
   "codemirror_mode": {
    "name": "ipython",
    "version": 3
   },
   "file_extension": ".py",
   "mimetype": "text/x-python",
   "name": "python",
   "nbconvert_exporter": "python",
   "pygments_lexer": "ipython3",
   "version": "3.10.4"
  }
 },
 "nbformat": 4,
 "nbformat_minor": 5
}
