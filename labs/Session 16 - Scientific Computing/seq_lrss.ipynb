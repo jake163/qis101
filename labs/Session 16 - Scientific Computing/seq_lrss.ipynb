{
 "cells": [
  {
   "cell_type": "code",
   "execution_count": 1,
   "id": "f1be6405-3689-4ae7-b172-e7b68a3e8062",
   "metadata": {},
   "outputs": [
    {
     "name": "stdout",
     "output_type": "stream",
     "text": [
      "Analyzing seq1.txt . . .\n",
      "Longest repeated substring: ACAAG \n"
     ]
    }
   ],
   "source": [
    "# seq_lrss.ipynb\n",
    "\n",
    "# Cell 1 - Implement Longest Recuring Substring (LRSS) Algorithm\n",
    "\n",
    "import os\n",
    "import re\n",
    "import sys\n",
    "\n",
    "\n",
    "def match(s1, s2):\n",
    "    if len(s1) > len(s2):\n",
    "        s1, s2 = s2, s1\n",
    "    s3 = \"\"\n",
    "    for i in range(len(s1)):\n",
    "        if s1[i] == s2[i]:\n",
    "            s3 += s1[i]\n",
    "        else:\n",
    "            break\n",
    "    return s3\n",
    "\n",
    "\n",
    "def lrss(seq):\n",
    "    # Step 1 - Form the suffixes list\n",
    "    suffixes = []\n",
    "    for i in range(len(seq)):\n",
    "        suffixes.append(seq[i:])\n",
    "\n",
    "    # Step 2 - Sort the suffixes list\n",
    "    suffixes.sort()\n",
    "\n",
    "    # Step 3 - Scan the suffixes list\n",
    "    longest = \"\"\n",
    "    for i in range(len(suffixes) - 1):\n",
    "        s1 = suffixes[i]\n",
    "        s2 = suffixes[i + 1]\n",
    "        candidate = match(s1, s2)\n",
    "        if len(candidate) > len(longest):\n",
    "            longest = candidate\n",
    "\n",
    "    return longest\n",
    "\n",
    "\n",
    "def analyze_file(file_name):\n",
    "    with open(file_name, \"rb\") as f_in:\n",
    "        print(f\"Analyzing {file_name} . . .\")\n",
    "\n",
    "        # Read in text file into an array of file bytes\n",
    "        f_bytes = bytearray(f_in.read())\n",
    "\n",
    "        # Enforce uppercase and remove non-letters, convert to UTF-8\n",
    "        seq = bytearray(f_bytes).decode().upper()\n",
    "        seq = re.compile(\"[^A-Z]\").sub(\"\", seq)\n",
    "\n",
    "        # Find and print the longest repeated sub-string (lrss)\n",
    "        longest = lrss(seq)\n",
    "        print(f\"Longest repeated substring: {longest} \")\n",
    "\n",
    "\n",
    "analyze_file(\"seq1.txt\")"
   ]
  },
  {
   "cell_type": "code",
   "execution_count": 2,
   "id": "11a9392d-3b18-4a1d-8edf-94f801685e83",
   "metadata": {},
   "outputs": [
    {
     "name": "stdout",
     "output_type": "stream",
     "text": [
      "Analyzing fruitfly.txt . . .\n",
      "Longest repeated substring: CAATCACCATA \n"
     ]
    }
   ],
   "source": [
    "# Cell 2\n",
    "\n",
    "analyze_file(\"fruitfly.txt\")"
   ]
  },
  {
   "cell_type": "code",
   "execution_count": null,
   "id": "699a567d-c7d8-431b-b0b5-d15cf35c3be0",
   "metadata": {},
   "outputs": [],
   "source": []
  }
 ],
 "metadata": {
  "kernelspec": {
   "display_name": "Python 3 (ipykernel)",
   "language": "python",
   "name": "python3"
  },
  "language_info": {
   "codemirror_mode": {
    "name": "ipython",
    "version": 3
   },
   "file_extension": ".py",
   "mimetype": "text/x-python",
   "name": "python",
   "nbconvert_exporter": "python",
   "pygments_lexer": "ipython3",
   "version": "3.9.13"
  }
 },
 "nbformat": 4,
 "nbformat_minor": 5
}
