{
 "cells": [
  {
   "cell_type": "code",
   "execution_count": null,
   "id": "d9b6afbc-6279-45dd-9a11-85e5758bd725",
   "metadata": {},
   "outputs": [],
   "source": [
    "# stoichiometry.ipynb\n",
    "\n",
    "# Cell 1 - Integer Optimization\n",
    "\n",
    "import pulp\n",
    "\n",
    "\n",
    "def init_prob(terms):\n",
    "    # The goal is to minimize total atom count (POAC)\n",
    "    # https://www.quantumstudy.com/chemistry/stoichiometry\n",
    "    prob = pulp.LpProblem(sense=pulp.LpMinimize)\n",
    "\n",
    "    # Create decision variables (terms in chemical equation, +1 if ionic)\n",
    "    # Each term coefficient must ultimately be an integer > 1\n",
    "    x0, x1, x2, x3, x4, x5 = ((None),) * 6\n",
    "    if terms >= 4:\n",
    "        x0 = pulp.LpVariable(name=\"x0\", lowBound=1, cat=\"Integer\")\n",
    "        x1 = pulp.LpVariable(name=\"x1\", lowBound=1, cat=\"Integer\")\n",
    "        x2 = pulp.LpVariable(name=\"x2\", lowBound=1, cat=\"Integer\")\n",
    "        x3 = pulp.LpVariable(name=\"x3\", lowBound=1, cat=\"Integer\")\n",
    "    if terms >= 5:\n",
    "        x4 = pulp.LpVariable(name=\"x4\", lowBound=1, cat=\"Integer\")\n",
    "    if terms >= 6:\n",
    "        x5 = pulp.LpVariable(name=\"x5\", lowBound=1, cat=\"Integer\")\n",
    "\n",
    "    # Define objective function based upon number of terms\n",
    "    if terms == 4:\n",
    "        prob += x0 + x1 + x2 + x3\n",
    "        return prob, x0, x1, x2, x3\n",
    "    elif terms == 5:\n",
    "        prob += x0 + x1 + x2 + x3 + x4\n",
    "        return prob, x0, x1, x2, x3, x4\n",
    "    elif terms == 6:\n",
    "        prob += x0 + x1 + x2 + x3 + x4 + x5\n",
    "        return prob, x0, x1, x2, x3, x4, x5\n",
    "\n",
    "\n",
    "def solve_prob(prob, *x):\n",
    "    status = prob.solve()\n",
    "\n",
    "    # Display if solution found is optimal, feasible, or infeasible\n",
    "    print(pulp.LpStatus[status])\n",
    "\n",
    "    # Display the final value of the decision variables\n",
    "    if len(x[0]) >= 4:\n",
    "        print(f\"x0 = {int(pulp.value(x[0][0]))}\")\n",
    "        print(f\"x1 = {int(pulp.value(x[0][1]))}\")\n",
    "        print(f\"x2 = {int(pulp.value(x[0][2]))}\")\n",
    "        print(f\"x3 = {int(pulp.value(x[0][3]))}\")\n",
    "    if len(x[0]) >= 5:\n",
    "        print(f\"x4 = {int(pulp.value(x[0][4]))}\")\n",
    "    if len(x[0]) >= 6:\n",
    "        print(f\"x5 = {int(pulp.value(x[0][5]))}\")\n",
    "\n",
    "\n",
    "# Equation 1: MnO4(-) + H2O2 + H(+) -> Mn(2+) + O2 + H2O\n",
    "\n",
    "prob, *x = init_prob(terms=6)\n",
    "prob += x[0] == x[3]  # Manganese (Mn)\n",
    "prob += 4 * x[0] + 2 * x[1] == 2 * x[4] + x[5]  # Oxygen (O)\n",
    "prob += 2 * x[1] + x[2] == 2 * x[5]  # Hydrogen (H)\n",
    "prob += -x[0] + x[2] == 2 * x[3]  # Ionic Charges\n",
    "solve_prob(prob, x)"
   ]
  },
  {
   "cell_type": "code",
   "execution_count": null,
   "id": "f5391a94-938b-473e-94fe-cf86248119fc",
   "metadata": {},
   "outputs": [],
   "source": [
    "# Cell 2: Cr2O7(2−) + H(+) + H2C2O4 -> Cr(3+) + H2O + CO2\n",
    "\n",
    "prob, *x = init_prob(terms=6)\n",
    "prob += 2 * x[0] == x[3]  # Chromium (Cr)\n",
    "prob += 7 * x[0] + 4 * x[2] == x[4] + 2 * x[5]  # Oxygen (O)\n",
    "prob += x[1] + 2 * x[2] == 2 * x[4]  # Hydrogen (H)\n",
    "prob += 2 * x[2] == x[5]  # Carbon (C)\n",
    "prob += -2 * x[0] + x[1] == 3 * x[3]  # Ionic Charges\n",
    "solve_prob(prob, x)"
   ]
  },
  {
   "cell_type": "code",
   "execution_count": null,
   "id": "9fd47fd1-d3e6-48b9-b299-3a6b55840edd",
   "metadata": {},
   "outputs": [],
   "source": [
    "# Cell 3: HNO3 + Ca(OH)2 -> Ca(NO3)2 + H2O\n",
    "\n",
    "prob, *x = init_prob(terms=4)\n",
    "prob += x[0] + 2 * x[1] == 2 * x[3]  # Hydrogen (H)\n",
    "prob += x[0] == 2 * x[2]  # Nitrogen (N)\n",
    "prob += 3 * x[0] + 2 * x[1] == 6 * x[2] + x[3]  # Oxygen (O)\n",
    "prob += x[1] == x[2]  # Calcium (Ca)\n",
    "solve_prob(prob, x)"
   ]
  },
  {
   "cell_type": "code",
   "execution_count": null,
   "id": "eb69b5bc-271b-4c04-9dba-84152f69538e",
   "metadata": {},
   "outputs": [],
   "source": [
    "# Cell 4: MnO4(-) + Fe(2+) + H(+) -> Mn(2+) + Fe(3+) + H2O\n",
    "\n",
    "prob, *x = init_prob(terms=6)\n",
    "prob += x[0] == x[3]  # Manganese (Mn)\n",
    "prob += 4 * x[0] == x[5]  # Oxygen (O)\n",
    "prob += x[1] == x[4]  # Iron (Fe)\n",
    "prob += x[2] == 2 * x[5]  # Hydrogen (H)\n",
    "prob += -x[0] + 2 * x[1] + x[2] == 2 * x[3] + 3 * x[4]  # Ionic Charges\n",
    "solve_prob(prob, x)"
   ]
  },
  {
   "cell_type": "code",
   "execution_count": null,
   "id": "93de3e37-c184-4207-9425-a4065b17f10d",
   "metadata": {},
   "outputs": [],
   "source": [
    "# Cell 5: C7H6O2 + O2 -> CO2 + H2O\n",
    "\n",
    "prob, *x = init_prob(terms=4)\n",
    "prob += 7 * x[0] == x[2]  # Carbon (C)\n",
    "prob += 6 * x[0] == 2 * x[3]  # Hydrogen (H)\n",
    "prob += 2 * x[0] + 2 * x[1] == 2 * x[2] + x[3]  # Oxygen (O)\n",
    "solve_prob(prob, x)"
   ]
  },
  {
   "cell_type": "code",
   "execution_count": null,
   "id": "8af38c09-7926-47d7-85b6-f73a948563ec",
   "metadata": {},
   "outputs": [],
   "source": [
    "# Cell 6: P2I4 + P4 + H20 -> PH4I + H3PO4\n",
    "\n",
    "prob, *x = init_prob(terms=5)\n",
    "prob += 2 * x[0] + 4 * x[1] == x[3] + x[4]  # Phosphorus (P)\n",
    "prob += 4 * x[0] == x[3]  # Iodine (I)\n",
    "prob += 2 * x[2] == 4 * x[3] + 3 * x[4]  # Hydrogen (H)\n",
    "prob += x[2] == 4 * x[4]  # Oxygen (O)\n",
    "solve_prob(prob, x)"
   ]
  }
 ],
 "metadata": {
  "kernelspec": {
   "display_name": "Python 3 (ipykernel)",
   "language": "python",
   "name": "python3"
  },
  "language_info": {
   "codemirror_mode": {
    "name": "ipython",
    "version": 3
   },
   "file_extension": ".py",
   "mimetype": "text/x-python",
   "name": "python",
   "nbconvert_exporter": "python",
   "pygments_lexer": "ipython3",
   "version": "3.9.13"
  }
 },
 "nbformat": 4,
 "nbformat_minor": 5
}
