{
 "cells": [
  {
   "cell_type": "code",
   "execution_count": null,
   "id": "c4039191-bcff-4b01-93cb-f85f6f6e8995",
   "metadata": {},
   "outputs": [],
   "source": [
    "# matrix_algebra.ipynb\n",
    "# Cell 1\n",
    "\n",
    "import numpy as np\n",
    "from IPython.display import Math\n",
    "from qiskit.visualization import array_to_latex\n",
    "\n",
    "a = np.array([[4, 5, 8], [1, 9, 7]])\n",
    "b = np.array([[2, 4], [6, 1], [5, 9]])\n",
    "\n",
    "display(array_to_latex(a, prefix=r\"\\mathbf{A}=\"))\n",
    "display(array_to_latex(b, prefix=r\"\\mathbf{B}=\"))"
   ]
  },
  {
   "cell_type": "code",
   "execution_count": null,
   "id": "61c5e5af-0340-4863-ae32-a16f58b12713",
   "metadata": {},
   "outputs": [],
   "source": [
    "# Cell 2\n",
    "\n",
    "c = np.matmul(a, b)\n",
    "array_to_latex(c, prefix=r\"\\mathbf{A\\cdot B}=\")"
   ]
  },
  {
   "cell_type": "code",
   "execution_count": null,
   "id": "fbe91520-3b43-4723-863c-a32a466880f5",
   "metadata": {},
   "outputs": [],
   "source": [
    "# Cell 3\n",
    "\n",
    "c = np.matmul(b, a)\n",
    "array_to_latex(c, prefix=r\"\\mathbf{B\\cdot A}=\")"
   ]
  },
  {
   "cell_type": "code",
   "execution_count": null,
   "id": "051a0f29-c672-4c65-95cc-b9e7dabbf034",
   "metadata": {},
   "outputs": [],
   "source": [
    "# Cell 4\n",
    "\n",
    "a = np.array([[4, 5, 8], [1, 9, 7], [0, 0, 0]])\n",
    "c = np.matmul(b, a)\n",
    "array_to_latex(c, prefix=r\"\\mathbf{B\\cdot A}=\")"
   ]
  },
  {
   "cell_type": "code",
   "execution_count": null,
   "id": "bd31059c-68b6-4d94-afee-9b3d9c5e2a11",
   "metadata": {},
   "outputs": [],
   "source": [
    "# Cell 5\n",
    "\n",
    "a = np.array([[8, 3], [4, 2]])\n",
    "display(array_to_latex(a, prefix=r\"\\mathbf{A}=\"))\n",
    "\n",
    "display(Math(rf\"|A|={np.linalg.det(a)}\"))\n",
    "display(Math(rf\"|A|={np.linalg.det(a):,.0f}\"))"
   ]
  },
  {
   "cell_type": "code",
   "execution_count": null,
   "id": "fd99e63a-2279-4d23-a2d7-65d81b89b2b9",
   "metadata": {},
   "outputs": [],
   "source": [
    "# Cell 6\n",
    "\n",
    "a = np.array(\n",
    "    [\n",
    "        [3, 4, 9, 8, -5, -2, 2, 7, 7, 4],\n",
    "        [6, -10, -10, -10, -6, -10, 1, 0, -4, -5],\n",
    "        [-4, -4, -4, 8, -5, 9, 4, 0, -4, 9],\n",
    "        [-4, 6, -5, 8, 0, 3, 1, -4, -6, -6],\n",
    "        [-6, -9, 9, 9, -2, 9, -5, -2, -2, -3],\n",
    "        [-8, 0, 0, 0, 10, -3, 5, 0, -4, 9],\n",
    "        [8, 4, 8, -9, 4, 8, -6, 1, 9, 2],\n",
    "        [2, 1, -1, 4, -6, -10, 1, -6, 6, 7],\n",
    "        [-6, -5, 4, -6, -5, -6, -10, -1, -2, 7],\n",
    "        [1, 10, -10, -4, -8, 7, 5, -1, 6, -6],\n",
    "    ]\n",
    ")\n",
    "\n",
    "display(array_to_latex(a, max_size=10, prefix=r\"\\mathbf{A}=\"))\n",
    "\n",
    "display(Math(rf\"|A|={np.linalg.det(a)}\"))\n",
    "display(Math(rf\"|A|={np.linalg.det(a):,.0f}\"))"
   ]
  },
  {
   "cell_type": "code",
   "execution_count": null,
   "id": "25ee7830-ff20-44ab-ab90-c0b4a5981973",
   "metadata": {},
   "outputs": [],
   "source": [
    "# Cell 7\n",
    "\n",
    "coeffs = np.array([[4, 5, -2], [7, -1, 2], [3, 1, 4]])\n",
    "vals = np.array([-14, 42, 28])\n",
    "\n",
    "display(array_to_latex(coeffs, prefix=r\"\\mathbf{Coeffs}=\"))\n",
    "display(array_to_latex(vals, prefix=r\"\\mathbf{Vals}=\"))"
   ]
  },
  {
   "cell_type": "code",
   "execution_count": null,
   "id": "310b226e-c9c9-4f37-9068-298c601065c2",
   "metadata": {},
   "outputs": [],
   "source": [
    "# Cell 8\n",
    "\n",
    "# Calculate determinant of coefficients matrix\n",
    "det_coeffs = np.linalg.det(coeffs)\n",
    "\n",
    "# Overlay value vector on each column of the coeffs matrix\n",
    "xa = np.copy(coeffs)\n",
    "xa[:, 0] = vals\n",
    "det_xa = np.linalg.det(xa)\n",
    "\n",
    "ya = np.copy(coeffs)\n",
    "ya[:, 1] = vals\n",
    "det_ya = np.linalg.det(ya)\n",
    "\n",
    "za = np.copy(coeffs)\n",
    "za[:, 2] = vals\n",
    "det_za = np.linalg.det(za)\n",
    "\n",
    "# Use Cramer's rule to solve 3 x 3 system of linear equations\n",
    "x = det_xa / det_coeffs\n",
    "y = det_ya / det_coeffs\n",
    "z = det_za / det_coeffs\n",
    "\n",
    "display(Math(rf\"x={x:,.0f}\"))\n",
    "display(Math(rf\"y={y:,.0f}\"))\n",
    "display(Math(rf\"z={z:,.0f}\"))"
   ]
  },
  {
   "cell_type": "code",
   "execution_count": null,
   "id": "b3d40842-483f-49ca-99b5-ebdd1b8602ee",
   "metadata": {},
   "outputs": [],
   "source": [
    "# Cell 9\n",
    "\n",
    "# Use numpy's linear algebra solver\n",
    "sol = np.linalg.solve(coeffs, vals)\n",
    "\n",
    "display(array_to_latex(sol))"
   ]
  }
 ],
 "metadata": {
  "kernelspec": {
   "display_name": "Python 3 (ipykernel)",
   "language": "python",
   "name": "python3"
  },
  "language_info": {
   "codemirror_mode": {
    "name": "ipython",
    "version": 3
   },
   "file_extension": ".py",
   "mimetype": "text/x-python",
   "name": "python",
   "nbconvert_exporter": "python",
   "pygments_lexer": "ipython3",
   "version": "3.9.13"
  }
 },
 "nbformat": 4,
 "nbformat_minor": 5
}
