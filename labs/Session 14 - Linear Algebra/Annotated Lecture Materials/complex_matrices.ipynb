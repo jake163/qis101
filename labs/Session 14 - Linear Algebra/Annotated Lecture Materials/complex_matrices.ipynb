{
 "cells": [
  {
   "cell_type": "code",
<<<<<<< HEAD:labs/Session 14 - Linear Algebra/complex_matrices.ipynb
   "execution_count": 1,
=======
   "execution_count": 6,
>>>>>>> 1e68661f880868482cb5e08db61d43cc33e31b6a:labs/Session 14 - Linear Algebra/Annotated Lecture Materials/complex_matrices.ipynb
   "id": "2a6741d1-ba21-49eb-ba81-575238ccb6dc",
   "metadata": {},
   "outputs": [
    {
     "data": {
      "text/latex": [
       "$$\n",
       "\\mathbf{v}=\n",
       "\\begin{bmatrix}\n",
       "7 - 2i & 4i & 11 + 6i & -15  \\\\\n",
       " \\end{bmatrix}\n",
       "$$"
      ],
      "text/plain": [
       "<IPython.core.display.Latex object>"
      ]
     },
     "metadata": {},
     "output_type": "display_data"
    },
    {
     "data": {
      "text/latex": [
       "$\\displaystyle \\langle\\mathbf{v,v}\\rangle=(451+0j)$"
      ],
      "text/plain": [
       "<IPython.core.display.Math object>"
      ]
     },
     "metadata": {},
     "output_type": "display_data"
    },
    {
     "data": {
      "text/latex": [
       "$\\displaystyle \\|\\mathbf{v}\\|^2=\\color{red}{451.00000000000006}$"
      ],
      "text/plain": [
       "<IPython.core.display.Math object>"
      ]
     },
     "metadata": {},
     "output_type": "display_data"
    },
    {
     "data": {
      "text/latex": [
       "$\\displaystyle \\langle\\mathbf{v,v}\\rangle=\\|\\mathbf{v}\\|^2\\;?\\;$$\\rightarrow$$\\;True$"
      ],
      "text/plain": [
       "<IPython.core.display.Math object>"
      ]
     },
     "metadata": {},
     "output_type": "display_data"
    }
   ],
   "source": [
    "# complex_matrices.ipynb\n",
    "# Cell 1\n",
    "\n",
    "import numpy as np\n",
    "from IPython.display import Math\n",
    "from qiskit.visualization import array_to_latex\n",
    "\n",
    "# The inner product of a vector with itself is its squared norm\n",
    "\n",
    "v = np.complex128([7 - 2j, 4j, 11 + 6j, -15])\n",
    "\n",
    "t1 = np.dot(v.conj().T, v) #left vector is the conjugate transpose here\n",
    "#v.conj().T takes the transpose of the conjugate\n",
    "t2 = np.linalg.norm(v) ** 2 #linear algebra norm, and square it\n",
    "\n",
    "display(array_to_latex(v.T, prefix=\"\\mathbf{v}=\"))\n",
    "\n",
    "display(Math(rf\"\\langle\\mathbf{{v,v}}\\rangle={t1}\"))\n",
    "display(Math(rf\"\\|\\mathbf{{v}}\\|^2=\\color{{red}}{{{t2}}}\"))\n",
    "\n",
    "# We use np.isclose() to accomodate the roundoff error\n",
    "display(\n",
    "    Math(\n",
    "        rf\"\\langle\\mathbf{{v,v}}\\rangle=\\|\\mathbf{{v}}\\|^2\"\n",
    "        rf\"\\;?\\;$$\\rightarrow$$\\;{np.isclose(t1,t2)}\" #print if the two quanities are similar\n",
    "        #(not strictly equal due to round off error)\n",
    "    )\n",
    ")"
   ]
  },
  {
   "cell_type": "code",
   "execution_count": 4,
   "id": "005f22bf-f7b7-437d-b9ab-09bde97072d5",
   "metadata": {},
   "outputs": [
    {
     "data": {
      "text/latex": [
       "$\\displaystyle \\langle\\mathbf{v,v}\\rangle=(451+0j)$"
      ],
      "text/plain": [
       "<IPython.core.display.Math object>"
      ]
     },
     "metadata": {},
     "output_type": "display_data"
    },
    {
     "data": {
      "text/latex": [
       "$\\displaystyle \\overline{\\langle\\mathbf{v,v}\\rangle}=\\color{red}{(451-0j)}$"
      ],
      "text/plain": [
       "<IPython.core.display.Math object>"
      ]
     },
     "metadata": {},
     "output_type": "display_data"
    },
    {
     "data": {
      "text/latex": [
       "$\\displaystyle \\langle\\mathbf{v,v}\\rangle=\\overline{\\langle\\mathbf{v,v}\\rangle}\\;?\\;$$\\rightarrow$$\\;True$"
      ],
      "text/plain": [
       "<IPython.core.display.Math object>"
      ]
     },
     "metadata": {},
     "output_type": "display_data"
    }
   ],
   "source": [
    "# Cell 2\n",
    "\n",
    "# An inner product is equal to its own conjugate\n",
    "\n",
    "t1 = np.dot(v.conj().T, v)\n",
    "t2 = np.dot(v.conj().T, v).conj()\n",
    "\n",
    "display(Math(rf\"\\langle\\mathbf{{v,v}}\\rangle={np.round(t1,5)}\"))\n",
    "display(\n",
    "    Math(\n",
    "        rf\"\\overline{{\\langle\\mathbf{{v,v}}\\rangle}}=\"\n",
    "        rf\"\\color{{red}}{{{np.round(t2,5)}}}\" #round t2 to 5 decimal places\n",
    "    )\n",
    ")\n",
    "\n",
    "display(\n",
    "    Math(\n",
    "        rf\"\\langle\\mathbf{{v,v}}\\rangle=\"\n",
    "        rf\"\\overline{{\\langle\\mathbf{{v,v}}\\rangle}}\"\n",
    "        rf\"\\;?\\;$$\\rightarrow$$\\;{np.isclose(t1,t2)}\" #prints boolean for similarity of two terms\n",
    "    )\n",
    ")"
   ]
  },
  {
   "cell_type": "code",
<<<<<<< HEAD:labs/Session 14 - Linear Algebra/complex_matrices.ipynb
   "execution_count": 2,
=======
   "execution_count": 11,
>>>>>>> 1e68661f880868482cb5e08db61d43cc33e31b6a:labs/Session 14 - Linear Algebra/Annotated Lecture Materials/complex_matrices.ipynb
   "id": "85ae06dc-46b6-4fea-b07b-f26124801874",
   "metadata": {},
   "outputs": [
    {
     "data": {
      "text/latex": [
       "$$\n",
       "\\mathbf{A}=\n",
       "\\begin{bmatrix}\n",
       "5 & 4 + 5i & 6 - 16i  \\\\\n",
       " 4 - 5i & 13 & 7  \\\\\n",
       " 6 + 16i & 7 & 2.1  \\\\\n",
       " \\end{bmatrix}\n",
       "$$"
      ],
      "text/plain": [
       "<IPython.core.display.Latex object>"
      ]
     },
     "metadata": {},
     "output_type": "display_data"
    },
    {
     "data": {
      "text/latex": [
       "$$\n",
       "\\mathbf{B}=\n",
       "\\begin{bmatrix}\n",
       "5.664 - 3.623i & 7.672 - 4.47i & 1.864 - 7.149i  \\\\\n",
       " 0.766 - 4.821i & 4.413 - 0.228i & 9.759 + 4.256i  \\\\\n",
       " 1.0335 - 3.672i & 3.89 - 5.741i & 7.76 + 3.812i  \\\\\n",
       " \\end{bmatrix}\n",
       "$$"
      ],
      "text/plain": [
       "<IPython.core.display.Latex object>"
      ]
     },
     "metadata": {},
     "output_type": "display_data"
    },
    {
     "data": {
      "text/latex": [
       "$$\n",
       "\\mathbf{(A+B)^\\dagger}=\n",
       "\\begin{bmatrix}\n",
       "10.664 + 3.623i & 4.766 + 9.821i & 7.0335 - 12.328i  \\\\\n",
       " 11.672 - 0.53i & 17.413 + 0.228i & 10.89 + 5.741i  \\\\\n",
       " 7.864 + 23.149i & 16.759 - 4.256i & 9.86 - 3.812i  \\\\\n",
       " \\end{bmatrix}\n",
       "$$"
      ],
      "text/plain": [
       "<IPython.core.display.Latex object>"
      ]
     },
     "metadata": {},
     "output_type": "display_data"
    },
    {
     "data": {
      "text/latex": [
       "$$\n",
       "\\mathbf{A^\\dagger+B^\\dagger}=\n",
       "\\begin{bmatrix}\n",
       "10.664 + 3.623i & 4.766 + 9.821i & 7.0335 - 12.328i  \\\\\n",
       " 11.672 - 0.53i & 17.413 + 0.228i & 10.89 + 5.741i  \\\\\n",
       " 7.864 + 23.149i & 16.759 - 4.256i & 9.86 - 3.812i  \\\\\n",
       " \\end{bmatrix}\n",
       "$$"
      ],
      "text/plain": [
       "<IPython.core.display.Latex object>"
      ]
     },
     "metadata": {},
     "output_type": "display_data"
    },
    {
     "data": {
      "text/latex": [
       "$\\displaystyle \\mathbf{(A+B)^\\dagger=A^\\dagger+B^\\dagger}\\;?\\;$$\\rightarrow$$\\;True$"
      ],
      "text/plain": [
       "<IPython.core.display.Math object>"
      ]
     },
     "metadata": {},
     "output_type": "display_data"
    }
   ],
   "source": [
    "# Cell 3\n",
    "\n",
    "# The adjoint (dagger) operator is distributive across matrix addition\n",
    "\n",
    "a = np.array([[5, 4 + 5j, 6 - 16j], [4 - 5j, 13, 7], [6 + 16j, 7, 2.1]])\n",
    "\n",
    "b = np.array(\n",
    "    [\n",
    "        [5.664 - 3.623j, 7.672 - 4.470j, 1.864 - 7.149j],\n",
    "        [0.766 - 4.821j, 4.413 - 0.228j, 9.759 + 4.256j],\n",
    "        [1.0335 - 3.672j, 3.890 - 5.741j, 7.760 + 3.812j],\n",
    "    ]\n",
    ")\n",
    "\n",
    "t1 = (a + b).conj().T\n",
    "t2 = a.conj().T + b.conj().T\n",
    "\n",
    "display(array_to_latex(a, prefix=r\"\\mathbf{A}=\"))\n",
    "display(array_to_latex(b, prefix=r\"\\mathbf{B}=\"))\n",
    "\n",
    "display(array_to_latex(t1, prefix=r\"\\mathbf{(A+B)^\\dagger}=\"))\n",
    "display(array_to_latex(t2, prefix=r\"\\mathbf{A^\\dagger+B^\\dagger}=\"))\n",
    "\n",
    "display(\n",
    "    Math(\n",
    "        rf\"\\mathbf{{(A+B)^\\dagger=A^\\dagger+B^\\dagger}}\"\n",
    "        rf\"\\;?\\;$$\\rightarrow$$\\;{np.isclose(t1,t2).all()}\"\n",
    "    ) #.all() for .isclose() is necessary because we are comparing matrices, and we need to compare \n",
    "    #each cell to each cell\n",
    ")"
   ]
  },
  {
   "cell_type": "code",
   "execution_count": 9,
   "id": "2880d384-3e1d-476b-88d7-265973b02bd9",
   "metadata": {},
   "outputs": [
    {
     "ename": "ValueError",
     "evalue": "shapes (3,) and (4,) not aligned: 3 (dim 0) != 4 (dim 0)",
     "output_type": "error",
     "traceback": [
      "\u001b[0;31m---------------------------------------------------------------------------\u001b[0m",
      "\u001b[0;31mValueError\u001b[0m                                Traceback (most recent call last)",
      "Input \u001b[0;32mIn [9]\u001b[0m, in \u001b[0;36m<cell line: 8>\u001b[0;34m()\u001b[0m\n\u001b[1;32m      1\u001b[0m \u001b[38;5;66;03m# Cell 4\u001b[39;00m\n\u001b[1;32m      2\u001b[0m \n\u001b[1;32m      3\u001b[0m \u001b[38;5;66;03m# The inner product of two equal length vectors\u001b[39;00m\n\u001b[1;32m      4\u001b[0m \u001b[38;5;66;03m# is equal to the trace of their dot product\u001b[39;00m\n\u001b[1;32m      6\u001b[0m w \u001b[38;5;241m=\u001b[39m np\u001b[38;5;241m.\u001b[39mcomplex128([\u001b[38;5;241m-\u001b[39m\u001b[38;5;241m3\u001b[39m \u001b[38;5;241m-\u001b[39m \u001b[38;5;241m5\u001b[39mj, \u001b[38;5;241m2\u001b[39m \u001b[38;5;241m+\u001b[39m \u001b[38;5;241m9\u001b[39mj, \u001b[38;5;241m-\u001b[39m\u001b[38;5;241m12\u001b[39mj, \u001b[38;5;241m1\u001b[39m \u001b[38;5;241m+\u001b[39m \u001b[38;5;241m8\u001b[39mj])\n\u001b[0;32m----> 8\u001b[0m t1 \u001b[38;5;241m=\u001b[39m \u001b[43mnp\u001b[49m\u001b[38;5;241;43m.\u001b[39;49m\u001b[43mdot\u001b[49m\u001b[43m(\u001b[49m\u001b[43mv\u001b[49m\u001b[38;5;241;43m.\u001b[39;49m\u001b[43mconj\u001b[49m\u001b[43m(\u001b[49m\u001b[43m)\u001b[49m\u001b[38;5;241;43m.\u001b[39;49m\u001b[43mT\u001b[49m\u001b[43m,\u001b[49m\u001b[43m \u001b[49m\u001b[43mw\u001b[49m\u001b[43m)\u001b[49m\n\u001b[1;32m     10\u001b[0m \u001b[38;5;66;03m# To find the trace, we need to expand the 1-d vectors to each become a 2-d numpy matrix\u001b[39;00m\n\u001b[1;32m     11\u001b[0m \u001b[38;5;66;03m# Since the vectors had equal length, their outer product will be a square matrix\u001b[39;00m\n\u001b[1;32m     12\u001b[0m t2 \u001b[38;5;241m=\u001b[39m np\u001b[38;5;241m.\u001b[39mdot(v[np\u001b[38;5;241m.\u001b[39mnewaxis]\u001b[38;5;241m.\u001b[39mconj()\u001b[38;5;241m.\u001b[39mT, w[np\u001b[38;5;241m.\u001b[39mnewaxis])\u001b[38;5;241m.\u001b[39mtrace() \u001b[38;5;66;03m#outer product is another\u001b[39;00m\n",
      "File \u001b[0;32m<__array_function__ internals>:180\u001b[0m, in \u001b[0;36mdot\u001b[0;34m(*args, **kwargs)\u001b[0m\n",
      "\u001b[0;31mValueError\u001b[0m: shapes (3,) and (4,) not aligned: 3 (dim 0) != 4 (dim 0)"
     ]
    }
   ],
   "source": [
    "# Cell 4\n",
    "\n",
    "# The inner product of two equal length vectors\n",
    "# is equal to the trace of their dot product\n",
    "\n",
    "w = np.complex128([-3 - 5j, 2 + 9j, -12j, 1 + 8j])\n",
    "\n",
    "t1 = np.dot(v.conj().T, w)\n",
    "\n",
    "# To find the trace, we need to expand the 1-d vectors to each become a 2-d numpy matrix\n",
    "# Since the vectors had equal length, their outer product will be a square matrix\n",
    "t2 = np.dot(v[np.newaxis].conj().T, w[np.newaxis]).trace() #outer product is another\n",
    "#way of doing matrix multiplication, np.newaxis adds another dimension to w (promote vector w to matrix)\n",
    "\n",
    "display(array_to_latex(v[np.newaxis].conj().T, prefix=r\"\\mathbf{v^\\dagger=}\")) \n",
    "display(array_to_latex(w[np.newaxis], prefix=r\"\\mathbf{w}=\"))\n",
    "display(\n",
    "    array_to_latex(\n",
    "        np.dot(v[np.newaxis].conj().T, w[np.newaxis]),\n",
    "        prefix=r\"\\mathbf{v}^\\dagger\\cdot \\mathbf{w=}\",\n",
    "    )\n",
    ")\n",
    "\n",
    "display(Math(rf\"\\langle\\mathbf{{v,w}}\\rangle={t1}\"))\n",
    "display(Math(rf\"\\operatorname{{Tr}}(\\mathbf{{v}}^\\dagger\\cdot \\mathbf{{w}})={t2}\"))\n",
    "\n",
    "display(\n",
    "    Math(\n",
    "        rf\"\\langle\\mathbf{{v,w}}\\rangle=\"\n",
    "        rf\"\\operatorname{{Tr}}(\\mathbf{{v}}^\\dagger\\cdot \\mathbf{{w}})\"\n",
    "        rf\"\\;?\\;$$\\rightarrow$$\\;{np.isclose(t1,t2)}\"\n",
    "    )\n",
    ")"
   ]
  },
  {
   "cell_type": "code",
   "execution_count": null,
   "id": "156bd1fa-3f7e-4fd1-9063-6a6e9d164aac",
   "metadata": {},
   "outputs": [],
   "source": [
    "# Cell 5\n",
    "\n",
    "# The trace operator is distributive across scalar-array multiplication\n",
    "\n",
    "x = 5\n",
    "y = 7\n",
    "\n",
    "t1 = (x * a + y * b).trace() #classic scalar multiplication via astericks\n",
    "t2 = x * a.trace() + y * b.trace()\n",
    "\n",
    "display(\n",
    "    Math(\n",
    "        rf\"\\operatorname{{Tr}}[\\mathrm{{x}}\\mathbf{{A}}+\\mathrm{{y}}\\mathbf{{B}}]={t1}\"\n",
    "    )\n",
    ")\n",
    "display(\n",
    "    Math(\n",
    "        rf\"\\mathrm{{x}}\\operatorname{{Tr}}[\\mathbf{{A}}]+\\mathrm{{y}}\\operatorname{{Tr}}[\\mathbf{{B}}]=\"\n",
    "        rf\"\\color{{red}}{{{t2}}}\"\n",
    "    )\n",
    ")\n",
    "\n",
    "display(\n",
    "    Math(\n",
    "        rf\"\\operatorname{{Tr}}[\\mathrm{{x}}\\mathbf{{A}}+\\mathrm{{y}}\\mathbf{{B}}]=\"\n",
    "        rf\"\\mathrm{{x}}\\operatorname{{Tr}}[\\mathbf{{A}}]+\\mathrm{{y}}\\operatorname{{Tr}}[\\mathbf{{B}}]\"\n",
    "        rf\"\\;?\\;$$\\rightarrow$$\\;{np.isclose(t1,t2)}\" #np.isclose() assigns boolean if they are equal\n",
    "        #, disregarding round off error\n",
    "    )\n",
    ")"
   ]
  },
  {
   "cell_type": "code",
   "execution_count": 8,
   "id": "93bd9a37-0ce9-4b29-83cd-4364a8ce2c58",
   "metadata": {},
   "outputs": [
    {
     "data": {
      "text/latex": [
       "$$\n",
       "\\mathbf{v}=\n",
       "\\begin{bmatrix}\n",
       "3.883 + 1.089i & 6.654 - 4.201i & 8.721 + 9.767i  \\\\\n",
       " \\end{bmatrix}\n",
       "$$"
      ],
      "text/plain": [
       "<IPython.core.display.Latex object>"
      ]
     },
     "metadata": {},
     "output_type": "display_data"
    },
    {
     "data": {
      "text/latex": [
       "$$\n",
       "\\mathbf{w}=\n",
       "\\begin{bmatrix}\n",
       "2.591 + 6.558i & 5.608 - 0.175i & 1.945 - 1.031i  \\\\\n",
       " \\end{bmatrix}\n",
       "$$"
      ],
      "text/plain": [
       "<IPython.core.display.Latex object>"
      ]
     },
     "metadata": {},
     "output_type": "display_data"
    },
    {
     "data": {
      "text/latex": [
       "$$\n",
       "\\mathbf{A}=\n",
       "\\begin{bmatrix}\n",
       "5 & 4 + 5i & 6 - 16i  \\\\\n",
       " 4 - 5i & 13 & 7  \\\\\n",
       " 6 + 16i & 7 & 2.1  \\\\\n",
       " \\end{bmatrix}\n",
       "$$"
      ],
      "text/plain": [
       "<IPython.core.display.Latex object>"
      ]
     },
     "metadata": {},
     "output_type": "display_data"
    },
    {
     "data": {
      "text/latex": [
       "$\\displaystyle \\langle\\mathbf{A}\\cdot\\mathbf{v},\\mathbf{w}\\rangle=(1348.43832+1749.1474j)$"
      ],
      "text/plain": [
       "<IPython.core.display.Math object>"
      ]
     },
     "metadata": {},
     "output_type": "display_data"
    },
    {
     "data": {
      "text/latex": [
       "$\\displaystyle \\langle\\mathbf{v},\\;\\mathbf{A}\\cdot\\mathbf{w}\\rangle=(1348.43832+1749.1474j)$"
      ],
      "text/plain": [
       "<IPython.core.display.Math object>"
      ]
     },
     "metadata": {},
     "output_type": "display_data"
    },
    {
     "data": {
      "text/latex": [
       "$\\displaystyle \\langle\\mathbf{A}\\cdot\\mathbf{v},\\mathbf{w}\\rangle=\\langle\\mathbf{v},\\;\\mathbf{A}\\cdot\\mathbf{w}\\rangle\\;?\\;$$\\rightarrow$$\\;True$"
      ],
      "text/plain": [
       "<IPython.core.display.Math object>"
      ]
     },
     "metadata": {},
     "output_type": "display_data"
    }
   ],
   "source": [
    "# Cell 6\n",
    "\n",
    "# Within an inner product, a Hermitian matrix can be dotted to either vector\n",
    "\n",
    "v = np.array([3.883 + 1.089j, 6.654 - 4.201j, 8.721 + 9.767j])\n",
    "w = np.array([2.591 + 6.558j, 5.608 - 0.175j, 1.945 - 1.031j])\n",
    "\n",
    "\n",
    "t1 = np.dot(np.dot(a, v).conj().T, w) #a dot v, take conjugate transpose, then dot onto w\n",
    "t2 = np.dot(v.conj().T, np.dot(a, w)) #dot conjugate transpose of v onto a dot w\n",
    "\n",
    "display(array_to_latex(v, prefix=r\"\\mathbf{v}=\"))\n",
    "display(array_to_latex(w, prefix=r\"\\mathbf{w}=\"))\n",
    "\n",
    "display(array_to_latex(a, prefix=r\"\\mathbf{A}=\"))\n",
    "\n",
    "display(\n",
    "    Math(rf\"\\langle\\mathbf{{A}}\\cdot\\mathbf{{v}},\\mathbf{{w}}\\rangle={np.round(t1,5)}\")\n",
    ")\n",
    "display(\n",
    "    Math(\n",
    "        rf\"\\langle\\mathbf{{v}},\\;\\mathbf{{A}}\\cdot\\mathbf{{w}}\\rangle={np.round(t2,5)}\"\n",
    "    )\n",
    ")\n",
    "\n",
    "display(\n",
    "    Math(\n",
    "        rf\"\\langle\\mathbf{{A}}\\cdot\\mathbf{{v}},\\mathbf{{w}}\\rangle=\"\n",
    "        rf\"\\langle\\mathbf{{v}},\\;\\mathbf{{A}}\\cdot\\mathbf{{w}}\\rangle\"\n",
    "        rf\"\\;?\\;$$\\rightarrow$$\\;{np.isclose(t1,t2)}\"\n",
    "    )\n",
    ")"
   ]
  },
  {
   "cell_type": "code",
   "execution_count": null,
   "id": "4544dc02-242c-4b24-a3e3-aa224a5e1569",
   "metadata": {},
   "outputs": [],
   "source": [
    "# Cell 7\n",
    "\n",
    "# The dot product of a Unitary matrix and a vector respects the vector norm\n",
    "\n",
    "v = np.complex128([7 - 2j, 4j, 11 + 6j, -15])\n",
    "\n",
    "# Declare a unitary matrix U\n",
    "u = np.dot(1 / np.sqrt(2), [[1, 0, 1, 0], [0, 1, 0, 1], [1, 0, -1, 0], [0, 1, 0, -1]]) #fancy way of \n",
    "#multiplying 1/2 into U\n",
    "\n",
    "# The dot product of a Unitary matrix and its Hermitian (aka dagger) is the Identity matrix\n",
    "i = np.dot(u, u.conj().T) #dot product of U and U dagger is I\n",
    "\n",
    "t1 = np.linalg.norm(np.dot(u, v))\n",
    "t2 = np.sqrt(np.dot(np.dot(u, v).conj().T, np.dot(u, v))) #square root of U dot V and the conjugate \n",
    "#transpose of U dot V\n",
    "\n",
    "display(array_to_latex(v, prefix=\"\\mathbf{v}=\"))\n",
    "\n",
    "display(array_to_latex(u, prefix=\"\\mathbf{U}=\"))\n",
    "display(array_to_latex(i, prefix=\"\\mathbf{I}=\"))\n",
    "\n",
    "display(Math(rf\"\\|\\mathbf{{v}}\\|={np.linalg.norm(v)}\"))\n",
    "display(Math(rf\"\\|\\mathbf{{U \\cdot v}}\\|={t1}\"))\n",
    "display(\n",
    "    Math(\n",
    "        rf\"\\sqrt{{\\langle\\mathbf{{U \\cdot v, U\\cdot v\\rangle}}}}=\\color{{red}}{{{t2}}}\"\n",
    "    )\n",
    ")\n",
    "\n",
    "display(\n",
    "    Math(\n",
    "        rf\"\\|\\mathbf{{U \\cdot v}}\\|=\"\n",
    "        rf\"\\sqrt{{\\langle\\mathbf{{U \\cdot v, U\\cdot v\\rangle}}}}\"\n",
    "        rf\"\\;?\\;$$\\rightarrow$$\\;{np.isclose(t1,t2)}\"\n",
    "    )\n",
    ")"
   ]
  },
  {
   "cell_type": "code",
   "execution_count": null,
   "id": "bb8c40ba-816a-4943-bf5e-994492f0188d",
   "metadata": {},
   "outputs": [],
   "source": [
    "# Cell 8\n",
    "\n",
    "# Commutation within an inner product produces the conjugate\n",
    "\n",
    "v = np.array([3.883 + 1.089j, 6.654 - 4.201j, 8.721 + 9.767j])\n",
    "w = np.array([2.591 + 6.558j, 5.608 - 0.175j, 1.945 - 1.031j])\n",
    "\n",
    "t1 = np.dot(v.conj().T, w)\n",
    "t2 = np.dot(w.conj().T, v).conj() #conjugate of the dot product\n",
    "\n",
    "display(array_to_latex(v, prefix=\"\\mathbf{v}=\"))\n",
    "display(array_to_latex(w, prefix=r\"\\mathbf{w}=\"))\n",
    "\n",
    "display(Math(rf\"\\langle\\mathbf{{v,w}}\\rangle={np.round(t1,5)}\"))\n",
    "display(Math(rf\"\\overline{{\\langle\\mathbf{{w,v}}\\rangle}}={np.round(t2,5)}\"))\n",
    "\n",
    "display(\n",
    "    Math(\n",
    "        rf\"\\langle\\mathbf{{v,w}}\\rangle=\"\n",
    "        rf\"\\overline{{\\langle\\mathbf{{v,w}}\\rangle}}\"\n",
    "        rf\"\\;?\\;$$\\rightarrow$$\\;{np.isclose(t1,t2)}\"\n",
    "    )\n",
    ")"
   ]
  },
  {
   "cell_type": "code",
   "execution_count": null,
   "id": "029ad1d0-91c1-4ddd-8726-06c4043a58e0",
   "metadata": {
    "tags": []
   },
   "outputs": [],
   "source": [
    "# Cell 9\n",
    "\n",
    "# Demonstrate the Cauchy–Schwarz inequality\n",
    "\n",
    "t1 = np.linalg.norm(np.vdot(v, w)) #np.vdot takes complex conjugate of first argument\n",
    "t2 = np.linalg.norm(v) * np.linalg.norm(w) #product of norms of w and v\n",
    "\n",
    "display(Math(rf\"|\\langle\\mathbf{{v,w}}\\rangle|={np.round(t1,5)}\"))\n",
    "display(Math(rf\"\\|\\mathbf{{v}}\\|\\|\\mathbf{{w}}\\|={np.round(t2,5)}\"))\n",
    "display(\n",
    "    Math(\n",
    "        rf\"|\\langle\\mathbf{{v,w}}\\rangle|\\leq\"\n",
    "        rf\"\\|\\mathbf{{v}}\\|\\|\\mathbf{{w}}\\|\\;?\\;$$\\rightarrow$$\\;{{{t1<=t2}}}\"\n",
    "    )\n",
    ")"
   ]
  },
  {
   "cell_type": "code",
   "execution_count": null,
   "id": "9fb95d7a-12f9-451c-86b4-96ac61e053a8",
   "metadata": {},
   "outputs": [],
   "source": [
    "# Cell 10\n",
    "\n",
    "# The adjoint (dagger) operator is distributive across a commutated dot product\n",
    "\n",
    "t1 = np.dot(a, b).conj().T #conjugate transpose of the dot product\n",
    "t2 = np.dot(b.conj().T, a.conj().T) #dot product of commutated transpose\n",
    "\n",
    "display(array_to_latex(t1, prefix=r\"\\mathbf{(A\\cdot B)^\\dagger}=\"))\n",
    "display(array_to_latex(t2, prefix=r\"\\mathbf{B^\\dagger\\cdot A^\\dagger}=\"))\n",
    "\n",
    "display(\n",
    "    Math(\n",
    "        rf\"\\mathbf{{(A\\cdot B)^\\dagger=B^\\dagger\\cdot A^\\dagger}}\"\n",
    "        rf\"\\;?\\;$$\\rightarrow$$\\;{np.isclose(t1,t2).all()}\"\n",
    "    )\n",
    ")"
   ]
  },
  {
   "cell_type": "code",
   "execution_count": null,
   "id": "ca76c0c5-25c9-464e-afb5-ec97919da9af",
   "metadata": {},
   "outputs": [],
   "source": [
    "# Cell 11 - Scalar Multiplication Respects Norms\n",
    "\n",
    "c = np.array([-2.75 - 5.21j])\n",
    "v = np.array([3.883 + 1.089j, 6.654 - 4.201j, 8.721 + 9.767j])\n",
    "\n",
    "t1 = np.linalg.norm(c * v)\n",
    "t2 = np.linalg.norm(c) * np.linalg.norm(v)\n",
    "\n",
    "display(array_to_latex(c, prefix=\"\\mathbf{c}=\"))\n",
    "display(array_to_latex(v, prefix=\"\\mathbf{v}=\"))\n",
    "\n",
    "display(Math(rf\"\\|\\mathbf{{c\\cdot v}}\\|={t1}\"))\n",
    "display(Math(rf\"|\\mathbf{{c}}|\\cdot \\|\\mathbf{{v}}\\|={t2}\"))\n",
    "\n",
    "display(\n",
    "    Math(\n",
    "        rf\"\\|\\mathbf{{c\\cdot v}}\\|=\"\n",
    "        rf\"|\\mathbf{{c}}|\\cdot \\|\\mathbf{{v}}\\|\\;?\\;$$\\rightarrow$$\\;{{{np.isclose(t1,t2)}}}\"\n",
    "    )\n",
    ")"
   ]
  }
 ],
 "metadata": {
  "kernelspec": {
   "display_name": "Python 3 (ipykernel)",
   "language": "python",
   "name": "python3"
  },
  "language_info": {
   "codemirror_mode": {
    "name": "ipython",
    "version": 3
   },
   "file_extension": ".py",
   "mimetype": "text/x-python",
   "name": "python",
   "nbconvert_exporter": "python",
   "pygments_lexer": "ipython3",
   "version": "3.10.4"
  }
 },
 "nbformat": 4,
 "nbformat_minor": 5
}
