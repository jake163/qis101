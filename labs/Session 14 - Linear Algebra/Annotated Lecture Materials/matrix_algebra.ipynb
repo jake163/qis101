{
 "cells": [
  {
   "cell_type": "code",
<<<<<<< HEAD
   "execution_count": 4,
=======
   "execution_count": 1,
>>>>>>> 4127992523b1a84798656b299bfcdd01007be6a6
   "id": "c4039191-bcff-4b01-93cb-f85f6f6e8995",
   "metadata": {},
   "outputs": [
    {
     "data": {
      "text/latex": [
       "$$\n",
       "\\mathbf{A}=\n",
       "\\begin{bmatrix}\n",
       "4 & 5 & 8  \\\\\n",
       " 1 & 9 & 7  \\\\\n",
       " \\end{bmatrix}\n",
       "$$"
      ],
      "text/plain": [
       "<IPython.core.display.Latex object>"
      ]
     },
     "metadata": {},
     "output_type": "display_data"
    },
    {
     "data": {
      "text/latex": [
       "$$\n",
       "\\mathbf{B}=\n",
       "\\begin{bmatrix}\n",
       "2 & 4  \\\\\n",
       " 6 & 1  \\\\\n",
       " 5 & 9  \\\\\n",
       " \\end{bmatrix}\n",
       "$$"
      ],
      "text/plain": [
       "<IPython.core.display.Latex object>"
      ]
     },
     "metadata": {},
     "output_type": "display_data"
    }
   ],
   "source": [
    "# matrix_algebra.ipynb\n",
    "# Cell 1\n",
    "\n",
    "import numpy as np\n",
    "from IPython.display import Math\n",
<<<<<<< HEAD
    "from qiskit.visualization import array_to_latex\n",
    "\n",
    "a = np.array([[4, 5, 8], [1, 9, 7]])\n",
    "b = np.array([[2, 4], [6, 1], [5, 9]])\n",
    "\n",
    "display(array_to_latex(a, prefix=r\"\\mathbf{A}=\"))\n",
=======
    "from qiskit.visualization import array_to_latex #qiskit function convert np\n",
    "#array into latex\n",
    "\n",
    "a = np.array([[4, 5, 8], [1, 9, 7]]) #how to declare a 2D array, list of \n",
    "#lists, 2 x 3\n",
    "b = np.array([[2, 4], [6, 1], [5, 9]]) #3 x 2\n",
    "\n",
    "display(array_to_latex(a, prefix=r\"\\mathbf{A}=\")) #boldface A = a\n",
>>>>>>> 4127992523b1a84798656b299bfcdd01007be6a6
    "display(array_to_latex(b, prefix=r\"\\mathbf{B}=\"))"
   ]
  },
  {
   "cell_type": "code",
<<<<<<< HEAD
   "execution_count": 5,
   "id": "61c5e5af-0340-4863-ae32-a16f58b12713",
   "metadata": {},
   "outputs": [
    {
     "data": {
      "text/latex": [
       "$$\n",
       "\\mathbf{A\\cdot B}=\n",
       "\\begin{bmatrix}\n",
       "78 & 93  \\\\\n",
       " 91 & 76  \\\\\n",
       " \\end{bmatrix}\n",
       "$$"
      ],
      "text/plain": [
       "<IPython.core.display.Latex object>"
      ]
     },
     "execution_count": 5,
     "metadata": {},
     "output_type": "execute_result"
    }
   ],
   "source": [
    "# Cell 2\n",
    "\n",
    "c = np.matmul(a, b)\n",
=======
   "execution_count": null,
   "id": "61c5e5af-0340-4863-ae32-a16f58b12713",
   "metadata": {},
   "outputs": [],
   "source": [
    "# Cell 2\n",
    "\n",
    "c = np.matmul(a, b) #matrix multiplication of a and b, called c\n",
>>>>>>> 4127992523b1a84798656b299bfcdd01007be6a6
    "array_to_latex(c, prefix=r\"\\mathbf{A\\cdot B}=\")"
   ]
  },
  {
   "cell_type": "code",
<<<<<<< HEAD
   "execution_count": 6,
   "id": "fbe91520-3b43-4723-863c-a32a466880f5",
   "metadata": {},
   "outputs": [
    {
     "data": {
      "text/latex": [
       "$$\n",
       "\\mathbf{B\\cdot A}=\n",
       "\\begin{bmatrix}\n",
       "12 & 46 & 44  \\\\\n",
       " 25 & 39 & 55  \\\\\n",
       " 29 & 106 & 103  \\\\\n",
       " \\end{bmatrix}\n",
       "$$"
      ],
      "text/plain": [
       "<IPython.core.display.Latex object>"
      ]
     },
     "execution_count": 6,
     "metadata": {},
     "output_type": "execute_result"
    }
   ],
=======
   "execution_count": null,
   "id": "fbe91520-3b43-4723-863c-a32a466880f5",
   "metadata": {},
   "outputs": [],
>>>>>>> 4127992523b1a84798656b299bfcdd01007be6a6
   "source": [
    "# Cell 3\n",
    "\n",
    "c = np.matmul(b, a)\n",
    "array_to_latex(c, prefix=r\"\\mathbf{B\\cdot A}=\")"
   ]
  },
  {
   "cell_type": "code",
<<<<<<< HEAD
   "execution_count": 7,
=======
   "execution_count": 2,
>>>>>>> 4127992523b1a84798656b299bfcdd01007be6a6
   "id": "051a0f29-c672-4c65-95cc-b9e7dabbf034",
   "metadata": {},
   "outputs": [
    {
     "ename": "ValueError",
     "evalue": "matmul: Input operand 1 has a mismatch in its core dimension 0, with gufunc signature (n?,k),(k,m?)->(n?,m?) (size 3 is different from 2)",
     "output_type": "error",
     "traceback": [
      "\u001b[0;31m---------------------------------------------------------------------------\u001b[0m",
      "\u001b[0;31mValueError\u001b[0m                                Traceback (most recent call last)",
<<<<<<< HEAD
      "Input \u001b[0;32mIn [7]\u001b[0m, in \u001b[0;36m<cell line: 4>\u001b[0;34m()\u001b[0m\n\u001b[1;32m      1\u001b[0m \u001b[38;5;66;03m# Cell 4\u001b[39;00m\n\u001b[1;32m      3\u001b[0m a \u001b[38;5;241m=\u001b[39m np\u001b[38;5;241m.\u001b[39marray([[\u001b[38;5;241m4\u001b[39m, \u001b[38;5;241m5\u001b[39m, \u001b[38;5;241m8\u001b[39m], [\u001b[38;5;241m1\u001b[39m, \u001b[38;5;241m9\u001b[39m, \u001b[38;5;241m7\u001b[39m], [\u001b[38;5;241m0\u001b[39m, \u001b[38;5;241m0\u001b[39m, \u001b[38;5;241m0\u001b[39m]])\n\u001b[0;32m----> 4\u001b[0m c \u001b[38;5;241m=\u001b[39m \u001b[43mnp\u001b[49m\u001b[38;5;241;43m.\u001b[39;49m\u001b[43mmatmul\u001b[49m\u001b[43m(\u001b[49m\u001b[43mb\u001b[49m\u001b[43m,\u001b[49m\u001b[43m \u001b[49m\u001b[43ma\u001b[49m\u001b[43m)\u001b[49m\n\u001b[1;32m      5\u001b[0m array_to_latex(c, prefix\u001b[38;5;241m=\u001b[39m\u001b[38;5;124mr\u001b[39m\u001b[38;5;124m\"\u001b[39m\u001b[38;5;124m\\\u001b[39m\u001b[38;5;124mmathbf\u001b[39m\u001b[38;5;124m{\u001b[39m\u001b[38;5;124mB\u001b[39m\u001b[38;5;124m\\\u001b[39m\u001b[38;5;124mcdot A}=\u001b[39m\u001b[38;5;124m\"\u001b[39m)\n",
=======
      "Input \u001b[0;32mIn [2]\u001b[0m, in \u001b[0;36m<cell line: 4>\u001b[0;34m()\u001b[0m\n\u001b[1;32m      1\u001b[0m \u001b[38;5;66;03m# Cell 4\u001b[39;00m\n\u001b[1;32m      3\u001b[0m a \u001b[38;5;241m=\u001b[39m np\u001b[38;5;241m.\u001b[39marray([[\u001b[38;5;241m4\u001b[39m, \u001b[38;5;241m5\u001b[39m, \u001b[38;5;241m8\u001b[39m], [\u001b[38;5;241m1\u001b[39m, \u001b[38;5;241m9\u001b[39m, \u001b[38;5;241m7\u001b[39m], [\u001b[38;5;241m0\u001b[39m, \u001b[38;5;241m0\u001b[39m, \u001b[38;5;241m0\u001b[39m]])\n\u001b[0;32m----> 4\u001b[0m c \u001b[38;5;241m=\u001b[39m \u001b[43mnp\u001b[49m\u001b[38;5;241;43m.\u001b[39;49m\u001b[43mmatmul\u001b[49m\u001b[43m(\u001b[49m\u001b[43mb\u001b[49m\u001b[43m,\u001b[49m\u001b[43m \u001b[49m\u001b[43ma\u001b[49m\u001b[43m)\u001b[49m\n\u001b[1;32m      5\u001b[0m array_to_latex(c, prefix\u001b[38;5;241m=\u001b[39m\u001b[38;5;124mr\u001b[39m\u001b[38;5;124m\"\u001b[39m\u001b[38;5;124m\\\u001b[39m\u001b[38;5;124mmathbf\u001b[39m\u001b[38;5;124m{\u001b[39m\u001b[38;5;124mB\u001b[39m\u001b[38;5;124m\\\u001b[39m\u001b[38;5;124mcdot A}=\u001b[39m\u001b[38;5;124m\"\u001b[39m)\n",
>>>>>>> 4127992523b1a84798656b299bfcdd01007be6a6
      "\u001b[0;31mValueError\u001b[0m: matmul: Input operand 1 has a mismatch in its core dimension 0, with gufunc signature (n?,k),(k,m?)->(n?,m?) (size 3 is different from 2)"
     ]
    }
   ],
   "source": [
    "# Cell 4\n",
    "\n",
    "a = np.array([[4, 5, 8], [1, 9, 7], [0, 0, 0]])\n",
<<<<<<< HEAD
    "c = np.matmul(b, a)\n",
=======
    "c = np.matmul(b, a) #incorrect dimensions\n",
>>>>>>> 4127992523b1a84798656b299bfcdd01007be6a6
    "array_to_latex(c, prefix=r\"\\mathbf{B\\cdot A}=\")"
   ]
  },
  {
   "cell_type": "code",
<<<<<<< HEAD
   "execution_count": 8,
=======
   "execution_count": 3,
>>>>>>> 4127992523b1a84798656b299bfcdd01007be6a6
   "id": "bd31059c-68b6-4d94-afee-9b3d9c5e2a11",
   "metadata": {},
   "outputs": [
    {
     "data": {
      "text/latex": [
       "$$\n",
       "\\mathbf{A}=\n",
       "\\begin{bmatrix}\n",
       "8 & 3  \\\\\n",
       " 4 & 2  \\\\\n",
       " \\end{bmatrix}\n",
       "$$"
      ],
      "text/plain": [
       "<IPython.core.display.Latex object>"
      ]
     },
     "metadata": {},
     "output_type": "display_data"
    },
    {
     "data": {
      "text/latex": [
       "$\\displaystyle |A|=3.999999999999999$"
      ],
      "text/plain": [
       "<IPython.core.display.Math object>"
      ]
     },
     "metadata": {},
     "output_type": "display_data"
    },
    {
     "data": {
      "text/latex": [
       "$\\displaystyle |A|=4$"
      ],
      "text/plain": [
       "<IPython.core.display.Math object>"
      ]
     },
     "metadata": {},
     "output_type": "display_data"
    }
   ],
   "source": [
    "# Cell 5\n",
    "\n",
<<<<<<< HEAD
    "a = np.array([[8, 3], [4, 2]])\n",
    "display(array_to_latex(a, prefix=r\"\\mathbf{A}=\"))\n",
    "\n",
    "display(Math(rf\"|A|={np.linalg.det(a)}\"))\n",
    "display(Math(rf\"|A|={np.linalg.det(a):,.0f}\"))"
=======
    "a = np.array([[8, 3], [4, 2]]) #define 2 by 2 array\n",
    "display(array_to_latex(a, prefix=r\"\\mathbf{A}=\"))\n",
    "\n",
    "display(Math(rf\"|A|={np.linalg.det(a)}\")) #gives det of a, float\n",
    "display(Math(rf\"|A|={np.linalg.det(a):,.0f}\")) #gives det of a, int"
>>>>>>> 4127992523b1a84798656b299bfcdd01007be6a6
   ]
  },
  {
   "cell_type": "code",
<<<<<<< HEAD
   "execution_count": 9,
=======
   "execution_count": 10,
>>>>>>> 4127992523b1a84798656b299bfcdd01007be6a6
   "id": "fd99e63a-2279-4d23-a2d7-65d81b89b2b9",
   "metadata": {},
   "outputs": [
    {
     "data": {
      "text/latex": [
       "$$\n",
       "\\mathbf{A}=\n",
       "\\begin{bmatrix}\n",
       "3 & 4 & 9 & 8 & -5 & -2 & 2 & 7 & 7 & 4  \\\\\n",
       " 6 & -10 & -10 & -10 & -6 & -10 & 1 & 0 & -4 & -5  \\\\\n",
       " -4 & -4 & -4 & 8 & -5 & 9 & 4 & 0 & -4 & 9  \\\\\n",
       " -4 & 6 & -5 & 8 & 0 & 3 & 1 & -4 & -6 & -6  \\\\\n",
       " -6 & -9 & 9 & 9 & -2 & 9 & -5 & -2 & -2 & -3  \\\\\n",
       " -8 & 0 & 0 & 0 & 10 & -3 & 5 & 0 & -4 & 9  \\\\\n",
       " 8 & 4 & 8 & -9 & 4 & 8 & -6 & 1 & 9 & 2  \\\\\n",
       " 2 & 1 & -1 & 4 & -6 & -10 & 1 & -6 & 6 & 7  \\\\\n",
       " -6 & -5 & 4 & -6 & -5 & -6 & -10 & -1 & -2 & 7  \\\\\n",
       " 1 & 10 & -10 & -4 & -8 & 7 & 5 & -1 & 6 & -6  \\\\\n",
       " \\end{bmatrix}\n",
       "$$"
      ],
      "text/plain": [
       "<IPython.core.display.Latex object>"
      ]
     },
     "metadata": {},
     "output_type": "display_data"
    },
    {
     "data": {
      "text/latex": [
       "$\\displaystyle |A|=-47189795115.99997$"
      ],
      "text/plain": [
       "<IPython.core.display.Math object>"
      ]
     },
     "metadata": {},
     "output_type": "display_data"
    },
    {
     "data": {
      "text/latex": [
       "$\\displaystyle |A|=-47,189,795,116$"
      ],
      "text/plain": [
       "<IPython.core.display.Math object>"
      ]
     },
     "metadata": {},
     "output_type": "display_data"
    }
   ],
   "source": [
    "# Cell 6\n",
    "\n",
<<<<<<< HEAD
    "a = np.array(\n",
=======
    "a = np.array( #10 by 10 array\n",
>>>>>>> 4127992523b1a84798656b299bfcdd01007be6a6
    "    [\n",
    "        [3, 4, 9, 8, -5, -2, 2, 7, 7, 4],\n",
    "        [6, -10, -10, -10, -6, -10, 1, 0, -4, -5],\n",
    "        [-4, -4, -4, 8, -5, 9, 4, 0, -4, 9],\n",
    "        [-4, 6, -5, 8, 0, 3, 1, -4, -6, -6],\n",
    "        [-6, -9, 9, 9, -2, 9, -5, -2, -2, -3],\n",
    "        [-8, 0, 0, 0, 10, -3, 5, 0, -4, 9],\n",
    "        [8, 4, 8, -9, 4, 8, -6, 1, 9, 2],\n",
    "        [2, 1, -1, 4, -6, -10, 1, -6, 6, 7],\n",
    "        [-6, -5, 4, -6, -5, -6, -10, -1, -2, 7],\n",
    "        [1, 10, -10, -4, -8, 7, 5, -1, 6, -6],\n",
    "    ]\n",
    ")\n",
    "\n",
    "display(array_to_latex(a, max_size=10, prefix=r\"\\mathbf{A}=\"))\n",
<<<<<<< HEAD
=======
    "#max_size is saying how many elements per dimension should be explicitly\n",
    "#shown\n",
>>>>>>> 4127992523b1a84798656b299bfcdd01007be6a6
    "\n",
    "display(Math(rf\"|A|={np.linalg.det(a)}\"))\n",
    "display(Math(rf\"|A|={np.linalg.det(a):,.0f}\"))"
   ]
  },
  {
   "cell_type": "code",
<<<<<<< HEAD
   "execution_count": 10,
=======
   "execution_count": 11,
>>>>>>> 4127992523b1a84798656b299bfcdd01007be6a6
   "id": "25ee7830-ff20-44ab-ab90-c0b4a5981973",
   "metadata": {},
   "outputs": [
    {
     "data": {
      "text/latex": [
       "$$\n",
       "\\mathbf{Coeffs}=\n",
       "\\begin{bmatrix}\n",
       "4 & 5 & -2  \\\\\n",
       " 7 & -1 & 2  \\\\\n",
       " 3 & 1 & 4  \\\\\n",
       " \\end{bmatrix}\n",
       "$$"
      ],
      "text/plain": [
       "<IPython.core.display.Latex object>"
      ]
     },
     "metadata": {},
     "output_type": "display_data"
    },
    {
     "data": {
      "text/latex": [
       "$$\n",
       "\\mathbf{Vals}=\n",
       "\\begin{bmatrix}\n",
       "-14 & 42 & 28  \\\\\n",
       " \\end{bmatrix}\n",
       "$$"
      ],
      "text/plain": [
       "<IPython.core.display.Latex object>"
      ]
     },
     "metadata": {},
     "output_type": "display_data"
    }
   ],
   "source": [
    "# Cell 7\n",
    "\n",
<<<<<<< HEAD
    "coeffs = np.array([[4, 5, -2], [7, -1, 2], [3, 1, 4]])\n",
    "vals = np.array([-14, 42, 28])\n",
=======
    "coeffs = np.array([[4, 5, -2], [7, -1, 2], [3, 1, 4]]) #coefficients of x's\n",
    "vals = np.array([-14, 42, 28]) #array of y coeffs\n",
>>>>>>> 4127992523b1a84798656b299bfcdd01007be6a6
    "\n",
    "display(array_to_latex(coeffs, prefix=r\"\\mathbf{Coeffs}=\"))\n",
    "display(array_to_latex(vals, prefix=r\"\\mathbf{Vals}=\"))"
   ]
  },
  {
   "cell_type": "code",
<<<<<<< HEAD
   "execution_count": 12,
   "id": "310b226e-c9c9-4f37-9068-298c601065c2",
   "metadata": {},
   "outputs": [
    {
     "data": {
      "text/latex": [
       "$\\displaystyle x=4$"
      ],
      "text/plain": [
       "<IPython.core.display.Math object>"
      ]
     },
     "metadata": {},
     "output_type": "display_data"
    },
    {
     "data": {
      "text/latex": [
       "$\\displaystyle y=-4$"
      ],
      "text/plain": [
       "<IPython.core.display.Math object>"
      ]
     },
     "metadata": {},
     "output_type": "display_data"
    },
    {
     "data": {
      "text/latex": [
       "$\\displaystyle z=5$"
      ],
      "text/plain": [
       "<IPython.core.display.Math object>"
      ]
     },
     "metadata": {},
     "output_type": "display_data"
    }
   ],
=======
   "execution_count": null,
   "id": "310b226e-c9c9-4f37-9068-298c601065c2",
   "metadata": {},
   "outputs": [],
>>>>>>> 4127992523b1a84798656b299bfcdd01007be6a6
   "source": [
    "# Cell 8\n",
    "\n",
    "# Calculate determinant of coefficients matrix\n",
<<<<<<< HEAD
    "det_coeffs = np.linalg.det(coeffs)\n",
    "\n",
    "# Overlay value vector on each column of the coeffs matrix\n",
    "xa = np.copy(coeffs)\n",
    "xa[:, 0] = vals\n",
    "det_xa = np.linalg.det(xa)\n",
    "\n",
    "ya = np.copy(coeffs)\n",
    "ya[:, 1] = vals\n",
    "det_ya = np.linalg.det(ya)\n",
    "\n",
    "za = np.copy(coeffs)\n",
    "za[:, 2] = vals\n",
=======
    "det_coeffs = np.linalg.det(coeffs) #compute det of coefficients matrix\n",
    "\n",
    "# Overlay value vector on each column of the coeffs matrix\n",
    "xa = np.copy(coeffs) #copy the coefficient array\n",
    "xa[:, 0] = vals #specify all rows and 1st column, set that equal to y coeff\n",
    "#array\n",
    "det_xa = np.linalg.det(xa) #compute new determinant\n",
    "\n",
    "ya = np.copy(coeffs) \n",
    "ya[:, 1] = vals #put vals in second column\n",
    "det_ya = np.linalg.det(ya)\n",
    "\n",
    "za = np.copy(coeffs)\n",
    "za[:, 2] = vals #put vals in third column\n",
>>>>>>> 4127992523b1a84798656b299bfcdd01007be6a6
    "det_za = np.linalg.det(za)\n",
    "\n",
    "# Use Cramer's rule to solve 3 x 3 system of linear equations\n",
    "x = det_xa / det_coeffs\n",
    "y = det_ya / det_coeffs\n",
    "z = det_za / det_coeffs\n",
    "\n",
    "display(Math(rf\"x={x:,.0f}\"))\n",
    "display(Math(rf\"y={y:,.0f}\"))\n",
    "display(Math(rf\"z={z:,.0f}\"))"
   ]
  },
  {
   "cell_type": "code",
<<<<<<< HEAD
   "execution_count": 11,
   "id": "b3d40842-483f-49ca-99b5-ebdd1b8602ee",
   "metadata": {},
   "outputs": [
    {
     "data": {
      "text/latex": [
       "$$\n",
       "\n",
       "\\begin{bmatrix}\n",
       "4 & -4 & 5  \\\\\n",
       " \\end{bmatrix}\n",
       "$$"
      ],
      "text/plain": [
       "<IPython.core.display.Latex object>"
      ]
     },
     "metadata": {},
     "output_type": "display_data"
    }
   ],
=======
   "execution_count": null,
   "id": "b3d40842-483f-49ca-99b5-ebdd1b8602ee",
   "metadata": {},
   "outputs": [],
>>>>>>> 4127992523b1a84798656b299bfcdd01007be6a6
   "source": [
    "# Cell 9\n",
    "\n",
    "# Use numpy's linear algebra solver\n",
    "sol = np.linalg.solve(coeffs, vals)\n",
    "\n",
    "display(array_to_latex(sol))"
   ]
<<<<<<< HEAD
  },
  {
   "cell_type": "code",
   "execution_count": null,
   "id": "bd52e5d2-1cab-4888-9f47-8d6b5575b8e6",
   "metadata": {},
   "outputs": [],
   "source": []
=======
>>>>>>> 4127992523b1a84798656b299bfcdd01007be6a6
  }
 ],
 "metadata": {
  "kernelspec": {
   "display_name": "Python 3 (ipykernel)",
   "language": "python",
   "name": "python3"
  },
  "language_info": {
   "codemirror_mode": {
    "name": "ipython",
    "version": 3
   },
   "file_extension": ".py",
   "mimetype": "text/x-python",
   "name": "python",
   "nbconvert_exporter": "python",
   "pygments_lexer": "ipython3",
   "version": "3.10.4"
  }
 },
 "nbformat": 4,
 "nbformat_minor": 5
}
