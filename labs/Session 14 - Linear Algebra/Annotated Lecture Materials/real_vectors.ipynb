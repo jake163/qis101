{
 "cells": [
  {
   "cell_type": "code",
   "execution_count": 1,
   "id": "c4039191-bcff-4b01-93cb-f85f6f6e8995",
   "metadata": {},
   "outputs": [
    {
     "name": "stdout",
     "output_type": "stream",
     "text": [
      "Type of v is ndarray\n",
      "Number of dimensions of v = 1\n",
      "Shape of dimensions of v = (2,)\n",
      "Length of v = 2\n",
      "Size of v = 2\n"
     ]
    },
    {
     "data": {
      "text/latex": [
       "$$\n",
       "\\mathbf{v}=\n",
       "\\begin{bmatrix}\n",
       "\\tfrac{1}{\\sqrt{2}} & \\tfrac{1}{\\sqrt{2}}  \\\\\n",
       " \\end{bmatrix}\n",
       "$$"
      ],
      "text/plain": [
       "<IPython.core.display.Latex object>"
      ]
     },
     "execution_count": 1,
     "metadata": {},
     "output_type": "execute_result"
    }
   ],
   "source": [
    "# real_vectors.ipynb\n",
    "# Cell 1\n",
    "\n",
    "import numpy as np\n",
    "from IPython.display import Math\n",
    "from qiskit.visualization import array_to_latex #qiskit package helps\n",
    "#convert numpy array into latex\n",
    "\n",
    "\n",
    "def print_ndarray_info(name, a): #display information about whatever \n",
    "    #variable is given, where a is an array\n",
    "    print(f\"Type of {name} is {type(a).__name__}\")\n",
    "    print(f\"Number of dimensions of {name} = {a.ndim}\")\n",
    "    print(f\"Shape of dimensions of {name} = {a.shape}\")\n",
    "    print(f\"Length of {name} = {len(a)}\")\n",
    "    print(f\"Size of {name} = {a.size}\")\n",
    "\n",
    "\n",
    "theta1 = 1 / 4 * np.pi #declare two angles\n",
    "theta2 = 3 / 4 * np.pi\n",
    "\n",
    "# Create a Numpy single dimension (1D) array, aka a \"vector\"\n",
    "v = np.array([np.cos(theta1), np.sin(theta1)])\n",
    "print_ndarray_info(\"v\", v) #print output of above helper function, pass in\n",
    "#vector\n",
    "array_to_latex(v, prefix=r\"\\mathbf{v}=\") #specify prefix of variable v,\n",
    "#where the prefix is a bold v"
   ]
  },
  {
   "cell_type": "code",
   "execution_count": 2,
   "id": "61c5e5af-0340-4863-ae32-a16f58b12713",
   "metadata": {},
   "outputs": [
    {
     "name": "stdout",
     "output_type": "stream",
     "text": [
      "Type of w is ndarray\n",
      "Number of dimensions of w = 1\n",
      "Shape of dimensions of w = (2,)\n",
      "Length of w = 2\n",
      "Size of w = 2\n"
     ]
    },
    {
     "data": {
      "text/latex": [
       "$$\n",
       "\\mathbf{w}=\n",
       "\\begin{bmatrix}\n",
       "-\\tfrac{1}{\\sqrt{2}} & \\tfrac{1}{\\sqrt{2}}  \\\\\n",
       " \\end{bmatrix}\n",
       "$$"
      ],
      "text/plain": [
       "<IPython.core.display.Latex object>"
      ]
     },
     "execution_count": 2,
     "metadata": {},
     "output_type": "execute_result"
    }
   ],
   "source": [
    "# Cell 2\n",
    "\n",
    "# Create another vector\n",
    "w = np.array([np.cos(theta2), np.sin(theta2)])\n",
    "print_ndarray_info(\"w\", w)\n",
    "array_to_latex(w, prefix=r\"\\mathbf{w}=\")"
   ]
  },
  {
   "cell_type": "code",
   "execution_count": 3,
   "id": "fbe91520-3b43-4723-863c-a32a466880f5",
   "metadata": {},
   "outputs": [
    {
     "data": {
      "text/latex": [
       "$\\displaystyle \\|\\mathbf{v}\\|=1.0$"
      ],
      "text/plain": [
       "<IPython.core.display.Math object>"
      ]
     },
     "metadata": {},
     "output_type": "display_data"
    },
    {
     "data": {
      "text/latex": [
       "$\\displaystyle \\|\\mathbf{w}\\|=1.0$"
      ],
      "text/plain": [
       "<IPython.core.display.Math object>"
      ]
     },
     "metadata": {},
     "output_type": "display_data"
    }
   ],
   "source": [
    "# Cell 3\n",
    "\n",
    "# Print the norm (aka magnitude, modulus) of both vectors\n",
    "display(Math(rf\"\\|\\mathbf{{v}}\\|={np.linalg.norm(v)}\")) #the .norm() \n",
    "#returns the length of the inputted vectors\n",
    "display(Math(rf\"\\|\\mathbf{{w}}\\|={np.linalg.norm(w)}\"))"
   ]
  },
  {
   "cell_type": "code",
   "execution_count": 4,
   "id": "b2662b15-f6e7-41bb-b285-02e78f384640",
   "metadata": {},
   "outputs": [
    {
     "data": {
      "text/latex": [
       "$\\displaystyle \\mathbf{v\\cdot w}=\\color{red}{0.0}$"
      ],
      "text/plain": [
       "<IPython.core.display.Math object>"
      ]
     },
     "metadata": {},
     "output_type": "display_data"
    },
    {
     "data": {
      "text/latex": [
       "$\\displaystyle \\mathbf{v\\cdot w}=0.0$"
      ],
      "text/plain": [
       "<IPython.core.display.Math object>"
      ]
     },
     "metadata": {},
     "output_type": "display_data"
    },
    {
     "data": {
      "text/latex": [
       "$\\displaystyle \\theta=90.0^\\circ$"
      ],
      "text/plain": [
       "<IPython.core.display.Math object>"
      ]
     },
     "metadata": {},
     "output_type": "display_data"
    }
   ],
   "source": [
    "# Cell 4\n",
    "\n",
    "# Print the dot product of vectors v and w\n",
    "v_dot_w = np.dot(v, w)\n",
    "\n",
    "# Note: There is roundoff error\n",
    "display(Math(rf\"\\mathbf{{v\\cdot w}}=\\color{{red}}{{{v_dot_w}}}\"))\n",
    "\n",
    "# We can use np.round(_, #) to round _ to a specified # of decimals\n",
    "display(Math(rf\"\\mathbf{{v\\cdot w}}={np.round(v_dot_w,5)}\"))\n",
    "\n",
    "theta = np.degrees(np.arccos(np.dot(v, w) / (np.linalg.norm(v) * np.linalg.norm(w))))\n",
    "display(Math(rf\"\\theta={theta}^\\circ\"))\n",
    "#definition of the angle between two vectors, ^\\circ is the degree symbol"
   ]
  },
  {
   "cell_type": "code",
   "execution_count": 6,
   "id": "a3dbc5a4-091e-4220-9e89-63c6e2e7344c",
   "metadata": {},
   "outputs": [
    {
     "data": {
      "text/latex": [
       "$$\n",
       "\\mathbf{\\hat{i}}=\n",
       "\\begin{bmatrix}\n",
       "1 & 0 & 0  \\\\\n",
       " \\end{bmatrix}\n",
       "$$"
      ],
      "text/plain": [
       "<IPython.core.display.Latex object>"
      ]
     },
     "metadata": {},
     "output_type": "display_data"
    },
    {
     "data": {
      "text/latex": [
       "$$\n",
       "\\mathbf{\\hat{j}}=\n",
       "\\begin{bmatrix}\n",
       "0 & 1 & 0  \\\\\n",
       " \\end{bmatrix}\n",
       "$$"
      ],
      "text/plain": [
       "<IPython.core.display.Latex object>"
      ]
     },
     "metadata": {},
     "output_type": "display_data"
    },
    {
     "data": {
      "text/latex": [
       "$$\n",
       "\\mathbf{\\hat{k}}=\n",
       "\\begin{bmatrix}\n",
       "0 & 0 & 1  \\\\\n",
       " \\end{bmatrix}\n",
       "$$"
      ],
      "text/plain": [
       "<IPython.core.display.Latex object>"
      ]
     },
     "metadata": {},
     "output_type": "display_data"
    }
   ],
   "source": [
    "# Cell 5\n",
    "\n",
    "# Cartesian basis vectors (orthonormal)\n",
    "i = np.array([1, 0, 0]) #define cartesian basis vectors, x-hat\n",
    "j = np.array([0, 1, 0]) #y-hat {/hat{j}}\n",
    "k = np.array([0, 0, 1]) #z-hat\n",
    "\n",
    "display(array_to_latex(i, prefix=r\"\\mathbf{\\hat{i}}=\"))\n",
    "display(array_to_latex(j, prefix=r\"\\mathbf{\\hat{j}}=\"))\n",
    "display(array_to_latex(k, prefix=r\"\\mathbf{\\hat{k}}=\"))"
   ]
  },
  {
   "cell_type": "code",
   "execution_count": 7,
   "id": "77d858b5-c020-4101-a93c-89964e4ccbb0",
   "metadata": {},
   "outputs": [
    {
     "data": {
      "text/latex": [
       "$$\n",
       "\\mathbf{v}=\n",
       "\\begin{bmatrix}\n",
       "2 & 3 & 5  \\\\\n",
       " \\end{bmatrix}\n",
       "$$"
      ],
      "text/plain": [
       "<IPython.core.display.Latex object>"
      ]
     },
     "metadata": {},
     "output_type": "display_data"
    },
    {
     "data": {
      "text/latex": [
       "$\\displaystyle \\mathbf{v}\\cdot\\mathbf{\\hat{i}}=2$"
      ],
      "text/plain": [
       "<IPython.core.display.Math object>"
      ]
     },
     "metadata": {},
     "output_type": "display_data"
    },
    {
     "data": {
      "text/latex": [
       "$\\displaystyle \\mathbf{v}\\cdot\\mathbf{\\hat{j}}=3$"
      ],
      "text/plain": [
       "<IPython.core.display.Math object>"
      ]
     },
     "metadata": {},
     "output_type": "display_data"
    },
    {
     "data": {
      "text/latex": [
       "$\\displaystyle \\mathbf{v}\\cdot\\mathbf{\\hat{k}}=5$"
      ],
      "text/plain": [
       "<IPython.core.display.Math object>"
      ]
     },
     "metadata": {},
     "output_type": "display_data"
    }
   ],
   "source": [
    "# Cell 6\n",
    "\n",
    "# We can extract the individual components of a vector\n",
    "# by using the inner products of its basis vectors\n",
    "v = np.array([2, 3, 5])\n",
    "display(array_to_latex(v, prefix=r\"\\mathbf{v}=\"))\n",
    "display(Math(rf\"\\mathbf{{v}}\\cdot\\mathbf{{\\hat{{i}}}}={np.dot(v, i)}\"))\n",
    "display(Math(rf\"\\mathbf{{v}}\\cdot\\mathbf{{\\hat{{j}}}}={np.dot(v, j)}\"))\n",
    "display(Math(rf\"\\mathbf{{v}}\\cdot\\mathbf{{\\hat{{k}}}}={np.dot(v, k)}\"))"
   ]
  },
  {
   "cell_type": "code",
   "execution_count": null,
   "id": "68f6bc70-5f1b-465a-999e-62c4a201afc9",
   "metadata": {},
   "outputs": [],
   "source": []
  }
 ],
 "metadata": {
  "kernelspec": {
   "display_name": "Python 3 (ipykernel)",
   "language": "python",
   "name": "python3"
  },
  "language_info": {
   "codemirror_mode": {
    "name": "ipython",
    "version": 3
   },
   "file_extension": ".py",
   "mimetype": "text/x-python",
   "name": "python",
   "nbconvert_exporter": "python",
   "pygments_lexer": "ipython3",
   "version": "3.10.4"
  }
 },
 "nbformat": 4,
 "nbformat_minor": 5
}
