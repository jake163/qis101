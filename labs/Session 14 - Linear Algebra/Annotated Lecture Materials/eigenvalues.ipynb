{
 "cells": [
  {
   "cell_type": "code",
<<<<<<< HEAD
   "execution_count": 2,
   "id": "8abefc54-25b1-406c-ab38-b34757bf1b09",
   "metadata": {},
   "outputs": [
    {
     "data": {
      "text/latex": [
       "$$\n",
       "\\mathbf{A}=\n",
       "\\begin{bmatrix}\n",
       "-5.664 - 3.623i & 7.672 - 4.47i & 1.864 - 7.149i  \\\\\n",
       " 0.766 - 4.821i & -4.41 - 0.228i & 9.759 + 4.256i  \\\\\n",
       " 1.0335 - 3.672i & 3.89 - 5.741i & 7.76 + 3.812i  \\\\\n",
       " \\end{bmatrix}\n",
       "$$"
      ],
      "text/plain": [
       "<IPython.core.display.Latex object>"
      ]
     },
     "metadata": {},
     "output_type": "display_data"
    },
    {
     "data": {
      "text/latex": [
       "$$\n",
       "\\mathbf{B}=\n",
       "\\begin{bmatrix}\n",
       "5 & 4 + 5i & 6 - 16i  \\\\\n",
       " 4 - 5i & 13 & 7  \\\\\n",
       " 6 + 16i & 7 & -2.1  \\\\\n",
       " \\end{bmatrix}\n",
       "$$"
      ],
      "text/plain": [
       "<IPython.core.display.Latex object>"
      ]
     },
     "metadata": {},
     "output_type": "display_data"
    }
   ],
=======
   "execution_count": null,
   "id": "8abefc54-25b1-406c-ab38-b34757bf1b09",
   "metadata": {},
   "outputs": [],
>>>>>>> 4127992523b1a84798656b299bfcdd01007be6a6
   "source": [
    "# eigenvalues.ipynb\n",
    "\n",
    "# Cell 1\n",
    "\n",
    "import numpy as np\n",
    "from IPython.display import Math\n",
    "from qiskit.visualization import array_to_latex\n",
    "\n",
<<<<<<< HEAD
    "a = np.array( #declare complex matrix a\n",
=======
    "a = np.array(\n",
>>>>>>> 4127992523b1a84798656b299bfcdd01007be6a6
    "    (\n",
    "        [\n",
    "            [-5.664 - 3.623j, 7.672 - 4.470j, 1.864 - 7.149j],\n",
    "            [0.766 - 4.821j, -4.410 - 0.228j, 9.759 + 4.256j],\n",
    "            [1.0335 - 3.672j, 3.890 - 5.741j, 7.760 + 3.812j],\n",
    "        ]\n",
    "    )\n",
    ")\n",
    "b = np.array([[5, 4 + 5j, 6 - 16j], [4 - 5j, 13, 7], [6 + 16j, 7, -2.1]])\n",
<<<<<<< HEAD
    "#declare complex marix b\n",
=======
>>>>>>> 4127992523b1a84798656b299bfcdd01007be6a6
    "\n",
    "display(array_to_latex(a, prefix=\"\\mathbf{A}=\"))\n",
    "display(array_to_latex(b, prefix=\"\\mathbf{B}=\"))"
   ]
  },
  {
   "cell_type": "code",
<<<<<<< HEAD
   "execution_count": 5,
   "id": "65b2ae29-f3a2-4b62-95e1-2e4ef3f1ab38",
   "metadata": {},
   "outputs": [
    {
     "data": {
      "text/latex": [
       "$$\n",
       "\\mathrm{Eigenvectors\\;(\\mathbf{v})\\;of\\;}\\mathbf{A}=\n",
       "\\begin{bmatrix}\n",
       "0.23518 - 0.47283i & 0.92015 & 0.71713  \\\\\n",
       " 0.38949 + 0.12957i & 0.15044 + 0.01704i & -0.50771 + 0.45585i  \\\\\n",
       " 0.74339 & 0.12822 + 0.33759i & -0.07232 - 0.12215i  \\\\\n",
       " \\end{bmatrix}\n",
       "$$"
      ],
      "text/plain": [
       "<IPython.core.display.Latex object>"
      ]
     },
     "metadata": {},
     "output_type": "display_data"
    },
    {
     "data": {
      "text/latex": [
       "$$\n",
       "\\mathrm{Eigenvalues\\;(\\lambda)\\;of\\;}\\mathbf{A}=\n",
       "\\begin{bmatrix}\n",
       "8.79015 - 0.3369i & -1.44427 - 4.52407i & -9.65989 + 4.82197i  \\\\\n",
       " \\end{bmatrix}\n",
       "$$"
      ],
      "text/plain": [
       "<IPython.core.display.Latex object>"
      ]
     },
     "metadata": {},
     "output_type": "display_data"
    },
    {
     "data": {
      "text/latex": [
       "$$\n",
       "\\mathbf{v_2}=\n",
       "\\begin{bmatrix}\n",
       "0.92015 & 0.15044 + 0.01704i & 0.12822 + 0.33759i  \\\\\n",
       " \\end{bmatrix}\n",
       "$$"
      ],
      "text/plain": [
       "<IPython.core.display.Latex object>"
      ]
     },
     "metadata": {},
     "output_type": "display_data"
    },
    {
     "data": {
      "text/latex": [
       "$$\n",
       "\\mathrm{\\lambda_2}=\n",
       "\\begin{bmatrix}\n",
       "-1.44427 - 4.52407i  \\\\\n",
       " \\end{bmatrix}\n",
       "$$"
      ],
      "text/plain": [
       "<IPython.core.display.Latex object>"
      ]
     },
     "metadata": {},
     "output_type": "display_data"
    },
    {
     "data": {
      "text/latex": [
       "$$\n",
       "\\mathbf{A\\cdot v_2}=\n",
       "\\begin{bmatrix}\n",
       "-1.32894 - 4.1628i & -0.14018 - 0.7052i & 1.3421 - 1.06766i  \\\\\n",
       " \\end{bmatrix}\n",
       "$$"
      ],
      "text/plain": [
       "<IPython.core.display.Latex object>"
      ]
     },
     "metadata": {},
     "output_type": "display_data"
    },
    {
     "data": {
      "text/latex": [
       "$$\n",
       "\\mathrm{\\lambda_2\\cdot\\mathbf{v_2}}=\n",
       "\\begin{bmatrix}\n",
       "-1.32894 - 4.1628i & -0.14018 - 0.7052i & 1.3421 - 1.06766i  \\\\\n",
       " \\end{bmatrix}\n",
       "$$"
      ],
      "text/plain": [
       "<IPython.core.display.Latex object>"
      ]
     },
     "metadata": {},
     "output_type": "display_data"
    },
    {
     "data": {
      "text/latex": [
       "$\\displaystyle \\mathbf{A\\cdot v_2}=\\mathrm{\\lambda_2\\cdot\\mathbf{v_2}}\\;?\\;$$\\rightarrow$$\\;True$"
      ],
      "text/plain": [
       "<IPython.core.display.Math object>"
      ]
     },
     "metadata": {},
     "output_type": "display_data"
    }
   ],
=======
   "execution_count": null,
   "id": "65b2ae29-f3a2-4b62-95e1-2e4ef3f1ab38",
   "metadata": {},
   "outputs": [],
>>>>>>> 4127992523b1a84798656b299bfcdd01007be6a6
   "source": [
    "# Cell 2 - Eigenequation\n",
    "\n",
    "# The dot product of a matrix with one of its eigenvectors equals\n",
    "# the dot product of the eigenvalue for that eigenvector\n",
    "\n",
    "# Find the eigenvalues and eigenvectors of matrix A\n",
<<<<<<< HEAD
    "eigen_vals, eigen_vecs = np.linalg.eig(a) #returns tuple, 1st element \n",
    "#is a list of eigenvectors, second element is list of eigenvalues\n",
=======
    "eigen_vals, eigen_vecs = np.linalg.eig(a)\n",
>>>>>>> 4127992523b1a84798656b299bfcdd01007be6a6
    "\n",
    "display(\n",
    "    array_to_latex(\n",
    "        eigen_vecs, prefix=\"\\mathrm{Eigenvectors\\;(\\mathbf{v})\\;of\\;}\\mathbf{A}=\"\n",
    "    )\n",
    ")\n",
    "display(\n",
    "    array_to_latex(\n",
    "        eigen_vals, prefix=\"\\mathrm{Eigenvalues\\;(\\lambda)\\;of\\;}\\mathbf{A}=\"\n",
    "    )\n",
    ")\n",
    "\n",
    "# Display the 2nd eignevector and 2nd eigenvalue\n",
    "display(array_to_latex(eigen_vecs[:, 1], prefix=\"\\mathbf{v_2}=\"))\n",
    "display(array_to_latex(eigen_vals[1, np.newaxis], prefix=\"\\mathrm{\\lambda_2}=\"))\n",
    "\n",
<<<<<<< HEAD
    "t1 = np.dot(a, eigen_vecs[:, 1]) #array slice syntax, give eigenvector\n",
    "#column, dot a onto eigenvector matrix\n",
    "t2 = np.dot(eigen_vals[1], eigen_vecs[:, 1]) #dot eigenvalue matrix\n",
    "#into eigenvector matrix\n",
=======
    "t1 = np.dot(a, eigen_vecs[:, 1])\n",
    "t2 = np.dot(eigen_vals[1], eigen_vecs[:, 1])\n",
>>>>>>> 4127992523b1a84798656b299bfcdd01007be6a6
    "\n",
    "display(array_to_latex(t1, prefix=r\"\\mathbf{A\\cdot v_2}=\"))\n",
    "display(array_to_latex(t2, prefix=r\"\\mathrm{\\lambda_2\\cdot\\mathbf{v_2}}=\"))\n",
    "\n",
    "display(\n",
    "    Math(\n",
    "        r\"\\mathbf{A\\cdot v_2}=\"\n",
    "        r\"\\mathrm{\\lambda_2\\cdot\\mathbf{v_2}}\"\n",
    "        rf\"\\;?\\;$$\\rightarrow$$\\;{np.isclose(t1,t2).all()}\"\n",
<<<<<<< HEAD
    "    ) #.all finds similarity, element by element\n",
=======
    "    )\n",
>>>>>>> 4127992523b1a84798656b299bfcdd01007be6a6
    ")"
   ]
  },
  {
   "cell_type": "code",
<<<<<<< HEAD
   "execution_count": 6,
   "id": "63c7703f-1da9-4afe-a60e-dc996f402238",
   "metadata": {},
   "outputs": [
    {
     "data": {
      "text/latex": [
       "$$\n",
       "\\mathrm{Eigenvectors\\;(\\mathbf{v})\\;of\\;}\\mathbf{B}=\n",
       "\\begin{bmatrix}\n",
       "-0.17427 + 0.58462i & 0.65085 & -0.41828 + 0.17113i  \\\\\n",
       " -0.23903 - 0.10278i & 0.54162 - 0.03222i & 0.7987  \\\\\n",
       " 0.74843 & 0.3201 + 0.42373i & 0.02401 - 0.39656i  \\\\\n",
       " \\end{bmatrix}\n",
       "$$"
      ],
      "text/plain": [
       "<IPython.core.display.Latex object>"
      ]
     },
     "metadata": {},
     "output_type": "display_data"
    },
    {
     "data": {
      "text/latex": [
       "$$\n",
       "\\mathrm{Eigenvalues\\;(\\lambda)\\;of\\;}\\mathbf{B}=\n",
       "\\begin{bmatrix}\n",
       "-18.23072 & 21.94377 & 12.18695  \\\\\n",
       " \\end{bmatrix}\n",
       "$$"
      ],
      "text/plain": [
       "<IPython.core.display.Latex object>"
      ]
     },
     "metadata": {},
     "output_type": "display_data"
    }
   ],
   "source": [
    "# Cell 3 - Hermitian matrices have all real eigenvalues\n",
    "\n",
    "eigen_vals, eigen_vecs = np.linalg.eig(b) #unpack tuple, columns are \n",
    "#evals and evects. We can only measure real observables\n",
=======
   "execution_count": null,
   "id": "63c7703f-1da9-4afe-a60e-dc996f402238",
   "metadata": {},
   "outputs": [],
   "source": [
    "# Cell 3 - Hermitian matrices have all real eigenvalues\n",
    "\n",
    "eigen_vals, eigen_vecs = np.linalg.eig(b)\n",
>>>>>>> 4127992523b1a84798656b299bfcdd01007be6a6
    "display(\n",
    "    array_to_latex(\n",
    "        eigen_vecs, prefix=\"\\mathrm{Eigenvectors\\;(\\mathbf{v})\\;of\\;}\\mathbf{B}=\"\n",
    "    )\n",
    ")\n",
    "display(\n",
    "    array_to_latex(\n",
    "        eigen_vals, prefix=\"\\mathrm{Eigenvalues\\;(\\lambda)\\;of\\;}\\mathbf{B}=\"\n",
    "    )\n",
    ")"
   ]
  },
  {
   "cell_type": "code",
<<<<<<< HEAD
   "execution_count": 7,
   "id": "350f90a5-f2e3-4855-ad20-80ab6e5cc968",
   "metadata": {},
   "outputs": [
    {
     "data": {
      "text/latex": [
       "$$\n",
       "\\mathbf{v_1}=\n",
       "\\begin{bmatrix}\n",
       "-0.17427 + 0.58462i & -0.23903 - 0.10278i & 0.74843  \\\\\n",
       " \\end{bmatrix}\n",
       "$$"
      ],
      "text/plain": [
       "<IPython.core.display.Latex object>"
      ]
     },
     "metadata": {},
     "output_type": "display_data"
    },
    {
     "data": {
      "text/latex": [
       "$$\n",
       "\\mathbf{v_2}=\n",
       "\\begin{bmatrix}\n",
       "0.65085 & 0.54162 - 0.03222i & 0.3201 + 0.42373i  \\\\\n",
       " \\end{bmatrix}\n",
       "$$"
      ],
      "text/plain": [
       "<IPython.core.display.Latex object>"
      ]
     },
     "metadata": {},
     "output_type": "display_data"
    },
    {
     "data": {
      "text/latex": [
       "$$\n",
       "\\mathbf{v_3}=\n",
       "\\begin{bmatrix}\n",
       "-0.41828 + 0.17113i & 0.7987 & 0.02401 - 0.39656i  \\\\\n",
       " \\end{bmatrix}\n",
       "$$"
      ],
      "text/plain": [
       "<IPython.core.display.Latex object>"
      ]
     },
     "metadata": {},
     "output_type": "display_data"
    },
    {
     "data": {
      "text/latex": [
       "$\\displaystyle \\langle\\mathbf{v_1,v_2}\\rangle=-0j$"
      ],
      "text/plain": [
       "<IPython.core.display.Math object>"
      ]
     },
     "metadata": {},
     "output_type": "display_data"
    },
    {
     "data": {
      "text/latex": [
       "$\\displaystyle \\langle\\mathbf{v_2,v_3}\\rangle=0j$"
      ],
      "text/plain": [
       "<IPython.core.display.Math object>"
      ]
     },
     "metadata": {},
     "output_type": "display_data"
    },
    {
     "data": {
      "text/latex": [
       "$\\displaystyle \\langle\\mathbf{v_3,v_1}\\rangle=0j$"
      ],
      "text/plain": [
       "<IPython.core.display.Math object>"
      ]
     },
     "metadata": {},
     "output_type": "display_data"
    }
   ],
=======
   "execution_count": null,
   "id": "350f90a5-f2e3-4855-ad20-80ab6e5cc968",
   "metadata": {},
   "outputs": [],
>>>>>>> 4127992523b1a84798656b299bfcdd01007be6a6
   "source": [
    "# Cell 4 - All eigenvectors of a Hermitian matrix are orthogonal\n",
    "\n",
    "display(array_to_latex(eigen_vecs[:, 0][np.newaxis], prefix=\"\\mathbf{v_1}=\"))\n",
<<<<<<< HEAD
    "#shows eigenvectors as row vector\n",
=======
>>>>>>> 4127992523b1a84798656b299bfcdd01007be6a6
    "display(array_to_latex(eigen_vecs[:, 1][np.newaxis], prefix=\"\\mathbf{v_2}=\"))\n",
    "display(array_to_latex(eigen_vecs[:, 2][np.newaxis], prefix=\"\\mathbf{v_3}=\"))\n",
    "\n",
    "v1_dot_v2 = np.vdot(eigen_vecs[:, 0], eigen_vecs[:, 1])\n",
<<<<<<< HEAD
    "#computes dot products of different eigenvectors, which are all \n",
    "#orthogonal\n",
=======
>>>>>>> 4127992523b1a84798656b299bfcdd01007be6a6
    "v2_dot_v3 = np.vdot(eigen_vecs[:, 1], eigen_vecs[:, 2])\n",
    "v3_dot_v1 = np.vdot(eigen_vecs[:, 2], eigen_vecs[:, 0])\n",
    "\n",
    "display(\n",
    "    Math(rf\"\\langle\\mathbf{{v_1,v_2}}\\rangle={np.round(v1_dot_v2,5)}\"),\n",
    "    Math(rf\"\\langle\\mathbf{{v_2,v_3}}\\rangle={np.round(v2_dot_v3,5)}\"),\n",
    "    Math(rf\"\\langle\\mathbf{{v_3,v_1}}\\rangle={np.round(v3_dot_v1,5)}\"),\n",
    ")"
   ]
<<<<<<< HEAD
  },
  {
   "cell_type": "code",
   "execution_count": null,
   "id": "0fa7b10a-0ef1-4626-ad64-8fa2721b6378",
   "metadata": {},
   "outputs": [],
   "source": []
  },
  {
   "cell_type": "code",
   "execution_count": null,
   "id": "384ea425-0610-4fbc-a451-77f5172be310",
   "metadata": {},
   "outputs": [],
   "source": []
=======
>>>>>>> 4127992523b1a84798656b299bfcdd01007be6a6
  }
 ],
 "metadata": {
  "kernelspec": {
   "display_name": "Python 3 (ipykernel)",
   "language": "python",
   "name": "python3"
  },
  "language_info": {
   "codemirror_mode": {
    "name": "ipython",
    "version": 3
   },
   "file_extension": ".py",
   "mimetype": "text/x-python",
   "name": "python",
   "nbconvert_exporter": "python",
   "pygments_lexer": "ipython3",
<<<<<<< HEAD
   "version": "3.10.4"
=======
   "version": "3.9.13"
>>>>>>> 4127992523b1a84798656b299bfcdd01007be6a6
  }
 },
 "nbformat": 4,
 "nbformat_minor": 5
}
