{
 "cells": [
  {
   "cell_type": "code",
   "execution_count": 64,
   "id": "98978d3b-2891-410e-a8dc-6c27e7e47047",
   "metadata": {},
   "outputs": [
    {
     "data": {
      "text/latex": [
       "$$\n",
       "\\mathbf{A}=\n",
       "\\begin{bmatrix}\n",
       "-76 & -99 + 88i & -58 + 6i  \\\\\n",
       " -99 - 88i & 65 & -39 + 83i  \\\\\n",
       " -58 - 6i & -39 - 83i & 11  \\\\\n",
       " \\end{bmatrix}\n",
       "$$"
      ],
      "text/plain": [
       "<IPython.core.display.Latex object>"
      ]
     },
     "metadata": {},
     "output_type": "display_data"
    },
    {
     "data": {
      "text/latex": [
       "$$\n",
       "\\mathbf{A}^\\dagger=\n",
       "\\begin{bmatrix}\n",
       "-76 & -99 + 88i & -58 + 6i  \\\\\n",
       " -99 - 88i & 65 & -39 + 83i  \\\\\n",
       " -58 - 6i & -39 - 83i & 11  \\\\\n",
       " \\end{bmatrix}\n",
       "$$"
      ],
      "text/plain": [
       "<IPython.core.display.Latex object>"
      ]
     },
     "metadata": {},
     "output_type": "display_data"
    },
    {
     "data": {
      "text/latex": [
       "$\\displaystyle \\mathbf{A} = \\mathbf{A}^\\dagger\\;?\\;$$\\rightarrow$$\\;True$"
      ],
      "text/plain": [
       "<IPython.core.display.Math object>"
      ]
     },
     "metadata": {},
     "output_type": "display_data"
    },
    {
     "data": {
      "text/latex": [
       "$$\n",
       "\\mathbf{A}^{-1}=\n",
       "\\begin{bmatrix}\n",
       "-0.01788 & 0.00894 + 0.00839i & 0.00076 - 0.02797i  \\\\\n",
       " 0.00894 - 0.00839i & -0.00984 & 0.00768 + 0.02513i  \\\\\n",
       " 0.00076 + 0.02797i & 0.00768 - 0.02513i & -0.05224  \\\\\n",
       " \\end{bmatrix}\n",
       "$$"
      ],
      "text/plain": [
       "<IPython.core.display.Latex object>"
      ]
     },
     "metadata": {},
     "output_type": "display_data"
    },
    {
     "data": {
      "text/latex": [
       "$$\n",
       "({\\mathbf{A}^{-1}} \\ )^\\dagger=\n",
       "\\begin{bmatrix}\n",
       "-0.01788 & 0.00894 + 0.00839i & 0.00076 - 0.02797i  \\\\\n",
       " 0.00894 - 0.00839i & -0.00984 & 0.00768 + 0.02513i  \\\\\n",
       " 0.00076 + 0.02797i & 0.00768 - 0.02513i & -0.05224  \\\\\n",
       " \\end{bmatrix}\n",
       "$$"
      ],
      "text/plain": [
       "<IPython.core.display.Latex object>"
      ]
     },
     "metadata": {},
     "output_type": "display_data"
    },
    {
     "data": {
      "text/latex": [
       "$\\displaystyle \\mathbf{A}^{-1} = (\\mathbf{A}^{-1} \\ )^\\dagger\\;?\\;$$\\rightarrow$$\\;True$"
      ],
      "text/plain": [
       "<IPython.core.display.Math object>"
      ]
     },
     "metadata": {},
     "output_type": "display_data"
    }
   ],
   "source": [
    "# hermitian_matrices.ipynb\n",
    "# Cell 1\n",
    "\n",
    "import numpy as np\n",
    "from IPython.display import Math\n",
    "from qiskit.visualization import array_to_latex\n",
    "import random\n",
    "\n",
    "reals = [None] * 3 #empty list, three slots\n",
    "imags = [None] * 3\n",
    "for i in range(3):\n",
    "    reals[i] = random.randint(-100, 100) #each item in list becomes random int in \n",
    "    #specified range\n",
    "    imags[i] = complex(random.randint(-100, 100), random.randint(-100, 100))\n",
    "\n",
    "A = np.array([[reals[0], imags[0], imags[1]], [np.conj(imags[0]), reals[1], imags[2]], \n",
    "              [np.conj(imags[1]), np.conj(imags[2]), reals[2]]])\n",
    "#make a hermitian matrix with random values from lists\n",
    "\n",
    "B = A.conj().T #conjugate transpose of A\n",
    "\n",
    "C = np.linalg.inv(A) #inverse of A\n",
    "\n",
    "D = C.conj().T #conjugate transpose of the inverse of A\n",
    "\n",
    "display(array_to_latex(A, prefix=r\"\\mathbf{A}=\")) #show A\n",
    "display(array_to_latex(B, prefix=r\"\\mathbf{A}^\\dagger=\")) #show the conjugate transpose\n",
    "#of A\n",
    "\n",
    "display(\n",
    "    Math(\n",
    "        rf\"\\mathbf{{A}} = \\mathbf{{A}}^\\dagger\"\n",
    "        rf\"\\;?\\;$$\\rightarrow$$\\;{np.isclose(A,B).all()}\" #verify that A is hermitian\n",
    "    ) )\n",
    "\n",
    "display(array_to_latex(C, prefix=r\"\\mathbf{A}^{-1}=\")) #show the inverse of A\n",
    "display(array_to_latex(D, prefix=r\"({\\mathbf{A}^{-1}} \\ )^\\dagger=\")) #show the conjugate\n",
    "#transpose of the inverse of A\n",
    "\n",
    "display(\n",
    "    Math(\n",
    "        rf\"\\mathbf{{A}}^{{-1}} = (\\mathbf{{A}}^{{-1}} \\ )^\\dagger\"\n",
    "        rf\"\\;?\\;$$\\rightarrow$$\\;{np.isclose(C,D).all()}\" #verify that A inverse is \n",
    "        #hermitian\n",
    "    ) )"
   ]
  },
  {
   "cell_type": "code",
   "execution_count": 96,
   "id": "af22b80f-a9f3-42e8-9b02-73a104b3d54b",
   "metadata": {},
   "outputs": [
    {
     "data": {
      "text/latex": [
       "$$\n",
       "\\mathbf{A}=\n",
       "\\begin{bmatrix}\n",
       "-90 & 35 + 32i & 56 + 12i  \\\\\n",
       " 35 - 32i & -30 & -82 + 5i  \\\\\n",
       " 56 - 12i & -82 - 5i & 51  \\\\\n",
       " \\end{bmatrix}\n",
       "$$"
      ],
      "text/plain": [
       "<IPython.core.display.Latex object>"
      ]
     },
     "metadata": {},
     "output_type": "display_data"
    },
    {
     "data": {
      "text/latex": [
       "$$\n",
       "\\mathbf{A}^\\dagger=\n",
       "\\begin{bmatrix}\n",
       "-90 & 35 + 32i & 56 + 12i  \\\\\n",
       " 35 - 32i & -30 & -82 + 5i  \\\\\n",
       " 56 - 12i & -82 - 5i & 51  \\\\\n",
       " \\end{bmatrix}\n",
       "$$"
      ],
      "text/plain": [
       "<IPython.core.display.Latex object>"
      ]
     },
     "metadata": {},
     "output_type": "display_data"
    },
    {
     "data": {
      "text/latex": [
       "$\\displaystyle \\mathbf{A} = \\mathbf{A}^\\dagger\\;?\\;$$\\rightarrow$$\\;True$"
      ],
      "text/plain": [
       "<IPython.core.display.Math object>"
      ]
     },
     "metadata": {},
     "output_type": "display_data"
    },
    {
     "data": {
      "text/latex": [
       "$$\n",
       "\\mathbf{A}^{-1}=\n",
       "\\begin{bmatrix}\n",
       "0.00113 & 0.00101 + 0.00051i & 0.00036 + 0.00034i  \\\\\n",
       " 0.00101 - 0.00051i & 0.00125 & 0.00048 + 0.00015i  \\\\\n",
       " 0.00036 - 0.00034i & 0.00048 - 0.00015i & 0.0003  \\\\\n",
       " \\end{bmatrix}\n",
       "$$"
      ],
      "text/plain": [
       "<IPython.core.display.Latex object>"
      ]
     },
     "metadata": {},
     "output_type": "display_data"
    },
    {
     "data": {
      "text/latex": [
       "$$\n",
       "(\\mathbf{A}^{-1} \\ )^\\dagger=\n",
       "\\begin{bmatrix}\n",
       "0.00113 & 0.00101 + 0.00051i & 0.00036 + 0.00034i  \\\\\n",
       " 0.00101 - 0.00051i & 0.00125 & 0.00048 + 0.00015i  \\\\\n",
       " 0.00036 - 0.00034i & 0.00048 - 0.00015i & 0.0003  \\\\\n",
       " \\end{bmatrix}\n",
       "$$"
      ],
      "text/plain": [
       "<IPython.core.display.Latex object>"
      ]
     },
     "metadata": {},
     "output_type": "display_data"
    },
    {
     "data": {
      "text/latex": [
       "$\\displaystyle \\mathbf{A}^{-1} = (\\mathbf{A}^{-1} \\ )^\\dagger\\;?\\;$$\\rightarrow$$\\;True$"
      ],
      "text/plain": [
       "<IPython.core.display.Math object>"
      ]
     },
     "metadata": {},
     "output_type": "display_data"
    }
   ],
   "source": [
    "# hermitian_matrices.ipynb\n",
    "# Cell 2\n",
    "\n",
    "reals = [None] * 3\n",
    "imags = [None] * 3\n",
    "for i in range(3):\n",
    "    reals[i] = random.randint(-100, 100)\n",
    "    imags[i] = complex(random.randint(-100, 100), random.randint(-100, 100))\n",
    "\n",
    "A = np.array([[reals[0], imags[0], imags[1]], [np.conj(imags[0]), reals[1], imags[2]], \n",
    "              [np.conj(imags[1]), np.conj(imags[2]), reals[2]]])\n",
    "\n",
    "B = A.conj().T\n",
    "\n",
    "power = random.randint(-2, 5) #random exponent from -2 to 5. This range is not arbitrary,\n",
    "#don't want to go lower than -2 because that risks having the elements be too small. \n",
    "#Same idea for the upper bound, things get too big past 5. \n",
    "\n",
    "C = np.linalg.matrix_power(A, power) #raise the matrix A to a random power n\n",
    "\n",
    "D = C.conj().T #find the conjugate transpose of A^n\n",
    "\n",
    "display(array_to_latex(A, prefix=r\"\\mathbf{A}=\"))\n",
    "display(array_to_latex(B, prefix=r\"\\mathbf{A}^\\dagger=\"))\n",
    "\n",
    "display(\n",
    "    Math(\n",
    "        rf\"\\mathbf{{A}} = \\mathbf{{A}}^\\dagger\"\n",
    "        rf\"\\;?\\;$$\\rightarrow$$\\;{np.isclose(A,B).all()}\"\n",
    "    ) )\n",
    "\n",
    "display(array_to_latex(C, prefix=rf\"\\mathbf{{A}}^{{{power}}}=\")) #show A^n\n",
    "display(array_to_latex(D, prefix=rf\"(\\mathbf{{A}}^{{{power}}} \\ )^\\dagger=\"))\n",
    "#show the conjugate transpose of A^n\n",
    "\n",
    "display(\n",
    "    Math(\n",
    "        rf\"\\mathbf{{A}}^{{{power}}} = (\\mathbf{{A}}^{{{power}}} \\ )^\\dagger\"\n",
    "        rf\"\\;?\\;$$\\rightarrow$$\\;{np.isclose(C,D).all()}\"\n",
    "    ) ) #verify that A^n is hermitian"
   ]
  }
 ],
 "metadata": {
  "kernelspec": {
   "display_name": "Python 3 (ipykernel)",
   "language": "python",
   "name": "python3"
  },
  "language_info": {
   "codemirror_mode": {
    "name": "ipython",
    "version": 3
   },
   "file_extension": ".py",
   "mimetype": "text/x-python",
   "name": "python",
   "nbconvert_exporter": "python",
   "pygments_lexer": "ipython3",
   "version": "3.10.4"
  }
 },
 "nbformat": 4,
 "nbformat_minor": 5
}
