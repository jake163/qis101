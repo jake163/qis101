{
 "cells": [
  {
   "cell_type": "code",
   "execution_count": 20,
   "id": "8f89b967-7f39-4402-b1a3-5ebf943ed333",
   "metadata": {},
   "outputs": [
    {
     "data": {
      "text/latex": [
       "$\\displaystyle \\textrm{Solving the system} \\ $$\\textbf{Ax} = \\textbf{b}$"
      ],
      "text/plain": [
       "<IPython.core.display.Math object>"
      ]
     },
     "metadata": {},
     "output_type": "display_data"
    },
    {
     "data": {
      "text/latex": [
       "$$\n",
       "\\mathbf{A}=\n",
       "\\begin{bmatrix}\n",
       "1 & 2 & 1 & -1  \\\\\n",
       " 3 & 2 & 4 & 4  \\\\\n",
       " 4 & 4 & 3 & 4  \\\\\n",
       " 2 & 0 & 1 & 5  \\\\\n",
       " \\end{bmatrix}\n",
       "$$"
      ],
      "text/plain": [
       "<IPython.core.display.Latex object>"
      ]
     },
     "metadata": {},
     "output_type": "display_data"
    },
    {
     "data": {
      "text/latex": [
       "$$\n",
       "\\mathbf{b}^\\textrm{T}=\n",
       "\\begin{bmatrix}\n",
       "5 & 16 & 22 & 15  \\\\\n",
       " \\end{bmatrix}\n",
       "$$"
      ],
      "text/plain": [
       "<IPython.core.display.Latex object>"
      ]
     },
     "metadata": {},
     "output_type": "display_data"
    },
    {
     "data": {
      "text/latex": [
       "$$\n",
       "\\mathbf{x}^\\textrm{T}=\n",
       "\\begin{bmatrix}\n",
       "16 & -6 & -2 & -3  \\\\\n",
       " \\end{bmatrix}\n",
       "$$"
      ],
      "text/plain": [
       "<IPython.core.display.Latex object>"
      ]
     },
     "metadata": {},
     "output_type": "display_data"
    }
   ],
   "source": [
    "# solve4x4.ipynb\n",
    "# Cell 1\n",
    "\n",
    "import numpy as np\n",
    "from IPython.display import Math\n",
    "from qiskit.visualization import array_to_latex\n",
    "\n",
    "A = np.array([[1, 2, 1, -1], [3, 2, 4, 4], [4, 4, 3, 4], [2, 0, 1, 5]]) #define coeff.\n",
    "#matrix\n",
    "b = np.array([5, 16, 22, 15]) #define b\n",
    "\n",
    "x = np.linalg.solve(A, b) #use function np.linalg.solve() to solve the system\n",
    "\n",
    "display(Math(r'\\textrm{Solving the system} \\ $$\\textbf{Ax} = \\textbf{b}$$'))\n",
    "display(array_to_latex(A, prefix=r\"\\mathbf{A}=\"))\n",
    "display(array_to_latex(b, prefix=r\"\\mathbf{b}^\\textrm{T}=\"))\n",
    "#these vectors (b and x) are column vectors, but the displayed outputs are row vectors\n",
    "display(array_to_latex(x, prefix=r'\\mathbf{x}^\\textrm{T}='))"
   ]
  },
  {
   "cell_type": "code",
   "execution_count": null,
   "id": "5846d1e1-1935-44b6-949d-f4881e73da58",
   "metadata": {},
   "outputs": [],
   "source": []
  }
 ],
 "metadata": {
  "kernelspec": {
   "display_name": "Python 3 (ipykernel)",
   "language": "python",
   "name": "python3"
  },
  "language_info": {
   "codemirror_mode": {
    "name": "ipython",
    "version": 3
   },
   "file_extension": ".py",
   "mimetype": "text/x-python",
   "name": "python",
   "nbconvert_exporter": "python",
   "pygments_lexer": "ipython3",
   "version": "3.10.4"
  }
 },
 "nbformat": 4,
 "nbformat_minor": 5
}
