{
 "cells": [
  {
   "cell_type": "code",
   "execution_count": 2,
   "id": "c4039191-bcff-4b01-93cb-f85f6f6e8995",
   "metadata": {},
   "outputs": [
    {
     "name": "stdout",
     "output_type": "stream",
     "text": [
      "Type of v is ndarray\n",
      "Number of dimensions of v = 1\n",
      "Shape of dimensions of v = (2,)\n",
      "Length of v = 2\n",
      "Size of v = 2\n"
     ]
    },
    {
     "data": {
      "text/latex": [
       "$$\n",
       "\\mathbf{v}=\n",
       "\\begin{bmatrix}\n",
       "\\tfrac{1}{\\sqrt{2}} & \\tfrac{1}{\\sqrt{2}}  \\\\\n",
       " \\end{bmatrix}\n",
       "$$"
      ],
      "text/plain": [
       "<IPython.core.display.Latex object>"
      ]
     },
     "execution_count": 2,
     "metadata": {},
     "output_type": "execute_result"
    }
   ],
   "source": [
    "# real_vectors.ipynb\n",
    "# Cell 1\n",
    "\n",
    "import numpy as np\n",
    "from IPython.display import Math\n",
    "from qiskit.visualization import array_to_latex\n",
    "\n",
    "\n",
    "def print_ndarray_info(name, a):\n",
    "    print(f\"Type of {name} is {type(a).__name__}\")\n",
    "    print(f\"Number of dimensions of {name} = {a.ndim}\")\n",
    "    print(f\"Shape of dimensions of {name} = {a.shape}\")\n",
    "    print(f\"Length of {name} = {len(a)}\")\n",
    "    print(f\"Size of {name} = {a.size}\")\n",
    "\n",
    "\n",
    "theta1 = 1 / 4 * np.pi\n",
    "theta2 = 3 / 4 * np.pi\n",
    "\n",
    "# Create a Numpy single dimension (1D) array, aka a \"vector\"\n",
    "v = np.array([np.cos(theta1), np.sin(theta1)])\n",
    "print_ndarray_info(\"v\", v)\n",
    "array_to_latex(v, prefix=r\"\\mathbf{v}=\")"
   ]
  },
  {
   "cell_type": "code",
   "execution_count": null,
   "id": "61c5e5af-0340-4863-ae32-a16f58b12713",
   "metadata": {},
   "outputs": [],
   "source": [
    "# Cell 2\n",
    "\n",
    "# Create another vector\n",
    "w = np.array([np.cos(theta2), np.sin(theta2)])\n",
    "print_ndarray_info(\"w\", w)\n",
    "array_to_latex(w, prefix=r\"\\mathbf{w}=\")"
   ]
  },
  {
   "cell_type": "code",
   "execution_count": null,
   "id": "fbe91520-3b43-4723-863c-a32a466880f5",
   "metadata": {},
   "outputs": [],
   "source": [
    "# Cell 3\n",
    "\n",
    "# Print the norm (aka magnitude, modulus) of both vectors\n",
    "display(Math(rf\"\\|\\mathbf{{v}}\\|={np.linalg.norm(v)}\"))\n",
    "display(Math(rf\"\\|\\mathbf{{w}}\\|={np.linalg.norm(w)}\"))"
   ]
  },
  {
   "cell_type": "code",
   "execution_count": null,
   "id": "b2662b15-f6e7-41bb-b285-02e78f384640",
   "metadata": {},
   "outputs": [],
   "source": [
    "# Cell 4\n",
    "\n",
    "# Print the dot product of vectors v and w\n",
    "v_dot_w = np.dot(v, w)\n",
    "\n",
    "# Note: There is roundoff error\n",
    "display(Math(rf\"\\mathbf{{v\\cdot w}}=\\color{{red}}{{{v_dot_w}}}\"))\n",
    "\n",
    "# We can use np.round(_, #) to round _ to a specified # of decimals\n",
    "display(Math(rf\"\\mathbf{{v\\cdot w}}={np.round(v_dot_w,5)}\"))\n",
    "\n",
    "theta = np.degrees(np.arccos(np.dot(v, w) / (np.linalg.norm(v) * np.linalg.norm(w))))\n",
    "display(Math(rf\"\\theta={theta}^\\circ\"))"
   ]
  },
  {
   "cell_type": "code",
   "execution_count": 1,
   "id": "a3dbc5a4-091e-4220-9e89-63c6e2e7344c",
   "metadata": {},
   "outputs": [
    {
     "ename": "NameError",
     "evalue": "name 'np' is not defined",
     "output_type": "error",
     "traceback": [
      "\u001b[0;31m---------------------------------------------------------------------------\u001b[0m",
      "\u001b[0;31mNameError\u001b[0m                                 Traceback (most recent call last)",
      "Input \u001b[0;32mIn [1]\u001b[0m, in \u001b[0;36m<cell line: 4>\u001b[0;34m()\u001b[0m\n\u001b[1;32m      1\u001b[0m \u001b[38;5;66;03m# Cell 5\u001b[39;00m\n\u001b[1;32m      2\u001b[0m \n\u001b[1;32m      3\u001b[0m \u001b[38;5;66;03m# Cartesian basis vectors (orthonormal)\u001b[39;00m\n\u001b[0;32m----> 4\u001b[0m i \u001b[38;5;241m=\u001b[39m \u001b[43mnp\u001b[49m\u001b[38;5;241m.\u001b[39marray([\u001b[38;5;241m1\u001b[39m, \u001b[38;5;241m0\u001b[39m, \u001b[38;5;241m0\u001b[39m])\n\u001b[1;32m      5\u001b[0m j \u001b[38;5;241m=\u001b[39m np\u001b[38;5;241m.\u001b[39marray([\u001b[38;5;241m0\u001b[39m, \u001b[38;5;241m1\u001b[39m, \u001b[38;5;241m0\u001b[39m])\n\u001b[1;32m      6\u001b[0m k \u001b[38;5;241m=\u001b[39m np\u001b[38;5;241m.\u001b[39marray([\u001b[38;5;241m0\u001b[39m, \u001b[38;5;241m0\u001b[39m, \u001b[38;5;241m1\u001b[39m])\n",
      "\u001b[0;31mNameError\u001b[0m: name 'np' is not defined"
     ]
    }
   ],
   "source": [
    "# Cell 5\n",
    "\n",
    "# Cartesian basis vectors (orthonormal)\n",
    "i = np.array([1, 0, 0])\n",
    "j = np.array([0, 1, 0])\n",
    "k = np.array([0, 0, 1])\n",
    "\n",
    "display(array_to_latex(i, prefix=r\"\\mathbf{\\hat{i}}=\"))\n",
    "display(array_to_latex(j, prefix=r\"\\mathbf{\\hat{j}}=\"))\n",
    "display(array_to_latex(k, prefix=r\"\\mathbf{\\hat{k}}=\"))"
   ]
  },
  {
   "cell_type": "code",
   "execution_count": null,
   "id": "77d858b5-c020-4101-a93c-89964e4ccbb0",
   "metadata": {},
   "outputs": [],
   "source": [
    "# Cell 6\n",
    "\n",
    "# We can extract the individual components of a vector\n",
    "# by using the inner products of its basis vectors\n",
    "v = np.array([2, 3, 5])\n",
    "display(array_to_latex(v, prefix=r\"\\mathbf{v}=\"))\n",
    "display(Math(rf\"\\mathbf{{v}}\\cdot\\mathbf{{\\hat{{i}}}}={np.dot(v, i)}\"))\n",
    "display(Math(rf\"\\mathbf{{v}}\\cdot\\mathbf{{\\hat{{j}}}}={np.dot(v, j)}\"))\n",
    "display(Math(rf\"\\mathbf{{v}}\\cdot\\mathbf{{\\hat{{k}}}}={np.dot(v, k)}\"))"
   ]
  }
 ],
 "metadata": {
  "kernelspec": {
   "display_name": "Python 3 (ipykernel)",
   "language": "python",
   "name": "python3"
  },
  "language_info": {
   "codemirror_mode": {
    "name": "ipython",
    "version": 3
   },
   "file_extension": ".py",
   "mimetype": "text/x-python",
   "name": "python",
   "nbconvert_exporter": "python",
   "pygments_lexer": "ipython3",
   "version": "3.9.13"
  }
 },
 "nbformat": 4,
 "nbformat_minor": 5
}
