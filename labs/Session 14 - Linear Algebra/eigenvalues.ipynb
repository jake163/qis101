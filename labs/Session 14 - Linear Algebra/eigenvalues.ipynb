{
 "cells": [
  {
   "cell_type": "code",
   "execution_count": null,
   "id": "8abefc54-25b1-406c-ab38-b34757bf1b09",
   "metadata": {},
   "outputs": [],
   "source": [
    "# eigenvalues.ipynb\n",
    "\n",
    "# Cell 1\n",
    "\n",
    "import numpy as np\n",
    "from IPython.display import Math\n",
    "from qiskit.visualization import array_to_latex\n",
    "\n",
    "a = np.array(\n",
    "    (\n",
    "        [\n",
    "            [-5.664 - 3.623j, 7.672 - 4.470j, 1.864 - 7.149j],\n",
    "            [0.766 - 4.821j, -4.410 - 0.228j, 9.759 + 4.256j],\n",
    "            [1.0335 - 3.672j, 3.890 - 5.741j, 7.760 + 3.812j],\n",
    "        ]\n",
    "    )\n",
    ")\n",
    "b = np.array([[5, 4 + 5j, 6 - 16j], [4 - 5j, 13, 7], [6 + 16j, 7, -2.1]])\n",
    "\n",
    "display(array_to_latex(a, prefix=\"\\mathbf{A}=\"))\n",
    "display(array_to_latex(b, prefix=\"\\mathbf{B}=\"))"
   ]
  },
  {
   "cell_type": "code",
   "execution_count": null,
   "id": "65b2ae29-f3a2-4b62-95e1-2e4ef3f1ab38",
   "metadata": {},
   "outputs": [],
   "source": [
    "# Cell 2 - Eigenequation\n",
    "\n",
    "# The dot product of a matrix with one of its eigenvectors equals\n",
    "# the dot product of the eigenvalue for that eigenvector\n",
    "\n",
    "# Find the eigenvalues and eigenvectors of matrix A\n",
    "eigen_vals, eigen_vecs = np.linalg.eig(a)\n",
    "\n",
    "display(\n",
    "    array_to_latex(\n",
    "        eigen_vecs, prefix=\"\\mathrm{Eigenvectors\\;(\\mathbf{v})\\;of\\;}\\mathbf{A}=\"\n",
    "    )\n",
    ")\n",
    "display(\n",
    "    array_to_latex(\n",
    "        eigen_vals, prefix=\"\\mathrm{Eigenvalues\\;(\\lambda)\\;of\\;}\\mathbf{A}=\"\n",
    "    )\n",
    ")\n",
    "\n",
    "# Display the 2nd eignevector and 2nd eigenvalue\n",
    "display(array_to_latex(eigen_vecs[:, 1], prefix=\"\\mathbf{v_2}=\"))\n",
    "display(array_to_latex(eigen_vals[1, np.newaxis], prefix=\"\\mathrm{\\lambda_2}=\"))\n",
    "\n",
    "t1 = np.dot(a, eigen_vecs[:, 1])\n",
    "t2 = np.dot(eigen_vals[1], eigen_vecs[:, 1])\n",
    "\n",
    "display(array_to_latex(t1, prefix=r\"\\mathbf{A\\cdot v_2}=\"))\n",
    "display(array_to_latex(t2, prefix=r\"\\mathrm{\\lambda_2\\cdot\\mathbf{v_2}}=\"))\n",
    "\n",
    "display(\n",
    "    Math(\n",
    "        r\"\\mathbf{A\\cdot v_2}=\"\n",
    "        r\"\\mathrm{\\lambda_2\\cdot\\mathbf{v_2}}\"\n",
    "        rf\"\\;?\\;$$\\rightarrow$$\\;{np.isclose(t1,t2).all()}\"\n",
    "    )\n",
    ")"
   ]
  },
  {
   "cell_type": "code",
   "execution_count": null,
   "id": "63c7703f-1da9-4afe-a60e-dc996f402238",
   "metadata": {},
   "outputs": [],
   "source": [
    "# Cell 3 - Hermitian matrices have all real eigenvalues\n",
    "\n",
    "eigen_vals, eigen_vecs = np.linalg.eig(b)\n",
    "display(\n",
    "    array_to_latex(\n",
    "        eigen_vecs, prefix=\"\\mathrm{Eigenvectors\\;(\\mathbf{v})\\;of\\;}\\mathbf{B}=\"\n",
    "    )\n",
    ")\n",
    "display(\n",
    "    array_to_latex(\n",
    "        eigen_vals, prefix=\"\\mathrm{Eigenvalues\\;(\\lambda)\\;of\\;}\\mathbf{B}=\"\n",
    "    )\n",
    ")"
   ]
  },
  {
   "cell_type": "code",
   "execution_count": null,
   "id": "350f90a5-f2e3-4855-ad20-80ab6e5cc968",
   "metadata": {},
   "outputs": [],
   "source": [
    "# Cell 4 - All eigenvectors of a Hermitian matrix are orthogonal\n",
    "\n",
    "display(array_to_latex(eigen_vecs[:, 0][np.newaxis], prefix=\"\\mathbf{v_1}=\"))\n",
    "display(array_to_latex(eigen_vecs[:, 1][np.newaxis], prefix=\"\\mathbf{v_2}=\"))\n",
    "display(array_to_latex(eigen_vecs[:, 2][np.newaxis], prefix=\"\\mathbf{v_3}=\"))\n",
    "\n",
    "v1_dot_v2 = np.vdot(eigen_vecs[:, 0], eigen_vecs[:, 1])\n",
    "v2_dot_v3 = np.vdot(eigen_vecs[:, 1], eigen_vecs[:, 2])\n",
    "v3_dot_v1 = np.vdot(eigen_vecs[:, 2], eigen_vecs[:, 0])\n",
    "\n",
    "display(\n",
    "    Math(rf\"\\langle\\mathbf{{v_1,v_2}}\\rangle={np.round(v1_dot_v2,5)}\"),\n",
    "    Math(rf\"\\langle\\mathbf{{v_2,v_3}}\\rangle={np.round(v2_dot_v3,5)}\"),\n",
    "    Math(rf\"\\langle\\mathbf{{v_3,v_1}}\\rangle={np.round(v3_dot_v1,5)}\"),\n",
    ")"
   ]
  }
 ],
 "metadata": {
  "kernelspec": {
   "display_name": "Python 3 (ipykernel)",
   "language": "python",
   "name": "python3"
  },
  "language_info": {
   "codemirror_mode": {
    "name": "ipython",
    "version": 3
   },
   "file_extension": ".py",
   "mimetype": "text/x-python",
   "name": "python",
   "nbconvert_exporter": "python",
   "pygments_lexer": "ipython3",
   "version": "3.9.13"
  }
 },
 "nbformat": 4,
 "nbformat_minor": 5
}
