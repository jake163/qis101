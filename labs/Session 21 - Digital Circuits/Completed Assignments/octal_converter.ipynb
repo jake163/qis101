{
 "cells": [
  {
   "cell_type": "code",
   "execution_count": 4,
   "id": "39a61358-c431-4315-abb0-275e96716396",
   "metadata": {},
   "outputs": [
    {
     "name": "stdout",
     "output_type": "stream",
     "text": [
      "The octal number 2323 = The decimal number 1,235\n"
     ]
    }
   ],
   "source": [
    "# octal_converter.ipynb\n",
    "\n",
    "# Cell 1: Octal to decimal via looping\n",
    "\n",
    "import numpy as np\n",
    "\n",
    "\n",
    "def octal_to_decimal(o):\n",
    "    # Reverse string 'o' because the\n",
    "    # LSB must be in first position\n",
    "    o = o[::-1]\n",
    "    sum = 0\n",
    "    for position in range(len(o)):\n",
    "        weight = 8 ** position\n",
    "        digit = int(o[position])\n",
    "        sum += digit * weight\n",
    "    return sum\n",
    "\n",
    "\n",
    "o = \"2323\"\n",
    "d = octal_to_decimal(o)\n",
    "print(f\"The octal number {o} = The decimal number {d:,}\")"
   ]
  },
  {
   "cell_type": "code",
   "execution_count": 5,
   "id": "ce2cd5a8-69c9-48fe-aa03-cc6128a829c2",
   "metadata": {},
   "outputs": [
    {
     "name": "stdout",
     "output_type": "stream",
     "text": [
      "The decimal number 1,235 = The octal number 2323\n"
     ]
    }
   ],
   "source": [
    "# Cell 2 - Decimal to Octal\n",
    "\n",
    "\n",
    "def decimal_to_octal(d):\n",
    "    o = \"\"\n",
    "    while d > 0:\n",
    "        o += str(d % 8)\n",
    "        d = d // 8\n",
    "    # Reverse string 'o' because the\n",
    "    # LSB must be in first position\n",
    "    o = o[::-1]\n",
    "    return o\n",
    "\n",
    "\n",
    "d = 1235\n",
    "o = decimal_to_octal(d)\n",
    "print(f\"The decimal number {d:,} = The octal number {o}\")"
   ]
  },
  {
   "cell_type": "code",
   "execution_count": 6,
   "id": "78b3aee2-02b2-49b3-b98a-13122bf53ebf",
   "metadata": {},
   "outputs": [
    {
     "name": "stdout",
     "output_type": "stream",
     "text": [
      "The octal number 2323  = The decimal number 1,235\n"
     ]
    }
   ],
   "source": [
    "# Cell 3 - Built in Octal to Decimal Converter\n",
    "\n",
    "# Better to call the built-in integer constructor\n",
    "o = \"2323\"\n",
    "d = int(o, 8)\n",
    "print(f\"The octal number {o}  = The decimal number {d:,}\")"
   ]
  },
  {
   "cell_type": "code",
   "execution_count": 7,
   "id": "280241fc-c5b0-40a3-828e-72338f503608",
   "metadata": {},
   "outputs": [
    {
     "name": "stdout",
     "output_type": "stream",
     "text": [
      "The decimal number 1,235 = The octal number 2323\n"
     ]
    }
   ],
   "source": [
    "#Cell 4 - Built in Decimal to Octal Converter\n",
    "\n",
    "# Better to call numpy's built-in base coverter\n",
    "d = 1235\n",
    "o = np.base_repr(d, base=8)\n",
    "print(f\"The decimal number {d:,} = The octal number {o}\")"
   ]
  },
  {
   "cell_type": "code",
   "execution_count": null,
   "id": "2020d6c6-5b8c-4aa5-b488-c7f85fdc5085",
   "metadata": {},
   "outputs": [],
   "source": []
  }
 ],
 "metadata": {
  "kernelspec": {
   "display_name": "Python 3 (ipykernel)",
   "language": "python",
   "name": "python3"
  },
  "language_info": {
   "codemirror_mode": {
    "name": "ipython",
    "version": 3
   },
   "file_extension": ".py",
   "mimetype": "text/x-python",
   "name": "python",
   "nbconvert_exporter": "python",
   "pygments_lexer": "ipython3",
   "version": "3.9.13"
  }
 },
 "nbformat": 4,
 "nbformat_minor": 5
}
