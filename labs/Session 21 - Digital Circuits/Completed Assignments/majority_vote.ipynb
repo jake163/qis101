{
 "cells": [
  {
   "cell_type": "code",
   "execution_count": 6,
   "id": "333501a2-2b75-47e5-b885-10a3f8c224ae",
   "metadata": {},
   "outputs": [
    {
     "data": {
      "text/latex": [
       "$$\n",
       "\\mathbf{F}=\n",
       "\\begin{bmatrix}\n",
       "1 & 0  \\\\\n",
       " \\end{bmatrix}\n",
       "$$"
      ],
      "text/plain": [
       "<IPython.core.display.Latex object>"
      ]
     },
     "metadata": {},
     "output_type": "display_data"
    },
    {
     "data": {
      "text/latex": [
       "$$\n",
       "\\mathbf{T}=\n",
       "\\begin{bmatrix}\n",
       "0 & 1  \\\\\n",
       " \\end{bmatrix}\n",
       "$$"
      ],
      "text/plain": [
       "<IPython.core.display.Latex object>"
      ]
     },
     "metadata": {},
     "output_type": "display_data"
    },
    {
     "data": {
      "text/latex": [
       "$$\n",
       "\\mathbf{AND}=\n",
       "\\begin{bmatrix}\n",
       "1 & 1 & 1 & 0  \\\\\n",
       " 0 & 0 & 0 & 1  \\\\\n",
       " \\end{bmatrix}\n",
       "$$"
      ],
      "text/plain": [
       "<IPython.core.display.Latex object>"
      ]
     },
     "metadata": {},
     "output_type": "display_data"
    },
    {
     "data": {
      "text/latex": [
       "$$\n",
       "\\mathbf{OR}=\n",
       "\\begin{bmatrix}\n",
       "1 & 0 & 0 & 0  \\\\\n",
       " 0 & 1 & 1 & 1  \\\\\n",
       " \\end{bmatrix}\n",
       "$$"
      ],
      "text/plain": [
       "<IPython.core.display.Latex object>"
      ]
     },
     "metadata": {},
     "output_type": "display_data"
    }
   ],
   "source": [
    "# majority_vote.ipynb\n",
    "\n",
    "# Cell 1\n",
    "\n",
    "import numpy as np\n",
    "from IPython.display import Math\n",
    "from qiskit.visualization import array_to_latex\n",
    "\n",
    "f = np.array([1, 0]) #0 \n",
    "t = np.array([0, 1]) #1\n",
    "\n",
    "g_and = np.array([[1, 1, 1, 0], [0, 0, 0, 1]]) #AND array\n",
    "g_or = np.array([[1, 0, 0, 0], [0, 1, 1, 1]]) #OR array\n",
    "\n",
    "display(array_to_latex(f, prefix=r\"\\mathbf{F}=\"))\n",
    "display(array_to_latex(t, prefix=r\"\\mathbf{T}=\"))\n",
    "\n",
    "display(array_to_latex(g_and, prefix=r\"\\mathbf{AND}=\"))\n",
    "display(array_to_latex(g_or, prefix=r\"\\mathbf{OR}=\"))"
   ]
  },
  {
   "cell_type": "code",
   "execution_count": 7,
   "id": "e13d7865-d450-4f5f-a2bf-f219ea451d8a",
   "metadata": {},
   "outputs": [],
   "source": [
    "# Cell 2 - Implement Boolean circuit using matrix algebra\n",
    "\n",
    "\n",
    "def circuit(a, b, c):\n",
    "    g1 = np.dot(g_and, np.kron(a, b)) #AND acting on a and b bits\n",
    "    g2 = np.dot(g_and, np.kron(b, c)) #AND acting on b and c\n",
    "    g3 = np.dot(g_and, np.kron(c, a))\n",
    "    g4 = np.dot(g_or, np.kron(g1, g2)) #OR acting on output bits of gates 1 and 2\n",
    "    g5 = np.dot(g_or, np.kron(g4, g3))\n",
    "    return g5 #0 or 1"
   ]
  },
  {
   "cell_type": "code",
   "execution_count": 26,
   "id": "407b2fde-21fa-419e-b703-514e3ade2407",
   "metadata": {},
   "outputs": [
    {
     "name": "stdout",
     "output_type": "stream",
     "text": [
      "a: [1 0]  b: [1 0]  c: [1 0]  v: [1 0]\n",
      "Election lost: 0 Y - 3 N\n",
      "\n",
      "a: [1 0]  b: [1 0]  c: [0 1]  v: [1 0]\n",
      "Election lost: 1 Y - 2 N\n",
      "\n",
      "a: [1 0]  b: [0 1]  c: [1 0]  v: [1 0]\n",
      "Election lost: 1 Y - 2 N\n",
      "\n",
      "a: [1 0]  b: [0 1]  c: [0 1]  v: [0 1]\n",
      "Election won: 2 Y - 1 N\n",
      "\n",
      "a: [0 1]  b: [1 0]  c: [1 0]  v: [1 0]\n",
      "Election lost: 1 Y - 2 N\n",
      "\n",
      "a: [0 1]  b: [1 0]  c: [0 1]  v: [0 1]\n",
      "Election won: 2 Y - 1 N\n",
      "\n",
      "a: [0 1]  b: [0 1]  c: [1 0]  v: [0 1]\n",
      "Election won: 2 Y - 1 N\n",
      "\n",
      "a: [0 1]  b: [0 1]  c: [0 1]  v: [0 1]\n",
      "Election won: 3 Y - 0 N\n",
      "\n"
     ]
    }
   ],
   "source": [
    "# Cell 3 - Create truth table for three inputs and show the output\n",
    "\n",
    "counter = [0]*3 #list of 3 zeros\n",
    "for a in [f, t]: #iterate through 0 and 1 \n",
    "    if np.array_equal(a, t): #checks if a is a 1\n",
    "        counter[0] = 1 #counter is set to 1 at index 0\n",
    "    else:\n",
    "        counter[0] = 0 #in the case that index 0 was previously set to 1\n",
    "    for b in [f, t]: #for a given 'a', iterate through 0 and 1 \n",
    "        if np.array_equal(b, t):\n",
    "            counter[1] = 1 \n",
    "        else:\n",
    "            counter[1] = 0\n",
    "        for c in [f, t]: #for a given 'a' and 'b', iterate through 0 and 1 \n",
    "            if np.array_equal(c, t):\n",
    "                counter[2] = 1 \n",
    "            else:\n",
    "                counter[2] = 0\n",
    "            print(f\"a: {a}\", end=\"  \") #print value of a\n",
    "            print(f\"b: {b}\", end=\"  \")\n",
    "            print(f\"c: {c}\", end=\"  \")\n",
    "            print(f\"v: {circuit(a, b, c)}\") #print value of v\n",
    "            if np.array_equal(circuit(a, b, c), f): #if election was lost\n",
    "                print(f'Election lost: {sum(counter)} Y - {3 - sum(counter)} N\\n')\n",
    "                #print election results, yays to nays\n",
    "            else:\n",
    "                print(f'Election won: {sum(counter)} Y - {3 - sum(counter)} N\\n')"
   ]
  },
  {
   "cell_type": "code",
   "execution_count": null,
   "id": "469505ef-6594-44c7-956d-36b83f92e8b6",
   "metadata": {},
   "outputs": [],
   "source": []
  }
 ],
 "metadata": {
  "kernelspec": {
   "display_name": "Python 3 (ipykernel)",
   "language": "python",
   "name": "python3"
  },
  "language_info": {
   "codemirror_mode": {
    "name": "ipython",
    "version": 3
   },
   "file_extension": ".py",
   "mimetype": "text/x-python",
   "name": "python",
   "nbconvert_exporter": "python",
   "pygments_lexer": "ipython3",
   "version": "3.9.13"
  }
 },
 "nbformat": 4,
 "nbformat_minor": 5
}
