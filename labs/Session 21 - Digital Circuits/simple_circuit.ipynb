{
 "cells": [
  {
   "cell_type": "code",
   "execution_count": null,
   "id": "278d9f63-d964-4b20-a3a3-0125c8e30505",
   "metadata": {},
   "outputs": [],
   "source": [
    "# simple_circuit.ipynb\n",
    "\n",
    "# Cell 1\n",
    "\n",
    "import numpy as np\n",
    "from IPython.display import Math\n",
    "from qiskit.visualization import array_to_latex\n",
    "\n",
    "f = np.array([1, 0])\n",
    "t = np.array([0, 1])\n",
    "\n",
    "g_not = np.array([[0, 1], [1, 0]])\n",
    "g_and = np.array([[1, 1, 1, 0], [0, 0, 0, 1]])\n",
    "g_or = np.array([[1, 0, 0, 0], [0, 1, 1, 1]])\n",
    "\n",
    "display(array_to_latex(f, prefix=r\"\\mathbf{F}=\"))\n",
    "display(array_to_latex(t, prefix=r\"\\mathbf{T}=\"))\n",
    "\n",
    "display(array_to_latex(g_not, prefix=r\"\\mathbf{NOT}=\"))\n",
    "display(array_to_latex(g_and, prefix=r\"\\mathbf{AND}=\"))\n",
    "display(array_to_latex(g_or, prefix=r\"\\mathbf{OR}=\"))"
   ]
  },
  {
   "cell_type": "code",
   "execution_count": null,
   "id": "a582a126-1b37-4493-844e-e44674aaa350",
   "metadata": {},
   "outputs": [],
   "source": [
    "# Cell 2 - Implement Boolean circuit using matrix algebra\n",
    "\n",
    "\n",
    "def circuit(a, b, c, d):\n",
    "    g1 = np.dot(g_and, np.kron(a, b))\n",
    "    g2 = np.dot(g_not, c)\n",
    "    g3 = np.dot(g_or, np.kron(g1, g2))\n",
    "    g4 = np.dot(g_and, np.kron(g3, d))\n",
    "    g5 = np.dot(g_not, g4)\n",
    "    return g5"
   ]
  },
  {
   "cell_type": "code",
   "execution_count": null,
   "id": "f4a04d5b-7548-426c-9346-d63d14b2b4cd",
   "metadata": {},
   "outputs": [],
   "source": [
    "# Cell 3 - Create truth table for three inputs and show the output\n",
    "\n",
    "for a in [f, t]:\n",
    "    for b in [f, t]:\n",
    "        for c in [f, t]:\n",
    "            for d in [f, t]:\n",
    "                print(f\"a: {a}\", end=\"  \")\n",
    "                print(f\"b: {b}\", end=\"  \")\n",
    "                print(f\"c: {c}\", end=\"  \")\n",
    "                print(f\"d: {d}\", end=\"  \")\n",
    "                print(f\"v: {circuit(a, b, c, d)}\")"
   ]
  }
 ],
 "metadata": {
  "kernelspec": {
   "display_name": "Python 3 (ipykernel)",
   "language": "python",
   "name": "python3"
  },
  "language_info": {
   "codemirror_mode": {
    "name": "ipython",
    "version": 3
   },
   "file_extension": ".py",
   "mimetype": "text/x-python",
   "name": "python",
   "nbconvert_exporter": "python",
   "pygments_lexer": "ipython3",
   "version": "3.9.13"
  }
 },
 "nbformat": 4,
 "nbformat_minor": 5
}
