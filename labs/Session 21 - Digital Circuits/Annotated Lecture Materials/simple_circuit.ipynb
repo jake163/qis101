{
 "cells": [
  {
   "cell_type": "code",
   "execution_count": 1,
   "id": "278d9f63-d964-4b20-a3a3-0125c8e30505",
   "metadata": {},
   "outputs": [
    {
     "data": {
      "text/latex": [
       "$$\n",
       "\\mathbf{F}=\n",
       "\\begin{bmatrix}\n",
       "1 & 0  \\\\\n",
       " \\end{bmatrix}\n",
       "$$"
      ],
      "text/plain": [
       "<IPython.core.display.Latex object>"
      ]
     },
     "metadata": {},
     "output_type": "display_data"
    },
    {
     "data": {
      "text/latex": [
       "$$\n",
       "\\mathbf{T}=\n",
       "\\begin{bmatrix}\n",
       "0 & 1  \\\\\n",
       " \\end{bmatrix}\n",
       "$$"
      ],
      "text/plain": [
       "<IPython.core.display.Latex object>"
      ]
     },
     "metadata": {},
     "output_type": "display_data"
    },
    {
     "data": {
      "text/latex": [
       "$$\n",
       "\\mathbf{NOT}=\n",
       "\\begin{bmatrix}\n",
       "0 & 1  \\\\\n",
       " 1 & 0  \\\\\n",
       " \\end{bmatrix}\n",
       "$$"
      ],
      "text/plain": [
       "<IPython.core.display.Latex object>"
      ]
     },
     "metadata": {},
     "output_type": "display_data"
    },
    {
     "data": {
      "text/latex": [
       "$$\n",
       "\\mathbf{AND}=\n",
       "\\begin{bmatrix}\n",
       "1 & 1 & 1 & 0  \\\\\n",
       " 0 & 0 & 0 & 1  \\\\\n",
       " \\end{bmatrix}\n",
       "$$"
      ],
      "text/plain": [
       "<IPython.core.display.Latex object>"
      ]
     },
     "metadata": {},
     "output_type": "display_data"
    },
    {
     "data": {
      "text/latex": [
       "$$\n",
       "\\mathbf{OR}=\n",
       "\\begin{bmatrix}\n",
       "1 & 0 & 0 & 0  \\\\\n",
       " 0 & 1 & 1 & 1  \\\\\n",
       " \\end{bmatrix}\n",
       "$$"
      ],
      "text/plain": [
       "<IPython.core.display.Latex object>"
      ]
     },
     "metadata": {},
     "output_type": "display_data"
    }
   ],
   "source": [
    "# simple_circuit.ipynb\n",
    "\n",
    "# Cell 1\n",
    "\n",
    "import numpy as np\n",
    "from IPython.display import Math\n",
    "from qiskit.visualization import array_to_latex\n",
    "\n",
    "f = np.array([1, 0]) #declare f \n",
    "t = np.array([0, 1]) #declare t\n",
    "\n",
    "g_not = np.array([[0, 1], [1, 0]]) #declare NOT gate\n",
    "g_and = np.array([[1, 1, 1, 0], [0, 0, 0, 1]]) #AND\n",
    "g_or = np.array([[1, 0, 0, 0], [0, 1, 1, 1]]) #OR\n",
    "\n",
    "display(array_to_latex(f, prefix=r\"\\mathbf{F}=\"))\n",
    "display(array_to_latex(t, prefix=r\"\\mathbf{T}=\"))\n",
    "\n",
    "display(array_to_latex(g_not, prefix=r\"\\mathbf{NOT}=\"))\n",
    "display(array_to_latex(g_and, prefix=r\"\\mathbf{AND}=\"))\n",
    "display(array_to_latex(g_or, prefix=r\"\\mathbf{OR}=\"))"
   ]
  },
  {
   "cell_type": "code",
   "execution_count": 2,
   "id": "a582a126-1b37-4493-844e-e44674aaa350",
   "metadata": {},
   "outputs": [],
   "source": [
    "# Cell 2 - Implement Boolean circuit using matrix algebra\n",
    "\n",
    "\n",
    "def circuit(a, b, c, d):\n",
    "    g1 = np.dot(g_and, np.kron(a, b)) #AND acting on (a tensor b)\n",
    "    g2 = np.dot(g_not, c) #NOT acting on c\n",
    "    g3 = np.dot(g_or, np.kron(g1, g2)) #OR acting on (g1 output tensor g2 output)\n",
    "    g4 = np.dot(g_and, np.kron(g3, d)) #AND acting on (g3 output tensor d)\n",
    "    g5 = np.dot(g_not, g4) #NOT acting on g4 output\n",
    "    return g5"
   ]
  },
  {
   "cell_type": "code",
   "execution_count": 3,
   "id": "f4a04d5b-7548-426c-9346-d63d14b2b4cd",
   "metadata": {},
   "outputs": [
    {
     "name": "stdout",
     "output_type": "stream",
     "text": [
      "a: [1 0]  b: [1 0]  c: [1 0]  d: [1 0]  v: [0 1]\n",
      "a: [1 0]  b: [1 0]  c: [1 0]  d: [0 1]  v: [1 0]\n",
      "a: [1 0]  b: [1 0]  c: [0 1]  d: [1 0]  v: [0 1]\n",
      "a: [1 0]  b: [1 0]  c: [0 1]  d: [0 1]  v: [0 1]\n",
      "a: [1 0]  b: [0 1]  c: [1 0]  d: [1 0]  v: [0 1]\n",
      "a: [1 0]  b: [0 1]  c: [1 0]  d: [0 1]  v: [1 0]\n",
      "a: [1 0]  b: [0 1]  c: [0 1]  d: [1 0]  v: [0 1]\n",
      "a: [1 0]  b: [0 1]  c: [0 1]  d: [0 1]  v: [0 1]\n",
      "a: [0 1]  b: [1 0]  c: [1 0]  d: [1 0]  v: [0 1]\n",
      "a: [0 1]  b: [1 0]  c: [1 0]  d: [0 1]  v: [1 0]\n",
      "a: [0 1]  b: [1 0]  c: [0 1]  d: [1 0]  v: [0 1]\n",
      "a: [0 1]  b: [1 0]  c: [0 1]  d: [0 1]  v: [0 1]\n",
      "a: [0 1]  b: [0 1]  c: [1 0]  d: [1 0]  v: [0 1]\n",
      "a: [0 1]  b: [0 1]  c: [1 0]  d: [0 1]  v: [1 0]\n",
      "a: [0 1]  b: [0 1]  c: [0 1]  d: [1 0]  v: [0 1]\n",
      "a: [0 1]  b: [0 1]  c: [0 1]  d: [0 1]  v: [1 0]\n"
     ]
    }
   ],
   "source": [
    "# Cell 3 - Create truth table for three inputs and show the output\n",
    "\n",
    "for a in [f, t]: #iterate a through 0 and 1\n",
    "    for b in [f, t]: #for a given a, iterate b through 0 and 1\n",
    "        for c in [f, t]: #for a given a and b, iterate c through 0 and 1\n",
    "            for d in [f, t]: #for a given a, b, and c, iterate d through 0 and 1\n",
    "                print(f\"a: {a}\", end=\"  \") #print results\n",
    "                print(f\"b: {b}\", end=\"  \")\n",
    "                print(f\"c: {c}\", end=\"  \")\n",
    "                print(f\"d: {d}\", end=\"  \")\n",
    "                print(f\"v: {circuit(a, b, c, d)}\") #circuit output is printed last (0 or 1)"
   ]
  },
  {
   "cell_type": "code",
   "execution_count": null,
   "id": "688448f6-c701-46c9-9754-af9d4a043a50",
   "metadata": {},
   "outputs": [],
   "source": []
  }
 ],
 "metadata": {
  "kernelspec": {
   "display_name": "Python 3 (ipykernel)",
   "language": "python",
   "name": "python3"
  },
  "language_info": {
   "codemirror_mode": {
    "name": "ipython",
    "version": 3
   },
   "file_extension": ".py",
   "mimetype": "text/x-python",
   "name": "python",
   "nbconvert_exporter": "python",
   "pygments_lexer": "ipython3",
   "version": "3.9.13"
  }
 },
 "nbformat": 4,
 "nbformat_minor": 5
}
