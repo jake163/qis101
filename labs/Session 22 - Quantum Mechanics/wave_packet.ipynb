{
 "cells": [
  {
   "cell_type": "code",
   "execution_count": null,
   "id": "1959ba3d-f0fb-412d-9d7b-8a0a71aa9318",
   "metadata": {},
   "outputs": [],
   "source": [
    "# wave_packet.ipynb\n",
    "# Cell 1\n",
    "\n",
    "%matplotlib widget\n",
    "\n",
    "from collections import namedtuple\n",
    "\n",
    "import matplotlib.pyplot as plt\n",
    "import numpy as np\n",
    "from matplotlib.animation import FuncAnimation\n",
    "\n",
    "num_waves = 1\n",
    "\n",
    "\n",
    "def plot(ax):\n",
    "    global xa, wave_data, wave_packet\n",
    "\n",
    "    xa = np.linspace(-6 * np.pi, 6 * np.pi, 600)\n",
    "\n",
    "    wave_data = np.zeros((num_waves, 600))\n",
    "\n",
    "    for i in range(0, num_waves):\n",
    "        f = 2 * (i / num_waves - 0.5)\n",
    "        wave_data[i] = np.cos(f * xa) ** 2\n",
    "\n",
    "    ya = np.sum(wave_data[:0], axis=0)\n",
    "\n",
    "    (wave_packet,) = ax.plot(xa, ya, color=\"blue\")\n",
    "\n",
    "    ax.set_title(f\"Wave Packet\")\n",
    "    ax.set_xlabel(\"Location\")\n",
    "    ax.set_ylabel(\"Probability\")\n",
    "    ax.set_ylim(-0.1, 1.1)\n",
    "\n",
    "\n",
    "def anim_frame_counter():\n",
    "    n = 0\n",
    "    while n < num_waves:\n",
    "        n += 1\n",
    "        yield n\n",
    "\n",
    "\n",
    "def anim_draw_frame(n):\n",
    "    ya = np.sum(wave_data[:n], axis=0) / n\n",
    "    wave_packet.set_data(xa, ya)\n",
    "    return wave_packet\n",
    "\n",
    "\n",
    "def plot_waves():\n",
    "    global anim\n",
    "\n",
    "    plt.close(\"all\")\n",
    "    fig = plt.figure(label=\" \")\n",
    "    gs = fig.add_gridspec(1, 1)\n",
    "\n",
    "    ax = fig.add_subplot(gs[0, 0])\n",
    "\n",
    "    plot(ax)\n",
    "\n",
    "    anim = FuncAnimation(\n",
    "        ax.figure,\n",
    "        anim_draw_frame,\n",
    "        anim_frame_counter,\n",
    "        interval=25,\n",
    "        blit=True,\n",
    "        repeat=False,\n",
    "    )\n",
    "\n",
    "    plt.show()\n",
    "\n",
    "\n",
    "plot_waves()"
   ]
  },
  {
   "cell_type": "code",
   "execution_count": null,
   "id": "c1f3ba09-5a3e-41ce-b9f9-46974ec2a03f",
   "metadata": {},
   "outputs": [],
   "source": [
    "# Cell 2\n",
    "num_waves = 3\n",
    "plot_waves()"
   ]
  },
  {
   "cell_type": "code",
   "execution_count": null,
   "id": "463d637f-8598-4a40-a929-45154928ed0b",
   "metadata": {},
   "outputs": [],
   "source": [
    "# Cell 3\n",
    "num_waves = 11\n",
    "plot_waves()"
   ]
  },
  {
   "cell_type": "code",
   "execution_count": null,
   "id": "5a3c409c-d0fc-4e00-bd77-7a18d1508f09",
   "metadata": {},
   "outputs": [],
   "source": [
    "# Cell 4\n",
    "num_waves = 600\n",
    "plot_waves()"
   ]
  }
 ],
 "metadata": {
  "kernelspec": {
   "display_name": "Python 3 (ipykernel)",
   "language": "python",
   "name": "python3"
  },
  "language_info": {
   "codemirror_mode": {
    "name": "ipython",
    "version": 3
   },
   "file_extension": ".py",
   "mimetype": "text/x-python",
   "name": "python",
   "nbconvert_exporter": "python",
   "pygments_lexer": "ipython3",
   "version": "3.9.13"
  }
 },
 "nbformat": 4,
 "nbformat_minor": 5
}
