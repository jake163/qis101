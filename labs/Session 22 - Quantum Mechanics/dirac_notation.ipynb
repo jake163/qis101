{
 "cells": [
  {
   "cell_type": "code",
   "execution_count": null,
   "id": "a0890b85-eb8b-437a-b302-8872deb27909",
   "metadata": {},
   "outputs": [],
   "source": [
    "# dirac_notation.ipynb\n",
    "\n",
    "# Cell 1 - Complex Amplitudes - Probability\n",
    "\n",
    "import numpy as np\n",
    "from IPython.display import Math\n",
    "from qiskit.visualization import array_to_latex\n",
    "\n",
    "psi = np.array([-3 - 1j, -2j, 1j, 2])\n",
    "norm_psi = np.linalg.norm(psi)\n",
    "c2 = abs(psi[2])\n",
    "\n",
    "display(array_to_latex(psi[:, np.newaxis], prefix=r\"\\mathbf{\\lvert\\psi\\rangle}=\"))\n",
    "print(f\"Probability of outcome 2 = {c2**2 / norm_psi**2:.4%}\")"
   ]
  },
  {
   "cell_type": "code",
   "execution_count": null,
   "id": "d3a57077-358b-4b88-9cc3-9228bb92bfee",
   "metadata": {},
   "outputs": [],
   "source": [
    "# Cell 2 - Multiplying a ket by a scalar\n",
    "\n",
    "s = -2.3 - 11j\n",
    "s_psi = s * psi\n",
    "\n",
    "norm_s_psi = np.linalg.norm(s_psi)\n",
    "c = abs(s_psi[2])\n",
    "\n",
    "display(Math(rf\"\\mathbf{{s=}}\\;{s}\"))\n",
    "display(array_to_latex(s_psi[:, np.newaxis], prefix=r\"\\mathbf{(s)\\lvert\\psi\\rangle}=\"))\n",
    "\n",
    "print(f\"Probability of outcome 2 = {c**2 / norm_s_psi**2:.4%}\")"
   ]
  },
  {
   "cell_type": "code",
   "execution_count": null,
   "id": "24945b94-5e75-466d-a8c1-de3c462e067a",
   "metadata": {},
   "outputs": [],
   "source": [
    "# Cell 3 - Normalizing a ket\n",
    "\n",
    "psi = np.array([2 - 3j, 1 + 2j])\n",
    "\n",
    "norm_psi = np.linalg.norm(psi)\n",
    "normed_psi = psi / norm_psi\n",
    "\n",
    "display(array_to_latex(psi[:, np.newaxis], prefix=r\"\\mathbf{\\lvert\\psi\\rangle}=\"))\n",
    "display(Math(rf\"\\mathbf{{\\|\\psi\\|}}=\\;{norm_psi:.4f}\"))\n",
    "display(\n",
    "    array_to_latex(\n",
    "        normed_psi[:, np.newaxis],\n",
    "        prefix=r\"\\mathbf{\\frac{\\lvert\\psi\\rangle}{{\\|\\psi\\|}}}=\",\n",
    "    )\n",
    ")"
   ]
  },
  {
   "cell_type": "code",
   "execution_count": null,
   "id": "835ab5f8-5431-470d-be1c-07c1bee4515b",
   "metadata": {},
   "outputs": [],
   "source": [
    "# Cell 4 - Transition amplitude\n",
    "\n",
    "# Start State\n",
    "psi = np.array([1, -1j])\n",
    "\n",
    "# End State\n",
    "phi = np.array([1j, 1])\n",
    "\n",
    "# Create Dirac \"bra-ket\"\n",
    "bra_phi = phi.conj().T\n",
    "bracket_phi_psi = np.dot(bra_phi, psi)\n",
    "\n",
    "# Calculate transition amplitude\n",
    "norm_psi = np.linalg.norm(psi)\n",
    "norm_phi = np.linalg.norm(phi)\n",
    "amp = bracket_phi_psi / (norm_psi * norm_phi)\n",
    "\n",
    "display(\n",
    "    array_to_latex(\n",
    "        psi[:, np.newaxis], prefix=r\"\\text{Start state:}\\;\\mathbf{\\lvert\\psi\\rangle}=\"\n",
    "    )\n",
    ")\n",
    "display(\n",
    "    array_to_latex(\n",
    "        phi[:, np.newaxis], prefix=r\"\\text{End state:}\\;\\mathbf{\\lvert\\phi\\rangle}=\"\n",
    "    )\n",
    ")\n",
    "\n",
    "display(Math(rf\"\\mathbf{{\\langle\\phi\\lvert\\psi\\rangle}}=\\;{bracket_phi_psi:.4f}\"))\n",
    "\n",
    "display(\n",
    "    Math(\n",
    "        rf\"\\mathbf{{\\frac{{\\langle\\phi\\lvert\\psi\\rangle}}\"\n",
    "        rf\"{{\\lvert\\lvert\\phi\\rangle\\lvert\\;\\lvert\\lvert\\psi\\rangle\\lvert}}}}=\\;{amp:.4f}\"\n",
    "    )\n",
    ")"
   ]
  }
 ],
 "metadata": {
  "kernelspec": {
   "display_name": "Python 3 (ipykernel)",
   "language": "python",
   "name": "python3"
  },
  "language_info": {
   "codemirror_mode": {
    "name": "ipython",
    "version": 3
   },
   "file_extension": ".py",
   "mimetype": "text/x-python",
   "name": "python",
   "nbconvert_exporter": "python",
   "pygments_lexer": "ipython3",
   "version": "3.9.13"
  }
 },
 "nbformat": 4,
 "nbformat_minor": 5
}
