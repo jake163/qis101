{
 "cells": [
  {
   "cell_type": "code",
   "execution_count": 2,
   "id": "a0890b85-eb8b-437a-b302-8872deb27909",
   "metadata": {},
   "outputs": [
    {
     "data": {
      "text/latex": [
       "$$\n",
       "\\mathbf{\\lvert\\psi\\rangle}=\n",
       "\\begin{bmatrix}\n",
       "-3 - i  \\\\\n",
       " -2i  \\\\\n",
       " i  \\\\\n",
       " 2  \\\\\n",
       " \\end{bmatrix}\n",
       "$$"
      ],
      "text/plain": [
       "<IPython.core.display.Latex object>"
      ]
     },
     "metadata": {},
     "output_type": "display_data"
    },
    {
     "name": "stdout",
     "output_type": "stream",
     "text": [
      "Probability of outcome 2 = 5.2632%\n"
     ]
    }
   ],
   "source": [
    "# dirac_notation.ipynb\n",
    "\n",
    "# Cell 1 - Complex Amplitudes - Probability\n",
    "\n",
    "import numpy as np\n",
    "from IPython.display import Math\n",
    "from qiskit.visualization import array_to_latex\n",
    "\n",
    "psi = np.array([-3 - 1j, -2j, 1j, 2]) #one dim. vector, lowercase j is i in python\n",
    "norm_psi = np.linalg.norm(psi)\n",
    "c2 = abs(psi[2]) #computes psi dot psi*\n",
    "\n",
    "display(array_to_latex(psi[:, np.newaxis], prefix=r\"\\mathbf{\\lvert\\psi\\rangle}=\")) #array_to_latex\n",
    "#is helper function in qiskit, but we have to pass in a matrix (not 1-d vector). np.newaxis\n",
    "# converts psi into a matrix (4 x 1) from a vector (4 elements)\n",
    "print(f\"Probability of outcome 2 = {c2**2 / norm_psi**2:.4%}\")"
   ]
  },
  {
   "cell_type": "code",
   "execution_count": 3,
   "id": "d3a57077-358b-4b88-9cc3-9228bb92bfee",
   "metadata": {},
   "outputs": [
    {
     "data": {
      "text/latex": [
       "$\\displaystyle \\mathbf{s=}\\;(-2.3-11j)$"
      ],
      "text/plain": [
       "<IPython.core.display.Math object>"
      ]
     },
     "metadata": {},
     "output_type": "display_data"
    },
    {
     "data": {
      "text/latex": [
       "$$\n",
       "\\mathbf{(s)\\lvert\\psi\\rangle}=\n",
       "\\begin{bmatrix}\n",
       "-4.1 + 35.3i  \\\\\n",
       " -22 + 4.6i  \\\\\n",
       " 11 - 2.3i  \\\\\n",
       " -4.6 - 22i  \\\\\n",
       " \\end{bmatrix}\n",
       "$$"
      ],
      "text/plain": [
       "<IPython.core.display.Latex object>"
      ]
     },
     "metadata": {},
     "output_type": "display_data"
    },
    {
     "name": "stdout",
     "output_type": "stream",
     "text": [
      "Probability of outcome 2 = 5.2632%\n"
     ]
    }
   ],
   "source": [
    "# Cell 2 - Multiplying a ket by a scalar\n",
    "\n",
    "s = -2.3 - 11j\n",
    "s_psi = s * psi #multiplied psi by some amplitude\n",
    "\n",
    "norm_s_psi = np.linalg.norm(s_psi) #compute norm of s_psi\n",
    "c = abs(s_psi[2]) #magnitude of amplitude of c\n",
    "\n",
    "display(Math(rf\"\\mathbf{{s=}}\\;{s}\"))\n",
    "display(array_to_latex(s_psi[:, np.newaxis], prefix=r\"\\mathbf{(s)\\lvert\\psi\\rangle}=\"))\n",
    "\n",
    "print(f\"Probability of outcome 2 = {c**2 / norm_s_psi**2:.4%}\") #multiplying by constant doesn't\n",
    "#change probability"
   ]
  },
  {
   "cell_type": "code",
   "execution_count": 4,
   "id": "24945b94-5e75-466d-a8c1-de3c462e067a",
   "metadata": {},
   "outputs": [
    {
     "data": {
      "text/latex": [
       "$$\n",
       "\\mathbf{\\lvert\\psi\\rangle}=\n",
       "\\begin{bmatrix}\n",
       "2 - 3i  \\\\\n",
       " 1 + 2i  \\\\\n",
       " \\end{bmatrix}\n",
       "$$"
      ],
      "text/plain": [
       "<IPython.core.display.Latex object>"
      ]
     },
     "metadata": {},
     "output_type": "display_data"
    },
    {
     "data": {
      "text/latex": [
       "$\\displaystyle \\mathbf{\\|\\psi\\|}=\\;4.2426$"
      ],
      "text/plain": [
       "<IPython.core.display.Math object>"
      ]
     },
     "metadata": {},
     "output_type": "display_data"
    },
    {
     "data": {
      "text/latex": [
       "$$\n",
       "\\mathbf{\\frac{\\lvert\\psi\\rangle}{{\\|\\psi\\|}}}=\n",
       "\\begin{bmatrix}\n",
       "0.4714 - \\tfrac{1}{\\sqrt{2}}i  \\\\\n",
       " 0.2357 + 0.4714i  \\\\\n",
       " \\end{bmatrix}\n",
       "$$"
      ],
      "text/plain": [
       "<IPython.core.display.Latex object>"
      ]
     },
     "metadata": {},
     "output_type": "display_data"
    }
   ],
   "source": [
    "# Cell 3 - Normalizing a ket\n",
    "\n",
    "psi = np.array([2 - 3j, 1 + 2j]) #new ket\n",
    "\n",
    "norm_psi = np.linalg.norm(psi)#norm of psi\n",
    "normed_psi = psi / norm_psi #division is vectorized\n",
    "\n",
    "display(array_to_latex(psi[:, np.newaxis], prefix=r\"\\mathbf{\\lvert\\psi\\rangle}=\"))\n",
    "display(Math(rf\"\\mathbf{{\\|\\psi\\|}}=\\;{norm_psi:.4f}\"))\n",
    "display(\n",
    "    array_to_latex(\n",
    "        normed_psi[:, np.newaxis],\n",
    "        prefix=r\"\\mathbf{\\frac{\\lvert\\psi\\rangle}{{\\|\\psi\\|}}}=\",\n",
    "    )\n",
    ")"
   ]
  },
  {
   "cell_type": "code",
   "execution_count": 5,
   "id": "835ab5f8-5431-470d-be1c-07c1bee4515b",
   "metadata": {},
   "outputs": [
    {
     "data": {
      "text/latex": [
       "$$\n",
       "\\text{Start state:}\\;\\mathbf{\\lvert\\psi\\rangle}=\n",
       "\\begin{bmatrix}\n",
       "1  \\\\\n",
       " -i  \\\\\n",
       " \\end{bmatrix}\n",
       "$$"
      ],
      "text/plain": [
       "<IPython.core.display.Latex object>"
      ]
     },
     "metadata": {},
     "output_type": "display_data"
    },
    {
     "data": {
      "text/latex": [
       "$$\n",
       "\\text{End state:}\\;\\mathbf{\\lvert\\phi\\rangle}=\n",
       "\\begin{bmatrix}\n",
       "i  \\\\\n",
       " 1  \\\\\n",
       " \\end{bmatrix}\n",
       "$$"
      ],
      "text/plain": [
       "<IPython.core.display.Latex object>"
      ]
     },
     "metadata": {},
     "output_type": "display_data"
    },
    {
     "data": {
      "text/latex": [
       "$\\displaystyle \\mathbf{\\langle\\phi\\lvert\\psi\\rangle}=\\;0.0000-2.0000j$"
      ],
      "text/plain": [
       "<IPython.core.display.Math object>"
      ]
     },
     "metadata": {},
     "output_type": "display_data"
    },
    {
     "data": {
      "text/latex": [
       "$\\displaystyle \\mathbf{\\frac{\\langle\\phi\\lvert\\psi\\rangle}{\\lvert\\lvert\\phi\\rangle\\lvert\\;\\lvert\\lvert\\psi\\rangle\\lvert}}=\\;0.0000-1.0000j$"
      ],
      "text/plain": [
       "<IPython.core.display.Math object>"
      ]
     },
     "metadata": {},
     "output_type": "display_data"
    }
   ],
   "source": [
    "# Cell 4 - Transition amplitude\n",
    "\n",
    "# Start State\n",
    "psi = np.array([1, -1j]) #declare new initial ket\n",
    "\n",
    "# End State\n",
    "phi = np.array([1j, 1]) #declare final ket\n",
    "\n",
    "# Create Dirac \"bra-ket\"\n",
    "bra_phi = phi.conj().T #create the bra of phi\n",
    "bracket_phi_psi = np.dot(bra_phi, psi) #dots bra_phi with psi\n",
    "\n",
    "# Calculate transition amplitude\n",
    "norm_psi = np.linalg.norm(psi) #compute norm of psi\n",
    "norm_phi = np.linalg.norm(phi) #compute norm of phi\n",
    "amp = bracket_phi_psi / (norm_psi * norm_phi) #dot product over product of norms (transition\n",
    "#amplitude). \n",
    "\n",
    "display(\n",
    "    array_to_latex(\n",
    "        psi[:, np.newaxis], prefix=r\"\\text{Start state:}\\;\\mathbf{\\lvert\\psi\\rangle}=\"\n",
    "    )\n",
    ")\n",
    "display(\n",
    "    array_to_latex(\n",
    "        phi[:, np.newaxis], prefix=r\"\\text{End state:}\\;\\mathbf{\\lvert\\phi\\rangle}=\"\n",
    "    )\n",
    ")\n",
    "\n",
    "display(Math(rf\"\\mathbf{{\\langle\\phi\\lvert\\psi\\rangle}}=\\;{bracket_phi_psi:.4f}\"))\n",
    "\n",
    "display(\n",
    "    Math(\n",
    "        rf\"\\mathbf{{\\frac{{\\langle\\phi\\lvert\\psi\\rangle}}\"\n",
    "        rf\"{{\\lvert\\lvert\\phi\\rangle\\lvert\\;\\lvert\\lvert\\psi\\rangle\\lvert}}}}=\\;{amp:.4f}\"\n",
    "    )\n",
    ")"
   ]
  },
  {
   "cell_type": "code",
   "execution_count": null,
   "id": "cda66786-ffc7-491e-b495-54cde4202855",
   "metadata": {},
   "outputs": [],
   "source": []
  }
 ],
 "metadata": {
  "kernelspec": {
   "display_name": "Python 3 (ipykernel)",
   "language": "python",
   "name": "python3"
  },
  "language_info": {
   "codemirror_mode": {
    "name": "ipython",
    "version": 3
   },
   "file_extension": ".py",
   "mimetype": "text/x-python",
   "name": "python",
   "nbconvert_exporter": "python",
   "pygments_lexer": "ipython3",
   "version": "3.9.13"
  }
 },
 "nbformat": 4,
 "nbformat_minor": 5
}
