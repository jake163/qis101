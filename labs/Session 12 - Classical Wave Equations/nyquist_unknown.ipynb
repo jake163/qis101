{
 "cells": [
  {
   "cell_type": "code",
   "execution_count": null,
   "id": "96d0dfb4-d5b8-47b8-8716-f125ce26d489",
   "metadata": {},
   "outputs": [],
   "source": [
    "# nyquist_unknown.ipynb\n",
    "# Cell 1\n",
    "\n",
    "%matplotlib widget\n",
    "\n",
    "import matplotlib.pyplot as plt\n",
    "import numpy as np\n",
    "from matplotlib.ticker import AutoMinorLocator\n",
    "\n",
    "\n",
    "def f(x):\n",
    "    return (\n",
    "        np.sin(4 * np.pi * x)\n",
    "        * np.sin(6 * np.pi * x)\n",
    "        * np.sin(10 * np.pi * x)\n",
    "        * np.sin(14 * np.pi * x)\n",
    "    )\n",
    "\n",
    "\n",
    "def plot(ax, num_samples):\n",
    "    a = 0\n",
    "    b = 210\n",
    "\n",
    "    x = np.linspace(a, b, num_samples + 1)\n",
    "    y = f(x)\n",
    "\n",
    "    ax.set_title(f\"Unknown Waveform ({num_samples} samples)\")\n",
    "    ax.set_xlabel(\"x\")\n",
    "    ax.set_ylabel(\"y\")\n",
    "    ax.set_ylim(-1.1, 1.2)\n",
    "\n",
    "    ax.axhline(y=0.0, color=\"lightgray\")\n",
    "\n",
    "    ax.plot(\n",
    "        x,\n",
    "        y,\n",
    "        color=\"blue\",\n",
    "        linestyle=\"solid\",\n",
    "        marker=\"o\",\n",
    "        markerfacecolor=\"red\",\n",
    "        markersize=2,\n",
    "        markeredgecolor=\"red\",\n",
    "    )\n",
    "\n",
    "    ax.xaxis.set_minor_locator(AutoMinorLocator())\n",
    "    ax.yaxis.set_minor_locator(AutoMinorLocator())\n",
    "    \n",
    "    ax.figure.set_size_inches(11, 8.5)\n",
    "    ax.figure.savefig(\"nyquist_unknown.pdf\", dpi=600, orientation=\"landscape\")    \n",
    "\n",
    "\n",
    "def plot_samples(num_samples):\n",
    "    plt.close(\"all\")    \n",
    "    fig = plt.figure()\n",
    "    gs = fig.add_gridspec(1, 1)\n",
    "\n",
    "    ax = fig.add_subplot(gs[0, 0])\n",
    "    plot(ax, num_samples)\n",
    "\n",
    "    plt.show()\n",
    "\n",
    "\n",
    "plot_samples(num_samples=420)"
   ]
  },
  {
   "cell_type": "code",
   "execution_count": null,
   "id": "61b6277d-39a8-4b36-9480-fd4990f268f6",
   "metadata": {},
   "outputs": [],
   "source": [
    "# Cell 2\n",
    "\n",
    "plot_samples(num_samples=2940)"
   ]
  },
  {
   "cell_type": "code",
   "execution_count": null,
   "id": "8316f6ce-8c1c-43b0-8015-8688d3a7a506",
   "metadata": {},
   "outputs": [],
   "source": [
    "# Cell 3\n",
    "\n",
    "plot_samples(num_samples=2939)"
   ]
  }
 ],
 "metadata": {
  "kernelspec": {
   "display_name": "Python 3 (ipykernel)",
   "language": "python",
   "name": "python3"
  },
  "language_info": {
   "codemirror_mode": {
    "name": "ipython",
    "version": 3
   },
   "file_extension": ".py",
   "mimetype": "text/x-python",
   "name": "python",
   "nbconvert_exporter": "python",
   "pygments_lexer": "ipython3",
   "version": "3.9.13"
  }
 },
 "nbformat": 4,
 "nbformat_minor": 5
}
