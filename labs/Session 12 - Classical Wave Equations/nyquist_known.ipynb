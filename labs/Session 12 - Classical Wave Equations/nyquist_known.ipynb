{
 "cells": [
  {
   "cell_type": "code",
   "execution_count": null,
   "id": "312eba49-03a4-4995-8faa-bb9c815bb81f",
   "metadata": {},
   "outputs": [],
   "source": [
    "# nyquist_known.ipynb\n",
    "# Cell 1\n",
    "\n",
    "%matplotlib widget\n",
    "\n",
    "import matplotlib.pyplot as plt\n",
    "import numpy as np\n",
    "from matplotlib.ticker import AutoMinorLocator\n",
    "\n",
    "\n",
    "def plot(ax, num_samples):\n",
    "    a = 0\n",
    "    b = 20\n",
    "\n",
    "    x = np.linspace(a, b, num_samples + 1)\n",
    "    y = np.sin(4 / 5 * np.pi * x)\n",
    "\n",
    "    ax.set_title(r\"$y = \\sin(\\frac{4}{5} \\pi x )$\" f\" ({num_samples} samples)\")\n",
    "    ax.set_xlabel(\"x\")\n",
    "    ax.set_ylabel(\"y\")\n",
    "    ax.set_ylim(-1.1, 1.2)\n",
    "\n",
    "    ax.axhline(y=0.0, color=\"lightgray\")\n",
    "\n",
    "    ax.plot(\n",
    "        x,\n",
    "        y,\n",
    "        color=\"blue\",\n",
    "        linestyle=\"solid\",\n",
    "        marker=\"o\",\n",
    "        markerfacecolor=\"red\",\n",
    "        markersize=2,\n",
    "        markeredgecolor=\"red\",\n",
    "    )\n",
    "\n",
    "    ax.xaxis.set_minor_locator(AutoMinorLocator())\n",
    "    ax.yaxis.set_minor_locator(AutoMinorLocator())\n",
    "\n",
    "\n",
    "def plot_samples(num_samples):\n",
    "    plt.close(\"all\")\n",
    "    fig = plt.figure(\" \")\n",
    "    gs = fig.add_gridspec(1, 1)\n",
    "\n",
    "    ax = fig.add_subplot(gs[0, 0])\n",
    "    plot(ax, num_samples)\n",
    "\n",
    "    plt.show()\n",
    "\n",
    "\n",
    "plot_samples(num_samples=640)"
   ]
  },
  {
   "cell_type": "code",
   "execution_count": null,
   "id": "2a9f1536-c780-400d-bebe-507f12ba0132",
   "metadata": {},
   "outputs": [],
   "source": [
    "# Cell 2\n",
    "\n",
    "plot_samples(num_samples=15)"
   ]
  },
  {
   "cell_type": "code",
   "execution_count": null,
   "id": "f228a862-5962-4fd2-a4bc-be93e6b99590",
   "metadata": {},
   "outputs": [],
   "source": [
    "# Cell 3\n",
    "\n",
    "plot_samples(num_samples=17)"
   ]
  },
  {
   "cell_type": "code",
   "execution_count": null,
   "id": "aa1bd2cb-0844-47f7-a5a5-a816b6812a27",
   "metadata": {},
   "outputs": [],
   "source": [
    "# Cell 4\n",
    "\n",
    "plot_samples(num_samples=16)"
   ]
  },
  {
   "cell_type": "code",
   "execution_count": null,
   "id": "cc6f8f51-23dc-410b-ad18-928706c624e7",
   "metadata": {},
   "outputs": [],
   "source": [
    "# Cell 5\n",
    "\n",
    "plot_samples(num_samples=31)"
   ]
  },
  {
   "cell_type": "code",
   "execution_count": null,
   "id": "49ee898a-212e-4ebd-b545-146c17309c2b",
   "metadata": {},
   "outputs": [],
   "source": [
    "# Cell 6\n",
    "\n",
    "plot_samples(num_samples=33)"
   ]
  },
  {
   "cell_type": "code",
   "execution_count": null,
   "id": "d93efa73-c9ff-4acb-99c4-14ff34b409b3",
   "metadata": {},
   "outputs": [],
   "source": [
    "# Cell 7\n",
    "\n",
    "plot_samples(num_samples=32)"
   ]
  }
 ],
 "metadata": {
  "kernelspec": {
   "display_name": "Python 3 (ipykernel)",
   "language": "python",
   "name": "python3"
  },
  "language_info": {
   "codemirror_mode": {
    "name": "ipython",
    "version": 3
   },
   "file_extension": ".py",
   "mimetype": "text/x-python",
   "name": "python",
   "nbconvert_exporter": "python",
   "pygments_lexer": "ipython3",
   "version": "3.9.13"
  }
 },
 "nbformat": 4,
 "nbformat_minor": 5
}
