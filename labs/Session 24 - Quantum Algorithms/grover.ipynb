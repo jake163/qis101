{
 "cells": [
  {
   "cell_type": "code",
   "execution_count": null,
   "id": "6d0fa5bb-791e-4b0c-9ffd-3ca0b834f39c",
   "metadata": {
    "tags": []
   },
   "outputs": [],
   "source": [
    "# grover.ipynb\n",
    "\n",
    "# Cell 1 - Check qiskit install\n",
    "\n",
    "import matplotlib.pyplot as plt\n",
    "import numpy as np\n",
    "import qiskit\n",
    "from IPython.display import Math\n",
    "from qiskit import (\n",
    "    Aer,\n",
    "    ClassicalRegister,\n",
    "    QuantumCircuit,\n",
    "    QuantumRegister,\n",
    "    assemble,\n",
    "    execute,\n",
    ")\n",
    "from qiskit.quantum_info import Statevector\n",
    "from qiskit.visualization import (\n",
    "    array_to_latex,\n",
    "    plot_bloch_multivector,\n",
    "    plot_histogram,\n",
    "    plot_state_qsphere,\n",
    ")\n",
    "\n",
    "for module, version in qiskit.__qiskit_version__.items():\n",
    "    print(module, \":\", version)"
   ]
  },
  {
   "cell_type": "code",
   "execution_count": null,
   "id": "4f42b007-a61f-43be-a07c-9da536f822b8",
   "metadata": {},
   "outputs": [],
   "source": [
    "# Cell 2 - Grover's Algorithm\n",
    "# Note: The oracle set to |11>\n",
    "\n",
    "qc = QuantumCircuit(2)\n",
    "\n",
    "qc.h(0)\n",
    "qc.h(1)\n",
    "qc.save_statevector(\"sv1\")\n",
    "qc.cz(0, 1)\n",
    "qc.save_statevector(\"sv2\")\n",
    "qc.h(0)\n",
    "qc.h(1)\n",
    "qc.save_statevector(\"sv3\")\n",
    "qc.z(0)\n",
    "qc.z(1)\n",
    "qc.save_statevector(\"sv4\")\n",
    "qc.cz(0, 1)\n",
    "qc.save_statevector(\"sv5\")\n",
    "qc.h(0)\n",
    "qc.h(1)\n",
    "qc.save_statevector()\n",
    "qc.measure_all()\n",
    "\n",
    "display(qc.draw(output=\"mpl\", scale=1.5))\n",
    "\n",
    "result = execute(qc, backend, shots=1).result()\n",
    "counts = result.get_counts()\n",
    "\n",
    "sv1 = result.data(0)[\"sv1\"]\n",
    "sv2 = result.data(0)[\"sv2\"]\n",
    "sv3 = result.data(0)[\"sv3\"]\n",
    "sv4 = result.data(0)[\"sv4\"]\n",
    "sv5 = result.data(0)[\"sv5\"]\n",
    "sv6 = result.get_statevector()\n",
    "\n",
    "display(array_to_latex(sv1, prefix=\"\\\\text{Statevector 1} = \"))\n",
    "display(array_to_latex(sv2, prefix=\"\\\\text{Statevector 2} = \"))\n",
    "display(array_to_latex(sv3, prefix=\"\\\\text{Statevector 3} = \"))\n",
    "display(array_to_latex(sv4, prefix=\"\\\\text{Statevector 4} = \"))\n",
    "display(array_to_latex(sv5, prefix=\"\\\\text{Statevector 5} = \"))\n",
    "display(array_to_latex(sv6, prefix=\"\\\\text{Statevector 6} = \"))\n",
    "\n",
    "display(plot_histogram(counts))"
   ]
  },
  {
   "cell_type": "code",
   "execution_count": null,
   "id": "46af6fa4-60cf-4d0c-82fe-584862f33f22",
   "metadata": {
    "tags": []
   },
   "outputs": [],
   "source": [
    "# Cell 3 - Build Grover Oracle to search for |11>\n",
    "\n",
    "qc = QuantumCircuit(2)\n",
    "qc.cz(0, 1)\n",
    "qc.save_unitary()\n",
    "result = execute(qc, backend, shots=1).result()\n",
    "unitary = result.get_unitary()\n",
    "array_to_latex(unitary, prefix=\"\\\\text{Circuit = }\\n\")"
   ]
  },
  {
   "cell_type": "code",
   "execution_count": null,
   "id": "498de26e-5c7f-4928-b44a-ca8026a7c2d4",
   "metadata": {
    "tags": []
   },
   "outputs": [],
   "source": [
    "# Cell 4 - Build Grover Oracle to search for |10>\n",
    "\n",
    "qc = QuantumCircuit(2)\n",
    "qc.z(1)\n",
    "qc.cz(0, 1)\n",
    "qc.save_unitary()\n",
    "result = execute(qc, backend, shots=1).result()\n",
    "unitary = result.get_unitary()\n",
    "array_to_latex(unitary, prefix=\"\\\\text{Circuit = }\\n\")"
   ]
  },
  {
   "cell_type": "code",
   "execution_count": null,
   "id": "8280a2fe-0b06-493f-8407-480242647d63",
   "metadata": {
    "tags": []
   },
   "outputs": [],
   "source": [
    "# Cell 5 -  Build Grover Oracle to search for |01>\n",
    "\n",
    "qc = QuantumCircuit(2)\n",
    "qc.z(0)\n",
    "qc.cz(0, 1)\n",
    "qc.save_unitary()\n",
    "result = execute(qc, backend, shots=1).result()\n",
    "unitary = result.get_unitary()\n",
    "array_to_latex(unitary, prefix=\"\\\\text{Circuit = }\\n\")"
   ]
  },
  {
   "cell_type": "code",
   "execution_count": null,
   "id": "b772da19-90a2-4ca2-9764-892b4ef03b02",
   "metadata": {
    "tags": []
   },
   "outputs": [],
   "source": [
    "# Cell 6 - Build Grover Oracle to search for |00>\n",
    "qc = QuantumCircuit(2)\n",
    "qc.x(0)\n",
    "qc.x(1)\n",
    "qc.cz(0, 1)\n",
    "qc.x(0)\n",
    "qc.x(1)\n",
    "qc.save_unitary()\n",
    "result = execute(qc, backend, shots=1).result()\n",
    "unitary = result.get_unitary()\n",
    "array_to_latex(unitary, prefix=\"\\\\text{Circuit = }\\n\")"
   ]
  }
 ],
 "metadata": {
  "kernelspec": {
   "display_name": "Python 3 (ipykernel)",
   "language": "python",
   "name": "python3"
  },
  "language_info": {
   "codemirror_mode": {
    "name": "ipython",
    "version": 3
   },
   "file_extension": ".py",
   "mimetype": "text/x-python",
   "name": "python",
   "nbconvert_exporter": "python",
   "pygments_lexer": "ipython3",
   "version": "3.9.13"
  }
 },
 "nbformat": 4,
 "nbformat_minor": 5
}
