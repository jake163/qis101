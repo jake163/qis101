{
 "cells": [
  {
   "cell_type": "code",
   "execution_count": null,
   "id": "6d0fa5bb-791e-4b0c-9ffd-3ca0b834f39c",
   "metadata": {
    "tags": []
   },
   "outputs": [],
   "source": [
    "# superdense_coding.ipynb\n",
    "\n",
    "# Cell 1\n",
    "\n",
    "import matplotlib.pyplot as plt\n",
    "import numpy as np\n",
    "import qiskit\n",
    "from IPython.display import Math\n",
    "from qiskit import (\n",
    "    Aer,\n",
    "    ClassicalRegister,\n",
    "    QuantumCircuit,\n",
    "    QuantumRegister,\n",
    "    assemble,\n",
    "    execute,\n",
    ")\n",
    "from qiskit.quantum_info import Statevector\n",
    "from qiskit.visualization import (\n",
    "    array_to_latex,\n",
    "    plot_bloch_multivector,\n",
    "    plot_histogram,\n",
    "    plot_state_qsphere,\n",
    ")\n",
    "\n",
    "backend = Aer.get_backend(\"aer_simulator\")\n",
    "\n",
    "qc = QuantumCircuit(2)\n",
    "qc.h(0)\n",
    "qc.cx(0, 1)\n",
    "qc.save_statevector(\"sv1\")\n",
    "\n",
    "n = 0\n",
    "\n",
    "if n & 2 == 2:\n",
    "    qc.x(0)\n",
    "if n & 1 == 1:\n",
    "    qc.z(0)\n",
    "\n",
    "qc.cx(0, 1)\n",
    "qc.h(0)\n",
    "qc.save_statevector()\n",
    "qc.measure_all()\n",
    "\n",
    "result = execute(qc, backend, shots=1).result()\n",
    "counts = result.get_counts()\n",
    "\n",
    "display(qc.draw(output=\"mpl\", scale=1.5))\n",
    "\n",
    "sv1 = result.data(0)[\"sv1\"]\n",
    "sv2 = result.get_statevector()\n",
    "\n",
    "display(array_to_latex(sv1, prefix=\"\\\\text{Statevector 1} = \"))\n",
    "display(array_to_latex(sv2, prefix=\"\\\\text{Statevector 2} = \"))\n",
    "\n",
    "display(plot_histogram(counts))"
   ]
  }
 ],
 "metadata": {
  "kernelspec": {
   "display_name": "Python 3 (ipykernel)",
   "language": "python",
   "name": "python3"
  },
  "language_info": {
   "codemirror_mode": {
    "name": "ipython",
    "version": 3
   },
   "file_extension": ".py",
   "mimetype": "text/x-python",
   "name": "python",
   "nbconvert_exporter": "python",
   "pygments_lexer": "ipython3",
   "version": "3.9.13"
  }
 },
 "nbformat": 4,
 "nbformat_minor": 5
}
